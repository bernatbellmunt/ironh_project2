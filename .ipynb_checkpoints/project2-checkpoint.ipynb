{
 "cells": [
  {
   "cell_type": "code",
   "execution_count": 331,
   "metadata": {},
   "outputs": [],
   "source": [
    "import pandas as pd\n",
    "from pandas import json_normalize\n",
    "import re\n",
    "import requests \n",
    "import json\n",
    "import os\n",
    "import numpy as np\n",
    "import seaborn as sns\n",
    "from dotenv import load_dotenv #conda install -c conda-forge python-dotenv\n",
    "import plotly.express as px\n",
    "import plotly as plt\n",
    "sns.set_palette(\"rocket\")\n",
    "\n",
    "import time"
   ]
  },
  {
   "cell_type": "code",
   "execution_count": 6,
   "metadata": {},
   "outputs": [
    {
     "data": {
      "text/plain": [
       "True"
      ]
     },
     "execution_count": 6,
     "metadata": {},
     "output_type": "execute_result"
    }
   ],
   "source": [
    "key = os.getenv(\"key\")\n",
    "secret = os.getenv(\"secret\")\n",
    "load_dotenv()\n"
   ]
  },
  {
   "cell_type": "code",
   "execution_count": 7,
   "metadata": {},
   "outputs": [],
   "source": [
    "url = f\"https://api.nytimes.com/svc/books/v3/lists/full-overview.json?api-key={key}\"\n",
    "books = requests.get(url).json()"
   ]
  },
  {
   "cell_type": "code",
   "execution_count": 8,
   "metadata": {},
   "outputs": [],
   "source": [
    "booksdf = pd.DataFrame(books)\n"
   ]
  },
  {
   "cell_type": "code",
   "execution_count": 9,
   "metadata": {
    "scrolled": true
   },
   "outputs": [
    {
     "data": {
      "text/html": [
       "<div>\n",
       "<style scoped>\n",
       "    .dataframe tbody tr th:only-of-type {\n",
       "        vertical-align: middle;\n",
       "    }\n",
       "\n",
       "    .dataframe tbody tr th {\n",
       "        vertical-align: top;\n",
       "    }\n",
       "\n",
       "    .dataframe thead th {\n",
       "        text-align: right;\n",
       "    }\n",
       "</style>\n",
       "<table border=\"1\" class=\"dataframe\">\n",
       "  <thead>\n",
       "    <tr style=\"text-align: right;\">\n",
       "      <th></th>\n",
       "      <th>status</th>\n",
       "      <th>copyright</th>\n",
       "      <th>num_results</th>\n",
       "      <th>results</th>\n",
       "    </tr>\n",
       "  </thead>\n",
       "  <tbody>\n",
       "    <tr>\n",
       "      <th>bestsellers_date</th>\n",
       "      <td>OK</td>\n",
       "      <td>Copyright (c) 2022 The New York Times Company....</td>\n",
       "      <td>230</td>\n",
       "      <td>2022-10-15</td>\n",
       "    </tr>\n",
       "    <tr>\n",
       "      <th>lists</th>\n",
       "      <td>OK</td>\n",
       "      <td>Copyright (c) 2022 The New York Times Company....</td>\n",
       "      <td>230</td>\n",
       "      <td>[{'list_id': 704, 'list_name': 'Combined Print...</td>\n",
       "    </tr>\n",
       "    <tr>\n",
       "      <th>next_published_date</th>\n",
       "      <td>OK</td>\n",
       "      <td>Copyright (c) 2022 The New York Times Company....</td>\n",
       "      <td>230</td>\n",
       "      <td></td>\n",
       "    </tr>\n",
       "    <tr>\n",
       "      <th>previous_published_date</th>\n",
       "      <td>OK</td>\n",
       "      <td>Copyright (c) 2022 The New York Times Company....</td>\n",
       "      <td>230</td>\n",
       "      <td>2022-10-23</td>\n",
       "    </tr>\n",
       "    <tr>\n",
       "      <th>published_date</th>\n",
       "      <td>OK</td>\n",
       "      <td>Copyright (c) 2022 The New York Times Company....</td>\n",
       "      <td>230</td>\n",
       "      <td>2022-10-30</td>\n",
       "    </tr>\n",
       "    <tr>\n",
       "      <th>published_date_description</th>\n",
       "      <td>OK</td>\n",
       "      <td>Copyright (c) 2022 The New York Times Company....</td>\n",
       "      <td>230</td>\n",
       "      <td>latest</td>\n",
       "    </tr>\n",
       "  </tbody>\n",
       "</table>\n",
       "</div>"
      ],
      "text/plain": [
       "                           status  \\\n",
       "bestsellers_date               OK   \n",
       "lists                          OK   \n",
       "next_published_date            OK   \n",
       "previous_published_date        OK   \n",
       "published_date                 OK   \n",
       "published_date_description     OK   \n",
       "\n",
       "                                                                    copyright  \\\n",
       "bestsellers_date            Copyright (c) 2022 The New York Times Company....   \n",
       "lists                       Copyright (c) 2022 The New York Times Company....   \n",
       "next_published_date         Copyright (c) 2022 The New York Times Company....   \n",
       "previous_published_date     Copyright (c) 2022 The New York Times Company....   \n",
       "published_date              Copyright (c) 2022 The New York Times Company....   \n",
       "published_date_description  Copyright (c) 2022 The New York Times Company....   \n",
       "\n",
       "                            num_results  \\\n",
       "bestsellers_date                    230   \n",
       "lists                               230   \n",
       "next_published_date                 230   \n",
       "previous_published_date             230   \n",
       "published_date                      230   \n",
       "published_date_description          230   \n",
       "\n",
       "                                                                      results  \n",
       "bestsellers_date                                                   2022-10-15  \n",
       "lists                       [{'list_id': 704, 'list_name': 'Combined Print...  \n",
       "next_published_date                                                            \n",
       "previous_published_date                                            2022-10-23  \n",
       "published_date                                                     2022-10-30  \n",
       "published_date_description                                             latest  "
      ]
     },
     "execution_count": 9,
     "metadata": {},
     "output_type": "execute_result"
    }
   ],
   "source": [
    "booksdf"
   ]
  },
  {
   "cell_type": "code",
   "execution_count": 10,
   "metadata": {},
   "outputs": [],
   "source": [
    "listbooks = booksdf[\"results\"][\"lists\"]"
   ]
  },
  {
   "cell_type": "code",
   "execution_count": 11,
   "metadata": {},
   "outputs": [
    {
     "data": {
      "text/html": [
       "<div>\n",
       "<style scoped>\n",
       "    .dataframe tbody tr th:only-of-type {\n",
       "        vertical-align: middle;\n",
       "    }\n",
       "\n",
       "    .dataframe tbody tr th {\n",
       "        vertical-align: top;\n",
       "    }\n",
       "\n",
       "    .dataframe thead th {\n",
       "        text-align: right;\n",
       "    }\n",
       "</style>\n",
       "<table border=\"1\" class=\"dataframe\">\n",
       "  <thead>\n",
       "    <tr style=\"text-align: right;\">\n",
       "      <th></th>\n",
       "      <th>list_id</th>\n",
       "      <th>list_name</th>\n",
       "      <th>list_name_encoded</th>\n",
       "      <th>display_name</th>\n",
       "      <th>updated</th>\n",
       "      <th>list_image</th>\n",
       "      <th>list_image_width</th>\n",
       "      <th>list_image_height</th>\n",
       "      <th>books</th>\n",
       "    </tr>\n",
       "  </thead>\n",
       "  <tbody>\n",
       "    <tr>\n",
       "      <th>0</th>\n",
       "      <td>704</td>\n",
       "      <td>Combined Print and E-Book Fiction</td>\n",
       "      <td>combined-print-and-e-book-fiction</td>\n",
       "      <td>Combined Print &amp; E-Book Fiction</td>\n",
       "      <td>WEEKLY</td>\n",
       "      <td>None</td>\n",
       "      <td>None</td>\n",
       "      <td>None</td>\n",
       "      <td>[{'age_group': '', 'amazon_product_url': 'http...</td>\n",
       "    </tr>\n",
       "    <tr>\n",
       "      <th>1</th>\n",
       "      <td>708</td>\n",
       "      <td>Combined Print and E-Book Nonfiction</td>\n",
       "      <td>combined-print-and-e-book-nonfiction</td>\n",
       "      <td>Combined Print &amp; E-Book Nonfiction</td>\n",
       "      <td>WEEKLY</td>\n",
       "      <td>None</td>\n",
       "      <td>None</td>\n",
       "      <td>None</td>\n",
       "      <td>[{'age_group': '', 'amazon_product_url': 'http...</td>\n",
       "    </tr>\n",
       "    <tr>\n",
       "      <th>2</th>\n",
       "      <td>1</td>\n",
       "      <td>Hardcover Fiction</td>\n",
       "      <td>hardcover-fiction</td>\n",
       "      <td>Hardcover Fiction</td>\n",
       "      <td>WEEKLY</td>\n",
       "      <td>None</td>\n",
       "      <td>None</td>\n",
       "      <td>None</td>\n",
       "      <td>[{'age_group': '', 'amazon_product_url': 'http...</td>\n",
       "    </tr>\n",
       "    <tr>\n",
       "      <th>3</th>\n",
       "      <td>2</td>\n",
       "      <td>Hardcover Nonfiction</td>\n",
       "      <td>hardcover-nonfiction</td>\n",
       "      <td>Hardcover Nonfiction</td>\n",
       "      <td>WEEKLY</td>\n",
       "      <td>None</td>\n",
       "      <td>None</td>\n",
       "      <td>None</td>\n",
       "      <td>[{'age_group': '', 'amazon_product_url': 'http...</td>\n",
       "    </tr>\n",
       "    <tr>\n",
       "      <th>4</th>\n",
       "      <td>17</td>\n",
       "      <td>Trade Fiction Paperback</td>\n",
       "      <td>trade-fiction-paperback</td>\n",
       "      <td>Paperback Trade Fiction</td>\n",
       "      <td>WEEKLY</td>\n",
       "      <td>None</td>\n",
       "      <td>None</td>\n",
       "      <td>None</td>\n",
       "      <td>[{'age_group': '', 'amazon_product_url': 'http...</td>\n",
       "    </tr>\n",
       "  </tbody>\n",
       "</table>\n",
       "</div>"
      ],
      "text/plain": [
       "   list_id                             list_name  \\\n",
       "0      704     Combined Print and E-Book Fiction   \n",
       "1      708  Combined Print and E-Book Nonfiction   \n",
       "2        1                     Hardcover Fiction   \n",
       "3        2                  Hardcover Nonfiction   \n",
       "4       17               Trade Fiction Paperback   \n",
       "\n",
       "                      list_name_encoded                        display_name  \\\n",
       "0     combined-print-and-e-book-fiction     Combined Print & E-Book Fiction   \n",
       "1  combined-print-and-e-book-nonfiction  Combined Print & E-Book Nonfiction   \n",
       "2                     hardcover-fiction                   Hardcover Fiction   \n",
       "3                  hardcover-nonfiction                Hardcover Nonfiction   \n",
       "4               trade-fiction-paperback             Paperback Trade Fiction   \n",
       "\n",
       "  updated list_image list_image_width list_image_height  \\\n",
       "0  WEEKLY       None             None              None   \n",
       "1  WEEKLY       None             None              None   \n",
       "2  WEEKLY       None             None              None   \n",
       "3  WEEKLY       None             None              None   \n",
       "4  WEEKLY       None             None              None   \n",
       "\n",
       "                                               books  \n",
       "0  [{'age_group': '', 'amazon_product_url': 'http...  \n",
       "1  [{'age_group': '', 'amazon_product_url': 'http...  \n",
       "2  [{'age_group': '', 'amazon_product_url': 'http...  \n",
       "3  [{'age_group': '', 'amazon_product_url': 'http...  \n",
       "4  [{'age_group': '', 'amazon_product_url': 'http...  "
      ]
     },
     "execution_count": 11,
     "metadata": {},
     "output_type": "execute_result"
    }
   ],
   "source": [
    "# llista\n",
    "dflistbooks = pd.DataFrame(listbooks)\n",
    "dflistbooks.head()"
   ]
  },
  {
   "cell_type": "code",
   "execution_count": 12,
   "metadata": {},
   "outputs": [],
   "source": [
    "books = dflistbooks[\"books\"]"
   ]
  },
  {
   "cell_type": "code",
   "execution_count": 13,
   "metadata": {},
   "outputs": [
    {
     "data": {
      "text/plain": [
       "array(['Combined Print and E-Book Fiction',\n",
       "       'Combined Print and E-Book Nonfiction', 'Hardcover Fiction',\n",
       "       'Hardcover Nonfiction', 'Trade Fiction Paperback',\n",
       "       'Paperback Nonfiction', 'Advice How-To and Miscellaneous',\n",
       "       'Childrens Middle Grade Hardcover', 'Picture Books',\n",
       "       'Series Books', 'Young Adult Hardcover', 'Audio Fiction',\n",
       "       'Audio Nonfiction', 'Business Books', 'Graphic Books and Manga',\n",
       "       'Mass Market Monthly', 'Middle Grade Paperback Monthly',\n",
       "       'Young Adult Paperback Monthly'], dtype=object)"
      ]
     },
     "execution_count": 13,
     "metadata": {},
     "output_type": "execute_result"
    }
   ],
   "source": [
    "categories_list = dflistbooks[\"list_name\"].unique()\n",
    "categories_list"
   ]
  },
  {
   "cell_type": "code",
   "execution_count": 14,
   "metadata": {},
   "outputs": [
    {
     "data": {
      "text/html": [
       "<div>\n",
       "<style scoped>\n",
       "    .dataframe tbody tr th:only-of-type {\n",
       "        vertical-align: middle;\n",
       "    }\n",
       "\n",
       "    .dataframe tbody tr th {\n",
       "        vertical-align: top;\n",
       "    }\n",
       "\n",
       "    .dataframe thead th {\n",
       "        text-align: right;\n",
       "    }\n",
       "</style>\n",
       "<table border=\"1\" class=\"dataframe\">\n",
       "  <thead>\n",
       "    <tr style=\"text-align: right;\">\n",
       "      <th></th>\n",
       "      <th>age_group</th>\n",
       "      <th>amazon_product_url</th>\n",
       "      <th>article_chapter_link</th>\n",
       "      <th>author</th>\n",
       "      <th>book_image</th>\n",
       "      <th>book_image_width</th>\n",
       "      <th>book_image_height</th>\n",
       "      <th>book_review_link</th>\n",
       "      <th>book_uri</th>\n",
       "      <th>contributor</th>\n",
       "      <th>...</th>\n",
       "      <th>primary_isbn10</th>\n",
       "      <th>primary_isbn13</th>\n",
       "      <th>publisher</th>\n",
       "      <th>rank</th>\n",
       "      <th>rank_last_week</th>\n",
       "      <th>sunday_review_link</th>\n",
       "      <th>title</th>\n",
       "      <th>updated_date</th>\n",
       "      <th>weeks_on_list</th>\n",
       "      <th>buy_links</th>\n",
       "    </tr>\n",
       "  </thead>\n",
       "  <tbody>\n",
       "    <tr>\n",
       "      <th>0</th>\n",
       "      <td></td>\n",
       "      <td>https://www.amazon.com/dp/1538719827?tag=NYTBS...</td>\n",
       "      <td></td>\n",
       "      <td>David Baldacci</td>\n",
       "      <td>https://storage.googleapis.com/du-prd/books/im...</td>\n",
       "      <td>331</td>\n",
       "      <td>500</td>\n",
       "      <td></td>\n",
       "      <td>nyt://book/3368422a-b609-552d-9b3a-c50233b2c12a</td>\n",
       "      <td>by David Baldacci</td>\n",
       "      <td>...</td>\n",
       "      <td>1538719797</td>\n",
       "      <td>9781538719794</td>\n",
       "      <td>Grand Central</td>\n",
       "      <td>1</td>\n",
       "      <td>0</td>\n",
       "      <td></td>\n",
       "      <td>LONG SHADOWS</td>\n",
       "      <td>2022-10-19 22:26:48</td>\n",
       "      <td>1</td>\n",
       "      <td>[{'name': 'Amazon', 'url': 'https://www.amazon...</td>\n",
       "    </tr>\n",
       "    <tr>\n",
       "      <th>1</th>\n",
       "      <td></td>\n",
       "      <td>https://www.amazon.com/dp/1501101781?tag=NYTBS...</td>\n",
       "      <td></td>\n",
       "      <td>Nelson DeMille</td>\n",
       "      <td>https://storage.googleapis.com/du-prd/books/im...</td>\n",
       "      <td>331</td>\n",
       "      <td>500</td>\n",
       "      <td></td>\n",
       "      <td>nyt://book/93487d56-408a-54d4-951c-3666e9898807</td>\n",
       "      <td>by Nelson DeMille</td>\n",
       "      <td>...</td>\n",
       "      <td>1501101803</td>\n",
       "      <td>9781501101809</td>\n",
       "      <td>Scribner</td>\n",
       "      <td>2</td>\n",
       "      <td>0</td>\n",
       "      <td></td>\n",
       "      <td>THE MAZE</td>\n",
       "      <td>2022-10-19 22:26:48</td>\n",
       "      <td>1</td>\n",
       "      <td>[{'name': 'Amazon', 'url': 'https://www.amazon...</td>\n",
       "    </tr>\n",
       "    <tr>\n",
       "      <th>2</th>\n",
       "      <td></td>\n",
       "      <td>https://www.amazon.com/dp/1791392792?tag=NYTBS...</td>\n",
       "      <td></td>\n",
       "      <td>Colleen Hoover</td>\n",
       "      <td>https://storage.googleapis.com/du-prd/books/im...</td>\n",
       "      <td>324</td>\n",
       "      <td>500</td>\n",
       "      <td></td>\n",
       "      <td>nyt://book/013c7729-a1de-5e5c-921a-da43243f9a4a</td>\n",
       "      <td>by Colleen Hoover</td>\n",
       "      <td>...</td>\n",
       "      <td>1538724731</td>\n",
       "      <td>9781538724736</td>\n",
       "      <td>Grand Central</td>\n",
       "      <td>3</td>\n",
       "      <td>2</td>\n",
       "      <td></td>\n",
       "      <td>VERITY</td>\n",
       "      <td>2022-10-19 22:26:48</td>\n",
       "      <td>45</td>\n",
       "      <td>[{'name': 'Amazon', 'url': 'https://www.amazon...</td>\n",
       "    </tr>\n",
       "    <tr>\n",
       "      <th>3</th>\n",
       "      <td></td>\n",
       "      <td>http://www.amazon.com/Ends-Us-Novel-Colleen-Ho...</td>\n",
       "      <td></td>\n",
       "      <td>Colleen Hoover</td>\n",
       "      <td>https://storage.googleapis.com/du-prd/books/im...</td>\n",
       "      <td>319</td>\n",
       "      <td>495</td>\n",
       "      <td></td>\n",
       "      <td>nyt://book/e2a3545e-e9cb-5828-9d97-50a798a0e4f6</td>\n",
       "      <td>by Colleen Hoover</td>\n",
       "      <td>...</td>\n",
       "      <td>1501110365</td>\n",
       "      <td>9781501110368</td>\n",
       "      <td>Atria</td>\n",
       "      <td>4</td>\n",
       "      <td>3</td>\n",
       "      <td></td>\n",
       "      <td>IT ENDS WITH US</td>\n",
       "      <td>2022-10-19 22:26:48</td>\n",
       "      <td>70</td>\n",
       "      <td>[{'name': 'Amazon', 'url': 'http://www.amazon....</td>\n",
       "    </tr>\n",
       "    <tr>\n",
       "      <th>4</th>\n",
       "      <td></td>\n",
       "      <td>https://www.amazon.com/dp/1668002175?tag=NYTBS...</td>\n",
       "      <td></td>\n",
       "      <td>Stephen King</td>\n",
       "      <td>https://storage.googleapis.com/du-prd/books/im...</td>\n",
       "      <td>329</td>\n",
       "      <td>500</td>\n",
       "      <td></td>\n",
       "      <td>nyt://book/1c203c2d-147d-5639-8e0c-009ba6f15698</td>\n",
       "      <td>by Stephen King</td>\n",
       "      <td>...</td>\n",
       "      <td>1668002175</td>\n",
       "      <td>9781668002179</td>\n",
       "      <td>Scribner</td>\n",
       "      <td>5</td>\n",
       "      <td>5</td>\n",
       "      <td></td>\n",
       "      <td>FAIRY TALE</td>\n",
       "      <td>2022-10-19 22:26:48</td>\n",
       "      <td>6</td>\n",
       "      <td>[{'name': 'Amazon', 'url': 'https://www.amazon...</td>\n",
       "    </tr>\n",
       "    <tr>\n",
       "      <th>...</th>\n",
       "      <td>...</td>\n",
       "      <td>...</td>\n",
       "      <td>...</td>\n",
       "      <td>...</td>\n",
       "      <td>...</td>\n",
       "      <td>...</td>\n",
       "      <td>...</td>\n",
       "      <td>...</td>\n",
       "      <td>...</td>\n",
       "      <td>...</td>\n",
       "      <td>...</td>\n",
       "      <td>...</td>\n",
       "      <td>...</td>\n",
       "      <td>...</td>\n",
       "      <td>...</td>\n",
       "      <td>...</td>\n",
       "      <td>...</td>\n",
       "      <td>...</td>\n",
       "      <td>...</td>\n",
       "      <td>...</td>\n",
       "      <td>...</td>\n",
       "    </tr>\n",
       "    <tr>\n",
       "      <th>225</th>\n",
       "      <td></td>\n",
       "      <td>https://www.amazon.com/Long-Way-Down-Jason-Rey...</td>\n",
       "      <td></td>\n",
       "      <td>Jason Reynolds</td>\n",
       "      <td>https://storage.googleapis.com/du-prd/books/im...</td>\n",
       "      <td>328</td>\n",
       "      <td>495</td>\n",
       "      <td></td>\n",
       "      <td>nyt://book/434525fe-4696-5f1c-a6d3-de2fbd14c542</td>\n",
       "      <td>by Jason Reynolds</td>\n",
       "      <td>...</td>\n",
       "      <td>1481438263</td>\n",
       "      <td>9781481438261</td>\n",
       "      <td>Atheneum/Caitlyn Dlouhy</td>\n",
       "      <td>6</td>\n",
       "      <td>0</td>\n",
       "      <td></td>\n",
       "      <td>LONG WAY DOWN</td>\n",
       "      <td>2022-10-05 22:58:17</td>\n",
       "      <td>0</td>\n",
       "      <td>[{'name': 'Amazon', 'url': 'https://www.amazon...</td>\n",
       "    </tr>\n",
       "    <tr>\n",
       "      <th>226</th>\n",
       "      <td></td>\n",
       "      <td>http://www.amazon.com/Absolutely-True-Diary-Pa...</td>\n",
       "      <td></td>\n",
       "      <td>Sherman Alexie.</td>\n",
       "      <td>https://storage.googleapis.com/du-prd/books/im...</td>\n",
       "      <td>322</td>\n",
       "      <td>495</td>\n",
       "      <td></td>\n",
       "      <td>nyt://book/dbe607f5-6f94-5709-b06b-42087923b34f</td>\n",
       "      <td>by Sherman Alexie. Illustrated by Ellen Forney</td>\n",
       "      <td>...</td>\n",
       "      <td>0316013692</td>\n",
       "      <td>9780316013697</td>\n",
       "      <td>Little, Brown</td>\n",
       "      <td>7</td>\n",
       "      <td>0</td>\n",
       "      <td>https://www.nytimes.com/2007/11/11/books/revie...</td>\n",
       "      <td>THE ABSOLUTELY TRUE DIARY OF A PART-TIME INDIAN</td>\n",
       "      <td>2022-10-05 22:58:17</td>\n",
       "      <td>0</td>\n",
       "      <td>[{'name': 'Amazon', 'url': 'http://www.amazon....</td>\n",
       "    </tr>\n",
       "    <tr>\n",
       "      <th>227</th>\n",
       "      <td></td>\n",
       "      <td>https://www.amazon.com/dp/0593403983?tag=NYTBS...</td>\n",
       "      <td></td>\n",
       "      <td>Ginny Myers Sain</td>\n",
       "      <td>https://storage.googleapis.com/du-prd/books/im...</td>\n",
       "      <td>331</td>\n",
       "      <td>500</td>\n",
       "      <td></td>\n",
       "      <td>nyt://book/1dc352af-f128-5106-b0bd-5931855295f0</td>\n",
       "      <td>by Ginny Myers Sain</td>\n",
       "      <td>...</td>\n",
       "      <td>0593403983</td>\n",
       "      <td>9780593403983</td>\n",
       "      <td>Razorbill</td>\n",
       "      <td>8</td>\n",
       "      <td>0</td>\n",
       "      <td></td>\n",
       "      <td>DARK AND SHALLOW LIES</td>\n",
       "      <td>2022-10-05 22:58:17</td>\n",
       "      <td>0</td>\n",
       "      <td>[{'name': 'Amazon', 'url': 'https://www.amazon...</td>\n",
       "    </tr>\n",
       "    <tr>\n",
       "      <th>228</th>\n",
       "      <td></td>\n",
       "      <td>http://www.amazon.com/Six-Crows-Leigh-Bardugo/...</td>\n",
       "      <td></td>\n",
       "      <td>Leigh Bardugo</td>\n",
       "      <td>https://storage.googleapis.com/du-prd/books/im...</td>\n",
       "      <td>330</td>\n",
       "      <td>491</td>\n",
       "      <td></td>\n",
       "      <td>nyt://book/90141a33-530f-5f44-a4b9-90ef74230800</td>\n",
       "      <td>by Leigh Bardugo</td>\n",
       "      <td>...</td>\n",
       "      <td>125007696X</td>\n",
       "      <td>9781250076960</td>\n",
       "      <td>Square Fish</td>\n",
       "      <td>9</td>\n",
       "      <td>0</td>\n",
       "      <td></td>\n",
       "      <td>SIX OF CROWS</td>\n",
       "      <td>2022-10-05 22:58:17</td>\n",
       "      <td>0</td>\n",
       "      <td>[{'name': 'Amazon', 'url': 'http://www.amazon....</td>\n",
       "    </tr>\n",
       "    <tr>\n",
       "      <th>229</th>\n",
       "      <td></td>\n",
       "      <td>https://www.amazon.com/dp/1250308976?tag=NYTBS...</td>\n",
       "      <td></td>\n",
       "      <td>Mary E. Pearson</td>\n",
       "      <td>https://storage.googleapis.com/du-prd/books/im...</td>\n",
       "      <td>326</td>\n",
       "      <td>500</td>\n",
       "      <td></td>\n",
       "      <td>nyt://book/348cf557-5f5a-5774-baf5-dae3d0ca4fbf</td>\n",
       "      <td>by Mary E. Pearson</td>\n",
       "      <td>...</td>\n",
       "      <td>1250308976</td>\n",
       "      <td>9781250308979</td>\n",
       "      <td>Square Fish</td>\n",
       "      <td>10</td>\n",
       "      <td>0</td>\n",
       "      <td></td>\n",
       "      <td>DANCE OF THIEVES</td>\n",
       "      <td>2022-10-05 22:58:17</td>\n",
       "      <td>0</td>\n",
       "      <td>[{'name': 'Amazon', 'url': 'https://www.amazon...</td>\n",
       "    </tr>\n",
       "  </tbody>\n",
       "</table>\n",
       "<p>230 rows × 25 columns</p>\n",
       "</div>"
      ],
      "text/plain": [
       "    age_group                                 amazon_product_url  \\\n",
       "0              https://www.amazon.com/dp/1538719827?tag=NYTBS...   \n",
       "1              https://www.amazon.com/dp/1501101781?tag=NYTBS...   \n",
       "2              https://www.amazon.com/dp/1791392792?tag=NYTBS...   \n",
       "3              http://www.amazon.com/Ends-Us-Novel-Colleen-Ho...   \n",
       "4              https://www.amazon.com/dp/1668002175?tag=NYTBS...   \n",
       "..        ...                                                ...   \n",
       "225            https://www.amazon.com/Long-Way-Down-Jason-Rey...   \n",
       "226            http://www.amazon.com/Absolutely-True-Diary-Pa...   \n",
       "227            https://www.amazon.com/dp/0593403983?tag=NYTBS...   \n",
       "228            http://www.amazon.com/Six-Crows-Leigh-Bardugo/...   \n",
       "229            https://www.amazon.com/dp/1250308976?tag=NYTBS...   \n",
       "\n",
       "    article_chapter_link            author  \\\n",
       "0                           David Baldacci   \n",
       "1                           Nelson DeMille   \n",
       "2                           Colleen Hoover   \n",
       "3                           Colleen Hoover   \n",
       "4                             Stephen King   \n",
       "..                   ...               ...   \n",
       "225                         Jason Reynolds   \n",
       "226                        Sherman Alexie.   \n",
       "227                       Ginny Myers Sain   \n",
       "228                          Leigh Bardugo   \n",
       "229                        Mary E. Pearson   \n",
       "\n",
       "                                            book_image  book_image_width  \\\n",
       "0    https://storage.googleapis.com/du-prd/books/im...               331   \n",
       "1    https://storage.googleapis.com/du-prd/books/im...               331   \n",
       "2    https://storage.googleapis.com/du-prd/books/im...               324   \n",
       "3    https://storage.googleapis.com/du-prd/books/im...               319   \n",
       "4    https://storage.googleapis.com/du-prd/books/im...               329   \n",
       "..                                                 ...               ...   \n",
       "225  https://storage.googleapis.com/du-prd/books/im...               328   \n",
       "226  https://storage.googleapis.com/du-prd/books/im...               322   \n",
       "227  https://storage.googleapis.com/du-prd/books/im...               331   \n",
       "228  https://storage.googleapis.com/du-prd/books/im...               330   \n",
       "229  https://storage.googleapis.com/du-prd/books/im...               326   \n",
       "\n",
       "     book_image_height book_review_link  \\\n",
       "0                  500                    \n",
       "1                  500                    \n",
       "2                  500                    \n",
       "3                  495                    \n",
       "4                  500                    \n",
       "..                 ...              ...   \n",
       "225                495                    \n",
       "226                495                    \n",
       "227                500                    \n",
       "228                491                    \n",
       "229                500                    \n",
       "\n",
       "                                            book_uri  \\\n",
       "0    nyt://book/3368422a-b609-552d-9b3a-c50233b2c12a   \n",
       "1    nyt://book/93487d56-408a-54d4-951c-3666e9898807   \n",
       "2    nyt://book/013c7729-a1de-5e5c-921a-da43243f9a4a   \n",
       "3    nyt://book/e2a3545e-e9cb-5828-9d97-50a798a0e4f6   \n",
       "4    nyt://book/1c203c2d-147d-5639-8e0c-009ba6f15698   \n",
       "..                                               ...   \n",
       "225  nyt://book/434525fe-4696-5f1c-a6d3-de2fbd14c542   \n",
       "226  nyt://book/dbe607f5-6f94-5709-b06b-42087923b34f   \n",
       "227  nyt://book/1dc352af-f128-5106-b0bd-5931855295f0   \n",
       "228  nyt://book/90141a33-530f-5f44-a4b9-90ef74230800   \n",
       "229  nyt://book/348cf557-5f5a-5774-baf5-dae3d0ca4fbf   \n",
       "\n",
       "                                        contributor  ... primary_isbn10  \\\n",
       "0                                 by David Baldacci  ...     1538719797   \n",
       "1                                 by Nelson DeMille  ...     1501101803   \n",
       "2                                 by Colleen Hoover  ...     1538724731   \n",
       "3                                 by Colleen Hoover  ...     1501110365   \n",
       "4                                   by Stephen King  ...     1668002175   \n",
       "..                                              ...  ...            ...   \n",
       "225                               by Jason Reynolds  ...     1481438263   \n",
       "226  by Sherman Alexie. Illustrated by Ellen Forney  ...     0316013692   \n",
       "227                             by Ginny Myers Sain  ...     0593403983   \n",
       "228                                by Leigh Bardugo  ...     125007696X   \n",
       "229                              by Mary E. Pearson  ...     1250308976   \n",
       "\n",
       "    primary_isbn13                publisher rank rank_last_week  \\\n",
       "0    9781538719794            Grand Central    1              0   \n",
       "1    9781501101809                 Scribner    2              0   \n",
       "2    9781538724736            Grand Central    3              2   \n",
       "3    9781501110368                    Atria    4              3   \n",
       "4    9781668002179                 Scribner    5              5   \n",
       "..             ...                      ...  ...            ...   \n",
       "225  9781481438261  Atheneum/Caitlyn Dlouhy    6              0   \n",
       "226  9780316013697            Little, Brown    7              0   \n",
       "227  9780593403983                Razorbill    8              0   \n",
       "228  9781250076960              Square Fish    9              0   \n",
       "229  9781250308979              Square Fish   10              0   \n",
       "\n",
       "                                    sunday_review_link  \\\n",
       "0                                                        \n",
       "1                                                        \n",
       "2                                                        \n",
       "3                                                        \n",
       "4                                                        \n",
       "..                                                 ...   \n",
       "225                                                      \n",
       "226  https://www.nytimes.com/2007/11/11/books/revie...   \n",
       "227                                                      \n",
       "228                                                      \n",
       "229                                                      \n",
       "\n",
       "                                               title         updated_date  \\\n",
       "0                                       LONG SHADOWS  2022-10-19 22:26:48   \n",
       "1                                           THE MAZE  2022-10-19 22:26:48   \n",
       "2                                             VERITY  2022-10-19 22:26:48   \n",
       "3                                    IT ENDS WITH US  2022-10-19 22:26:48   \n",
       "4                                         FAIRY TALE  2022-10-19 22:26:48   \n",
       "..                                               ...                  ...   \n",
       "225                                    LONG WAY DOWN  2022-10-05 22:58:17   \n",
       "226  THE ABSOLUTELY TRUE DIARY OF A PART-TIME INDIAN  2022-10-05 22:58:17   \n",
       "227                            DARK AND SHALLOW LIES  2022-10-05 22:58:17   \n",
       "228                                     SIX OF CROWS  2022-10-05 22:58:17   \n",
       "229                                 DANCE OF THIEVES  2022-10-05 22:58:17   \n",
       "\n",
       "     weeks_on_list                                          buy_links  \n",
       "0                1  [{'name': 'Amazon', 'url': 'https://www.amazon...  \n",
       "1                1  [{'name': 'Amazon', 'url': 'https://www.amazon...  \n",
       "2               45  [{'name': 'Amazon', 'url': 'https://www.amazon...  \n",
       "3               70  [{'name': 'Amazon', 'url': 'http://www.amazon....  \n",
       "4                6  [{'name': 'Amazon', 'url': 'https://www.amazon...  \n",
       "..             ...                                                ...  \n",
       "225              0  [{'name': 'Amazon', 'url': 'https://www.amazon...  \n",
       "226              0  [{'name': 'Amazon', 'url': 'http://www.amazon....  \n",
       "227              0  [{'name': 'Amazon', 'url': 'https://www.amazon...  \n",
       "228              0  [{'name': 'Amazon', 'url': 'http://www.amazon....  \n",
       "229              0  [{'name': 'Amazon', 'url': 'https://www.amazon...  \n",
       "\n",
       "[230 rows x 25 columns]"
      ]
     },
     "execution_count": 14,
     "metadata": {},
     "output_type": "execute_result"
    }
   ],
   "source": [
    "## prova d'afegir la columna que apareix en lists que determina el tipus d'edició!!!! (hardcover, paperback, etc.)\n",
    "#list_name!!! -- hi han 17 tipus de categories\n",
    "dfbooksoutput = pd.DataFrame()\n",
    "\n",
    "\n",
    "for group in books:\n",
    "        \n",
    "    diction = pd.DataFrame(group)\n",
    "    dfbooksoutput = pd.concat([dfbooksoutput, diction], ignore_index=True)\n",
    "        \n",
    "#dfbooksoutput = dfbooksoutput.dropna(thresh=3)\n",
    "dfbooksoutput"
   ]
  },
  {
   "cell_type": "code",
   "execution_count": 15,
   "metadata": {
    "scrolled": true
   },
   "outputs": [
    {
     "data": {
      "text/html": [
       "<div>\n",
       "<style scoped>\n",
       "    .dataframe tbody tr th:only-of-type {\n",
       "        vertical-align: middle;\n",
       "    }\n",
       "\n",
       "    .dataframe tbody tr th {\n",
       "        vertical-align: top;\n",
       "    }\n",
       "\n",
       "    .dataframe thead th {\n",
       "        text-align: right;\n",
       "    }\n",
       "</style>\n",
       "<table border=\"1\" class=\"dataframe\">\n",
       "  <thead>\n",
       "    <tr style=\"text-align: right;\">\n",
       "      <th></th>\n",
       "      <th>author</th>\n",
       "      <th>book_image</th>\n",
       "      <th>book_review_link</th>\n",
       "      <th>contributor</th>\n",
       "      <th>contributor_note</th>\n",
       "      <th>created_date</th>\n",
       "      <th>description</th>\n",
       "      <th>price</th>\n",
       "      <th>primary_isbn10</th>\n",
       "      <th>isbn</th>\n",
       "      <th>publisher</th>\n",
       "      <th>rank</th>\n",
       "      <th>rank_last_week</th>\n",
       "      <th>sunday_review_link</th>\n",
       "      <th>title</th>\n",
       "      <th>updated_date</th>\n",
       "      <th>weeks_on_list</th>\n",
       "    </tr>\n",
       "  </thead>\n",
       "  <tbody>\n",
       "    <tr>\n",
       "      <th>0</th>\n",
       "      <td>David Baldacci</td>\n",
       "      <td>https://storage.googleapis.com/du-prd/books/im...</td>\n",
       "      <td></td>\n",
       "      <td>by David Baldacci</td>\n",
       "      <td></td>\n",
       "      <td>2022-10-19 22:22:26</td>\n",
       "      <td>The seventh book in the Memory Man series. Dec...</td>\n",
       "      <td>0.00</td>\n",
       "      <td>1538719797</td>\n",
       "      <td>9781538719794</td>\n",
       "      <td>Grand Central</td>\n",
       "      <td>1</td>\n",
       "      <td>0</td>\n",
       "      <td></td>\n",
       "      <td>LONG SHADOWS</td>\n",
       "      <td>2022-10-19 22:26:48</td>\n",
       "      <td>1</td>\n",
       "    </tr>\n",
       "    <tr>\n",
       "      <th>1</th>\n",
       "      <td>Nelson DeMille</td>\n",
       "      <td>https://storage.googleapis.com/du-prd/books/im...</td>\n",
       "      <td></td>\n",
       "      <td>by Nelson DeMille</td>\n",
       "      <td></td>\n",
       "      <td>2022-10-19 22:22:27</td>\n",
       "      <td>The eighth book in the John Corey series. When...</td>\n",
       "      <td>0.00</td>\n",
       "      <td>1501101803</td>\n",
       "      <td>9781501101809</td>\n",
       "      <td>Scribner</td>\n",
       "      <td>2</td>\n",
       "      <td>0</td>\n",
       "      <td></td>\n",
       "      <td>THE MAZE</td>\n",
       "      <td>2022-10-19 22:26:48</td>\n",
       "      <td>1</td>\n",
       "    </tr>\n",
       "    <tr>\n",
       "      <th>2</th>\n",
       "      <td>Colleen Hoover</td>\n",
       "      <td>https://storage.googleapis.com/du-prd/books/im...</td>\n",
       "      <td></td>\n",
       "      <td>by Colleen Hoover</td>\n",
       "      <td></td>\n",
       "      <td>2022-10-19 22:22:27</td>\n",
       "      <td>Lowen Ashleigh is hired by the husband of an i...</td>\n",
       "      <td>0.00</td>\n",
       "      <td>1538724731</td>\n",
       "      <td>9781538724736</td>\n",
       "      <td>Grand Central</td>\n",
       "      <td>3</td>\n",
       "      <td>2</td>\n",
       "      <td></td>\n",
       "      <td>VERITY</td>\n",
       "      <td>2022-10-19 22:26:48</td>\n",
       "      <td>45</td>\n",
       "    </tr>\n",
       "    <tr>\n",
       "      <th>3</th>\n",
       "      <td>Colleen Hoover</td>\n",
       "      <td>https://storage.googleapis.com/du-prd/books/im...</td>\n",
       "      <td></td>\n",
       "      <td>by Colleen Hoover</td>\n",
       "      <td></td>\n",
       "      <td>2022-10-19 22:22:27</td>\n",
       "      <td>A battered wife raised in a violent home attem...</td>\n",
       "      <td>0.00</td>\n",
       "      <td>1501110365</td>\n",
       "      <td>9781501110368</td>\n",
       "      <td>Atria</td>\n",
       "      <td>4</td>\n",
       "      <td>3</td>\n",
       "      <td></td>\n",
       "      <td>IT ENDS WITH US</td>\n",
       "      <td>2022-10-19 22:26:48</td>\n",
       "      <td>70</td>\n",
       "    </tr>\n",
       "    <tr>\n",
       "      <th>4</th>\n",
       "      <td>Stephen King</td>\n",
       "      <td>https://storage.googleapis.com/du-prd/books/im...</td>\n",
       "      <td></td>\n",
       "      <td>by Stephen King</td>\n",
       "      <td></td>\n",
       "      <td>2022-10-19 22:22:27</td>\n",
       "      <td>A high school kid inherits a shed that is a po...</td>\n",
       "      <td>0.00</td>\n",
       "      <td>1668002175</td>\n",
       "      <td>9781668002179</td>\n",
       "      <td>Scribner</td>\n",
       "      <td>5</td>\n",
       "      <td>5</td>\n",
       "      <td></td>\n",
       "      <td>FAIRY TALE</td>\n",
       "      <td>2022-10-19 22:26:48</td>\n",
       "      <td>6</td>\n",
       "    </tr>\n",
       "    <tr>\n",
       "      <th>...</th>\n",
       "      <td>...</td>\n",
       "      <td>...</td>\n",
       "      <td>...</td>\n",
       "      <td>...</td>\n",
       "      <td>...</td>\n",
       "      <td>...</td>\n",
       "      <td>...</td>\n",
       "      <td>...</td>\n",
       "      <td>...</td>\n",
       "      <td>...</td>\n",
       "      <td>...</td>\n",
       "      <td>...</td>\n",
       "      <td>...</td>\n",
       "      <td>...</td>\n",
       "      <td>...</td>\n",
       "      <td>...</td>\n",
       "      <td>...</td>\n",
       "    </tr>\n",
       "    <tr>\n",
       "      <th>225</th>\n",
       "      <td>Jason Reynolds</td>\n",
       "      <td>https://storage.googleapis.com/du-prd/books/im...</td>\n",
       "      <td></td>\n",
       "      <td>by Jason Reynolds</td>\n",
       "      <td></td>\n",
       "      <td>2022-10-05 22:58:17</td>\n",
       "      <td></td>\n",
       "      <td>0.00</td>\n",
       "      <td>1481438263</td>\n",
       "      <td>9781481438261</td>\n",
       "      <td>Atheneum/Caitlyn Dlouhy</td>\n",
       "      <td>6</td>\n",
       "      <td>0</td>\n",
       "      <td></td>\n",
       "      <td>LONG WAY DOWN</td>\n",
       "      <td>2022-10-05 22:58:17</td>\n",
       "      <td>0</td>\n",
       "    </tr>\n",
       "    <tr>\n",
       "      <th>226</th>\n",
       "      <td>Sherman Alexie.</td>\n",
       "      <td>https://storage.googleapis.com/du-prd/books/im...</td>\n",
       "      <td></td>\n",
       "      <td>by Sherman Alexie. Illustrated by Ellen Forney</td>\n",
       "      <td>Illustrated by Ellen Forney</td>\n",
       "      <td>2022-10-05 22:58:17</td>\n",
       "      <td></td>\n",
       "      <td>0.00</td>\n",
       "      <td>0316013692</td>\n",
       "      <td>9780316013697</td>\n",
       "      <td>Little, Brown</td>\n",
       "      <td>7</td>\n",
       "      <td>0</td>\n",
       "      <td>https://www.nytimes.com/2007/11/11/books/revie...</td>\n",
       "      <td>THE ABSOLUTELY TRUE DIARY OF A PART-TIME INDIAN</td>\n",
       "      <td>2022-10-05 22:58:17</td>\n",
       "      <td>0</td>\n",
       "    </tr>\n",
       "    <tr>\n",
       "      <th>227</th>\n",
       "      <td>Ginny Myers Sain</td>\n",
       "      <td>https://storage.googleapis.com/du-prd/books/im...</td>\n",
       "      <td></td>\n",
       "      <td>by Ginny Myers Sain</td>\n",
       "      <td></td>\n",
       "      <td>2022-10-05 22:58:17</td>\n",
       "      <td></td>\n",
       "      <td>0.00</td>\n",
       "      <td>0593403983</td>\n",
       "      <td>9780593403983</td>\n",
       "      <td>Razorbill</td>\n",
       "      <td>8</td>\n",
       "      <td>0</td>\n",
       "      <td></td>\n",
       "      <td>DARK AND SHALLOW LIES</td>\n",
       "      <td>2022-10-05 22:58:17</td>\n",
       "      <td>0</td>\n",
       "    </tr>\n",
       "    <tr>\n",
       "      <th>228</th>\n",
       "      <td>Leigh Bardugo</td>\n",
       "      <td>https://storage.googleapis.com/du-prd/books/im...</td>\n",
       "      <td></td>\n",
       "      <td>by Leigh Bardugo</td>\n",
       "      <td></td>\n",
       "      <td>2022-10-05 22:58:17</td>\n",
       "      <td></td>\n",
       "      <td>0.00</td>\n",
       "      <td>125007696X</td>\n",
       "      <td>9781250076960</td>\n",
       "      <td>Square Fish</td>\n",
       "      <td>9</td>\n",
       "      <td>0</td>\n",
       "      <td></td>\n",
       "      <td>SIX OF CROWS</td>\n",
       "      <td>2022-10-05 22:58:17</td>\n",
       "      <td>0</td>\n",
       "    </tr>\n",
       "    <tr>\n",
       "      <th>229</th>\n",
       "      <td>Mary E. Pearson</td>\n",
       "      <td>https://storage.googleapis.com/du-prd/books/im...</td>\n",
       "      <td></td>\n",
       "      <td>by Mary E. Pearson</td>\n",
       "      <td></td>\n",
       "      <td>2022-10-05 22:58:17</td>\n",
       "      <td></td>\n",
       "      <td>0.00</td>\n",
       "      <td>1250308976</td>\n",
       "      <td>9781250308979</td>\n",
       "      <td>Square Fish</td>\n",
       "      <td>10</td>\n",
       "      <td>0</td>\n",
       "      <td></td>\n",
       "      <td>DANCE OF THIEVES</td>\n",
       "      <td>2022-10-05 22:58:17</td>\n",
       "      <td>0</td>\n",
       "    </tr>\n",
       "  </tbody>\n",
       "</table>\n",
       "<p>177 rows × 17 columns</p>\n",
       "</div>"
      ],
      "text/plain": [
       "               author                                         book_image  \\\n",
       "0      David Baldacci  https://storage.googleapis.com/du-prd/books/im...   \n",
       "1      Nelson DeMille  https://storage.googleapis.com/du-prd/books/im...   \n",
       "2      Colleen Hoover  https://storage.googleapis.com/du-prd/books/im...   \n",
       "3      Colleen Hoover  https://storage.googleapis.com/du-prd/books/im...   \n",
       "4        Stephen King  https://storage.googleapis.com/du-prd/books/im...   \n",
       "..                ...                                                ...   \n",
       "225    Jason Reynolds  https://storage.googleapis.com/du-prd/books/im...   \n",
       "226   Sherman Alexie.  https://storage.googleapis.com/du-prd/books/im...   \n",
       "227  Ginny Myers Sain  https://storage.googleapis.com/du-prd/books/im...   \n",
       "228     Leigh Bardugo  https://storage.googleapis.com/du-prd/books/im...   \n",
       "229   Mary E. Pearson  https://storage.googleapis.com/du-prd/books/im...   \n",
       "\n",
       "    book_review_link                                     contributor  \\\n",
       "0                                                  by David Baldacci   \n",
       "1                                                  by Nelson DeMille   \n",
       "2                                                  by Colleen Hoover   \n",
       "3                                                  by Colleen Hoover   \n",
       "4                                                    by Stephen King   \n",
       "..               ...                                             ...   \n",
       "225                                                by Jason Reynolds   \n",
       "226                   by Sherman Alexie. Illustrated by Ellen Forney   \n",
       "227                                              by Ginny Myers Sain   \n",
       "228                                                 by Leigh Bardugo   \n",
       "229                                               by Mary E. Pearson   \n",
       "\n",
       "                contributor_note         created_date  \\\n",
       "0                                 2022-10-19 22:22:26   \n",
       "1                                 2022-10-19 22:22:27   \n",
       "2                                 2022-10-19 22:22:27   \n",
       "3                                 2022-10-19 22:22:27   \n",
       "4                                 2022-10-19 22:22:27   \n",
       "..                           ...                  ...   \n",
       "225                               2022-10-05 22:58:17   \n",
       "226  Illustrated by Ellen Forney  2022-10-05 22:58:17   \n",
       "227                               2022-10-05 22:58:17   \n",
       "228                               2022-10-05 22:58:17   \n",
       "229                               2022-10-05 22:58:17   \n",
       "\n",
       "                                           description price primary_isbn10  \\\n",
       "0    The seventh book in the Memory Man series. Dec...  0.00     1538719797   \n",
       "1    The eighth book in the John Corey series. When...  0.00     1501101803   \n",
       "2    Lowen Ashleigh is hired by the husband of an i...  0.00     1538724731   \n",
       "3    A battered wife raised in a violent home attem...  0.00     1501110365   \n",
       "4    A high school kid inherits a shed that is a po...  0.00     1668002175   \n",
       "..                                                 ...   ...            ...   \n",
       "225                                                     0.00     1481438263   \n",
       "226                                                     0.00     0316013692   \n",
       "227                                                     0.00     0593403983   \n",
       "228                                                     0.00     125007696X   \n",
       "229                                                     0.00     1250308976   \n",
       "\n",
       "              isbn                publisher  rank  rank_last_week  \\\n",
       "0    9781538719794            Grand Central     1               0   \n",
       "1    9781501101809                 Scribner     2               0   \n",
       "2    9781538724736            Grand Central     3               2   \n",
       "3    9781501110368                    Atria     4               3   \n",
       "4    9781668002179                 Scribner     5               5   \n",
       "..             ...                      ...   ...             ...   \n",
       "225  9781481438261  Atheneum/Caitlyn Dlouhy     6               0   \n",
       "226  9780316013697            Little, Brown     7               0   \n",
       "227  9780593403983                Razorbill     8               0   \n",
       "228  9781250076960              Square Fish     9               0   \n",
       "229  9781250308979              Square Fish    10               0   \n",
       "\n",
       "                                    sunday_review_link  \\\n",
       "0                                                        \n",
       "1                                                        \n",
       "2                                                        \n",
       "3                                                        \n",
       "4                                                        \n",
       "..                                                 ...   \n",
       "225                                                      \n",
       "226  https://www.nytimes.com/2007/11/11/books/revie...   \n",
       "227                                                      \n",
       "228                                                      \n",
       "229                                                      \n",
       "\n",
       "                                               title         updated_date  \\\n",
       "0                                       LONG SHADOWS  2022-10-19 22:26:48   \n",
       "1                                           THE MAZE  2022-10-19 22:26:48   \n",
       "2                                             VERITY  2022-10-19 22:26:48   \n",
       "3                                    IT ENDS WITH US  2022-10-19 22:26:48   \n",
       "4                                         FAIRY TALE  2022-10-19 22:26:48   \n",
       "..                                               ...                  ...   \n",
       "225                                    LONG WAY DOWN  2022-10-05 22:58:17   \n",
       "226  THE ABSOLUTELY TRUE DIARY OF A PART-TIME INDIAN  2022-10-05 22:58:17   \n",
       "227                            DARK AND SHALLOW LIES  2022-10-05 22:58:17   \n",
       "228                                     SIX OF CROWS  2022-10-05 22:58:17   \n",
       "229                                 DANCE OF THIEVES  2022-10-05 22:58:17   \n",
       "\n",
       "     weeks_on_list  \n",
       "0                1  \n",
       "1                1  \n",
       "2               45  \n",
       "3               70  \n",
       "4                6  \n",
       "..             ...  \n",
       "225              0  \n",
       "226              0  \n",
       "227              0  \n",
       "228              0  \n",
       "229              0  \n",
       "\n",
       "[177 rows x 17 columns]"
      ]
     },
     "execution_count": 15,
     "metadata": {},
     "output_type": "execute_result"
    }
   ],
   "source": [
    "\n",
    "dfbooksoutput.rename(columns={'primary_isbn13': 'isbn'},inplace=True, errors='raise')\n",
    "df_bestsellernyt = dfbooksoutput.drop_duplicates(subset=['title'], keep='first')\n",
    "\n",
    "df_bestsellernyt = df_bestsellernyt.drop(columns=[\"age_group\",\"amazon_product_url\",\"article_chapter_link\",\"book_image_width\",\"book_uri\",\"book_image_height\",\"first_chapter_link\",\"buy_links\" ])\n",
    "\n",
    "\n",
    "df_bestsellernyt\n"
   ]
  },
  {
   "cell_type": "code",
   "execution_count": 16,
   "metadata": {},
   "outputs": [
    {
     "data": {
      "text/plain": [
       "LONG SHADOWS                                1\n",
       "THE LEAF THIEF                              1\n",
       "THE INK BLACK HEART                         1\n",
       "WRONG PLACE WRONG TIME                      1\n",
       "GREENLIGHTS                                 1\n",
       "                                           ..\n",
       "LIGHTER                                     1\n",
       "THE BOOK OF BOUNDARIES                      1\n",
       "REST IS RESISTANCE                          1\n",
       "THE BOY, THE MOLE, THE FOX AND THE HORSE    1\n",
       "DANCE OF THIEVES                            1\n",
       "Name: title, Length: 177, dtype: int64"
      ]
     },
     "execution_count": 16,
     "metadata": {},
     "output_type": "execute_result"
    }
   ],
   "source": [
    "df_bestsellernyt[\"title\"].value_counts()"
   ]
  },
  {
   "cell_type": "code",
   "execution_count": 264,
   "metadata": {},
   "outputs": [
    {
     "data": {
      "text/html": [
       "<div>\n",
       "<style scoped>\n",
       "    .dataframe tbody tr th:only-of-type {\n",
       "        vertical-align: middle;\n",
       "    }\n",
       "\n",
       "    .dataframe tbody tr th {\n",
       "        vertical-align: top;\n",
       "    }\n",
       "\n",
       "    .dataframe thead th {\n",
       "        text-align: right;\n",
       "    }\n",
       "</style>\n",
       "<table border=\"1\" class=\"dataframe\">\n",
       "  <thead>\n",
       "    <tr style=\"text-align: right;\">\n",
       "      <th></th>\n",
       "      <th>bookId</th>\n",
       "      <th>title</th>\n",
       "      <th>series</th>\n",
       "      <th>author</th>\n",
       "      <th>rating</th>\n",
       "      <th>description</th>\n",
       "      <th>language</th>\n",
       "      <th>isbn</th>\n",
       "      <th>genres</th>\n",
       "      <th>characters</th>\n",
       "      <th>...</th>\n",
       "      <th>firstPublishDate</th>\n",
       "      <th>awards</th>\n",
       "      <th>numRatings</th>\n",
       "      <th>ratingsByStars</th>\n",
       "      <th>likedPercent</th>\n",
       "      <th>setting</th>\n",
       "      <th>coverImg</th>\n",
       "      <th>bbeScore</th>\n",
       "      <th>bbeVotes</th>\n",
       "      <th>price</th>\n",
       "    </tr>\n",
       "  </thead>\n",
       "  <tbody>\n",
       "    <tr>\n",
       "      <th>0</th>\n",
       "      <td>2767052-the-hunger-games</td>\n",
       "      <td>The Hunger Games</td>\n",
       "      <td>The Hunger Games #1</td>\n",
       "      <td>Suzanne Collins</td>\n",
       "      <td>4.33</td>\n",
       "      <td>WINNING MEANS FAME AND FORTUNE.LOSING MEANS CE...</td>\n",
       "      <td>English</td>\n",
       "      <td>9780439023481</td>\n",
       "      <td>['Young Adult', 'Fiction', 'Dystopia', 'Fantas...</td>\n",
       "      <td>['Katniss Everdeen', 'Peeta Mellark', 'Cato (H...</td>\n",
       "      <td>...</td>\n",
       "      <td>NaN</td>\n",
       "      <td>['Locus Award Nominee for Best Young Adult Boo...</td>\n",
       "      <td>6376780</td>\n",
       "      <td>['3444695', '1921313', '745221', '171994', '93...</td>\n",
       "      <td>96.0</td>\n",
       "      <td>['District 12, Panem', 'Capitol, Panem', 'Pane...</td>\n",
       "      <td>https://i.gr-assets.com/images/S/compressed.ph...</td>\n",
       "      <td>2993816</td>\n",
       "      <td>30516</td>\n",
       "      <td>5.09</td>\n",
       "    </tr>\n",
       "    <tr>\n",
       "      <th>1</th>\n",
       "      <td>2.Harry_Potter_and_the_Order_of_the_Phoenix</td>\n",
       "      <td>Harry Potter and the Order of the Phoenix</td>\n",
       "      <td>Harry Potter #5</td>\n",
       "      <td>J.K. Rowling, Mary GrandPrÃ© (Illustrator)</td>\n",
       "      <td>4.50</td>\n",
       "      <td>There is a door at the end of a silent corrido...</td>\n",
       "      <td>English</td>\n",
       "      <td>9780439358071</td>\n",
       "      <td>['Fantasy', 'Young Adult', 'Fiction', 'Magic',...</td>\n",
       "      <td>['Sirius Black', 'Draco Malfoy', 'Ron Weasley'...</td>\n",
       "      <td>...</td>\n",
       "      <td>06/21/03</td>\n",
       "      <td>['Bram Stoker Award for Works for Young Reader...</td>\n",
       "      <td>2507623</td>\n",
       "      <td>['1593642', '637516', '222366', '39573', '14526']</td>\n",
       "      <td>98.0</td>\n",
       "      <td>['Hogwarts School of Witchcraft and Wizardry (...</td>\n",
       "      <td>https://i.gr-assets.com/images/S/compressed.ph...</td>\n",
       "      <td>2632233</td>\n",
       "      <td>26923</td>\n",
       "      <td>7.38</td>\n",
       "    </tr>\n",
       "    <tr>\n",
       "      <th>2</th>\n",
       "      <td>2657.To_Kill_a_Mockingbird</td>\n",
       "      <td>To Kill a Mockingbird</td>\n",
       "      <td>To Kill a Mockingbird</td>\n",
       "      <td>Harper Lee</td>\n",
       "      <td>4.28</td>\n",
       "      <td>The unforgettable novel of a childhood in a sl...</td>\n",
       "      <td>English</td>\n",
       "      <td>9999999999999</td>\n",
       "      <td>['Classics', 'Fiction', 'Historical Fiction', ...</td>\n",
       "      <td>['Scout Finch', 'Atticus Finch', 'Jem Finch', ...</td>\n",
       "      <td>...</td>\n",
       "      <td>07/11/60</td>\n",
       "      <td>['Pulitzer Prize for Fiction (1961)', 'Audie A...</td>\n",
       "      <td>4501075</td>\n",
       "      <td>['2363896', '1333153', '573280', '149952', '80...</td>\n",
       "      <td>95.0</td>\n",
       "      <td>['Maycomb, Alabama (United States)']</td>\n",
       "      <td>https://i.gr-assets.com/images/S/compressed.ph...</td>\n",
       "      <td>2269402</td>\n",
       "      <td>23328</td>\n",
       "      <td>NaN</td>\n",
       "    </tr>\n",
       "    <tr>\n",
       "      <th>3</th>\n",
       "      <td>1885.Pride_and_Prejudice</td>\n",
       "      <td>Pride and Prejudice</td>\n",
       "      <td>NaN</td>\n",
       "      <td>Jane Austen, Anna Quindlen (Introduction)</td>\n",
       "      <td>4.26</td>\n",
       "      <td>Alternate cover edition of ISBN 9780679783268S...</td>\n",
       "      <td>English</td>\n",
       "      <td>9999999999999</td>\n",
       "      <td>['Classics', 'Fiction', 'Romance', 'Historical...</td>\n",
       "      <td>['Mr. Bennet', 'Mrs. Bennet', 'Jane Bennet', '...</td>\n",
       "      <td>...</td>\n",
       "      <td>01/28/13</td>\n",
       "      <td>[]</td>\n",
       "      <td>2998241</td>\n",
       "      <td>['1617567', '816659', '373311', '113934', '767...</td>\n",
       "      <td>94.0</td>\n",
       "      <td>['United Kingdom', 'Derbyshire, England (Unite...</td>\n",
       "      <td>https://i.gr-assets.com/images/S/compressed.ph...</td>\n",
       "      <td>1983116</td>\n",
       "      <td>20452</td>\n",
       "      <td>NaN</td>\n",
       "    </tr>\n",
       "    <tr>\n",
       "      <th>4</th>\n",
       "      <td>41865.Twilight</td>\n",
       "      <td>Twilight</td>\n",
       "      <td>The Twilight Saga #1</td>\n",
       "      <td>Stephenie Meyer</td>\n",
       "      <td>3.60</td>\n",
       "      <td>About three things I was absolutely positive.\\...</td>\n",
       "      <td>English</td>\n",
       "      <td>9780316015844</td>\n",
       "      <td>['Young Adult', 'Fantasy', 'Romance', 'Vampire...</td>\n",
       "      <td>['Edward Cullen', 'Jacob Black', 'Laurent', 'R...</td>\n",
       "      <td>...</td>\n",
       "      <td>10/05/05</td>\n",
       "      <td>['Georgia Peach Book Award (2007)', 'Buxtehude...</td>\n",
       "      <td>4964519</td>\n",
       "      <td>['1751460', '1113682', '1008686', '542017', '5...</td>\n",
       "      <td>78.0</td>\n",
       "      <td>['Forks, Washington (United States)', 'Phoenix...</td>\n",
       "      <td>https://i.gr-assets.com/images/S/compressed.ph...</td>\n",
       "      <td>1459448</td>\n",
       "      <td>14874</td>\n",
       "      <td>2.1</td>\n",
       "    </tr>\n",
       "    <tr>\n",
       "      <th>...</th>\n",
       "      <td>...</td>\n",
       "      <td>...</td>\n",
       "      <td>...</td>\n",
       "      <td>...</td>\n",
       "      <td>...</td>\n",
       "      <td>...</td>\n",
       "      <td>...</td>\n",
       "      <td>...</td>\n",
       "      <td>...</td>\n",
       "      <td>...</td>\n",
       "      <td>...</td>\n",
       "      <td>...</td>\n",
       "      <td>...</td>\n",
       "      <td>...</td>\n",
       "      <td>...</td>\n",
       "      <td>...</td>\n",
       "      <td>...</td>\n",
       "      <td>...</td>\n",
       "      <td>...</td>\n",
       "      <td>...</td>\n",
       "      <td>...</td>\n",
       "    </tr>\n",
       "    <tr>\n",
       "      <th>52473</th>\n",
       "      <td>11492014-fractured</td>\n",
       "      <td>Fractured</td>\n",
       "      <td>Fateful #2</td>\n",
       "      <td>Cheri Schmidt (Goodreads Author)</td>\n",
       "      <td>4.00</td>\n",
       "      <td>The Fateful Trilogy continues with Fractured. ...</td>\n",
       "      <td>English</td>\n",
       "      <td>2940012616562</td>\n",
       "      <td>['Vampires', 'Paranormal', 'Young Adult', 'Rom...</td>\n",
       "      <td>[]</td>\n",
       "      <td>...</td>\n",
       "      <td>NaN</td>\n",
       "      <td>[]</td>\n",
       "      <td>871</td>\n",
       "      <td>['311', '310', '197', '42', '11']</td>\n",
       "      <td>94.0</td>\n",
       "      <td>[]</td>\n",
       "      <td>https://i.gr-assets.com/images/S/compressed.ph...</td>\n",
       "      <td>0</td>\n",
       "      <td>1</td>\n",
       "      <td>NaN</td>\n",
       "    </tr>\n",
       "    <tr>\n",
       "      <th>52474</th>\n",
       "      <td>11836711-anasazi</td>\n",
       "      <td>Anasazi</td>\n",
       "      <td>Sense of Truth #2</td>\n",
       "      <td>Emma Michaels</td>\n",
       "      <td>4.19</td>\n",
       "      <td>'Anasazi', sequel to 'The Thirteenth Chime' by...</td>\n",
       "      <td>English</td>\n",
       "      <td>9999999999999</td>\n",
       "      <td>['Mystery', 'Young Adult']</td>\n",
       "      <td>[]</td>\n",
       "      <td>...</td>\n",
       "      <td>August 3rd 2011</td>\n",
       "      <td>[]</td>\n",
       "      <td>37</td>\n",
       "      <td>['16', '14', '5', '2', '0']</td>\n",
       "      <td>95.0</td>\n",
       "      <td>[]</td>\n",
       "      <td>https://i.gr-assets.com/images/S/compressed.ph...</td>\n",
       "      <td>0</td>\n",
       "      <td>1</td>\n",
       "      <td>NaN</td>\n",
       "    </tr>\n",
       "    <tr>\n",
       "      <th>52475</th>\n",
       "      <td>10815662-marked</td>\n",
       "      <td>Marked</td>\n",
       "      <td>Soul Guardians #1</td>\n",
       "      <td>Kim Richardson (Goodreads Author)</td>\n",
       "      <td>3.70</td>\n",
       "      <td>--READERS FAVORITE AWARDS WINNER 2011--Sixteen...</td>\n",
       "      <td>English</td>\n",
       "      <td>9781461017097</td>\n",
       "      <td>['Fantasy', 'Young Adult', 'Paranormal', 'Ange...</td>\n",
       "      <td>[]</td>\n",
       "      <td>...</td>\n",
       "      <td>March 15th 2011</td>\n",
       "      <td>[\"Readers' Favorite Book Award (2011)\"]</td>\n",
       "      <td>6674</td>\n",
       "      <td>['2109', '1868', '1660', '647', '390']</td>\n",
       "      <td>84.0</td>\n",
       "      <td>[]</td>\n",
       "      <td>https://i.gr-assets.com/images/S/compressed.ph...</td>\n",
       "      <td>0</td>\n",
       "      <td>1</td>\n",
       "      <td>7.37</td>\n",
       "    </tr>\n",
       "    <tr>\n",
       "      <th>52476</th>\n",
       "      <td>11330278-wayward-son</td>\n",
       "      <td>Wayward Son</td>\n",
       "      <td>NaN</td>\n",
       "      <td>Tom Pollack (Goodreads Author), John Loftus (G...</td>\n",
       "      <td>3.85</td>\n",
       "      <td>A POWERFUL TREMOR UNEARTHS AN ANCIENT SECRETBu...</td>\n",
       "      <td>English</td>\n",
       "      <td>9781450755634</td>\n",
       "      <td>['Fiction', 'Mystery', 'Historical Fiction', '...</td>\n",
       "      <td>[]</td>\n",
       "      <td>...</td>\n",
       "      <td>April 5th 2011</td>\n",
       "      <td>[]</td>\n",
       "      <td>238</td>\n",
       "      <td>['77', '78', '59', '19', '5']</td>\n",
       "      <td>90.0</td>\n",
       "      <td>[]</td>\n",
       "      <td>https://i.gr-assets.com/images/S/compressed.ph...</td>\n",
       "      <td>0</td>\n",
       "      <td>1</td>\n",
       "      <td>2.86</td>\n",
       "    </tr>\n",
       "    <tr>\n",
       "      <th>52477</th>\n",
       "      <td>10991547-daughter-of-helaman</td>\n",
       "      <td>Daughter of Helaman</td>\n",
       "      <td>Stripling Warrior #1</td>\n",
       "      <td>Misty Moncur (Goodreads Author)</td>\n",
       "      <td>4.02</td>\n",
       "      <td>Fighting in Helaman's army is Keturah's deepes...</td>\n",
       "      <td>English</td>\n",
       "      <td>9781599554976</td>\n",
       "      <td>['Lds Fiction', 'Historical Fiction', 'Young A...</td>\n",
       "      <td>[]</td>\n",
       "      <td>...</td>\n",
       "      <td>NaN</td>\n",
       "      <td>[]</td>\n",
       "      <td>246</td>\n",
       "      <td>['106', '73', '42', '17', '8']</td>\n",
       "      <td>90.0</td>\n",
       "      <td>[]</td>\n",
       "      <td>https://i.gr-assets.com/images/S/compressed.ph...</td>\n",
       "      <td>0</td>\n",
       "      <td>1</td>\n",
       "      <td>5.20</td>\n",
       "    </tr>\n",
       "  </tbody>\n",
       "</table>\n",
       "<p>52478 rows × 25 columns</p>\n",
       "</div>"
      ],
      "text/plain": [
       "                                            bookId  \\\n",
       "0                         2767052-the-hunger-games   \n",
       "1      2.Harry_Potter_and_the_Order_of_the_Phoenix   \n",
       "2                       2657.To_Kill_a_Mockingbird   \n",
       "3                         1885.Pride_and_Prejudice   \n",
       "4                                   41865.Twilight   \n",
       "...                                            ...   \n",
       "52473                           11492014-fractured   \n",
       "52474                             11836711-anasazi   \n",
       "52475                              10815662-marked   \n",
       "52476                         11330278-wayward-son   \n",
       "52477                 10991547-daughter-of-helaman   \n",
       "\n",
       "                                           title                 series  \\\n",
       "0                               The Hunger Games    The Hunger Games #1   \n",
       "1      Harry Potter and the Order of the Phoenix        Harry Potter #5   \n",
       "2                          To Kill a Mockingbird  To Kill a Mockingbird   \n",
       "3                            Pride and Prejudice                    NaN   \n",
       "4                                       Twilight   The Twilight Saga #1   \n",
       "...                                          ...                    ...   \n",
       "52473                                  Fractured             Fateful #2   \n",
       "52474                                    Anasazi      Sense of Truth #2   \n",
       "52475                                     Marked      Soul Guardians #1   \n",
       "52476                                Wayward Son                    NaN   \n",
       "52477                        Daughter of Helaman   Stripling Warrior #1   \n",
       "\n",
       "                                                  author  rating  \\\n",
       "0                                        Suzanne Collins    4.33   \n",
       "1             J.K. Rowling, Mary GrandPrÃ© (Illustrator)    4.50   \n",
       "2                                             Harper Lee    4.28   \n",
       "3              Jane Austen, Anna Quindlen (Introduction)    4.26   \n",
       "4                                        Stephenie Meyer    3.60   \n",
       "...                                                  ...     ...   \n",
       "52473                   Cheri Schmidt (Goodreads Author)    4.00   \n",
       "52474                                      Emma Michaels    4.19   \n",
       "52475                  Kim Richardson (Goodreads Author)    3.70   \n",
       "52476  Tom Pollack (Goodreads Author), John Loftus (G...    3.85   \n",
       "52477                    Misty Moncur (Goodreads Author)    4.02   \n",
       "\n",
       "                                             description language  \\\n",
       "0      WINNING MEANS FAME AND FORTUNE.LOSING MEANS CE...  English   \n",
       "1      There is a door at the end of a silent corrido...  English   \n",
       "2      The unforgettable novel of a childhood in a sl...  English   \n",
       "3      Alternate cover edition of ISBN 9780679783268S...  English   \n",
       "4      About three things I was absolutely positive.\\...  English   \n",
       "...                                                  ...      ...   \n",
       "52473  The Fateful Trilogy continues with Fractured. ...  English   \n",
       "52474  'Anasazi', sequel to 'The Thirteenth Chime' by...  English   \n",
       "52475  --READERS FAVORITE AWARDS WINNER 2011--Sixteen...  English   \n",
       "52476  A POWERFUL TREMOR UNEARTHS AN ANCIENT SECRETBu...  English   \n",
       "52477  Fighting in Helaman's army is Keturah's deepes...  English   \n",
       "\n",
       "                isbn                                             genres  \\\n",
       "0      9780439023481  ['Young Adult', 'Fiction', 'Dystopia', 'Fantas...   \n",
       "1      9780439358071  ['Fantasy', 'Young Adult', 'Fiction', 'Magic',...   \n",
       "2      9999999999999  ['Classics', 'Fiction', 'Historical Fiction', ...   \n",
       "3      9999999999999  ['Classics', 'Fiction', 'Romance', 'Historical...   \n",
       "4      9780316015844  ['Young Adult', 'Fantasy', 'Romance', 'Vampire...   \n",
       "...              ...                                                ...   \n",
       "52473  2940012616562  ['Vampires', 'Paranormal', 'Young Adult', 'Rom...   \n",
       "52474  9999999999999                         ['Mystery', 'Young Adult']   \n",
       "52475  9781461017097  ['Fantasy', 'Young Adult', 'Paranormal', 'Ange...   \n",
       "52476  9781450755634  ['Fiction', 'Mystery', 'Historical Fiction', '...   \n",
       "52477  9781599554976  ['Lds Fiction', 'Historical Fiction', 'Young A...   \n",
       "\n",
       "                                              characters  ...  \\\n",
       "0      ['Katniss Everdeen', 'Peeta Mellark', 'Cato (H...  ...   \n",
       "1      ['Sirius Black', 'Draco Malfoy', 'Ron Weasley'...  ...   \n",
       "2      ['Scout Finch', 'Atticus Finch', 'Jem Finch', ...  ...   \n",
       "3      ['Mr. Bennet', 'Mrs. Bennet', 'Jane Bennet', '...  ...   \n",
       "4      ['Edward Cullen', 'Jacob Black', 'Laurent', 'R...  ...   \n",
       "...                                                  ...  ...   \n",
       "52473                                                 []  ...   \n",
       "52474                                                 []  ...   \n",
       "52475                                                 []  ...   \n",
       "52476                                                 []  ...   \n",
       "52477                                                 []  ...   \n",
       "\n",
       "      firstPublishDate                                             awards  \\\n",
       "0                  NaN  ['Locus Award Nominee for Best Young Adult Boo...   \n",
       "1             06/21/03  ['Bram Stoker Award for Works for Young Reader...   \n",
       "2             07/11/60  ['Pulitzer Prize for Fiction (1961)', 'Audie A...   \n",
       "3             01/28/13                                                 []   \n",
       "4             10/05/05  ['Georgia Peach Book Award (2007)', 'Buxtehude...   \n",
       "...                ...                                                ...   \n",
       "52473              NaN                                                 []   \n",
       "52474  August 3rd 2011                                                 []   \n",
       "52475  March 15th 2011            [\"Readers' Favorite Book Award (2011)\"]   \n",
       "52476   April 5th 2011                                                 []   \n",
       "52477              NaN                                                 []   \n",
       "\n",
       "      numRatings                                     ratingsByStars  \\\n",
       "0        6376780  ['3444695', '1921313', '745221', '171994', '93...   \n",
       "1        2507623  ['1593642', '637516', '222366', '39573', '14526']   \n",
       "2        4501075  ['2363896', '1333153', '573280', '149952', '80...   \n",
       "3        2998241  ['1617567', '816659', '373311', '113934', '767...   \n",
       "4        4964519  ['1751460', '1113682', '1008686', '542017', '5...   \n",
       "...          ...                                                ...   \n",
       "52473        871                  ['311', '310', '197', '42', '11']   \n",
       "52474         37                        ['16', '14', '5', '2', '0']   \n",
       "52475       6674             ['2109', '1868', '1660', '647', '390']   \n",
       "52476        238                      ['77', '78', '59', '19', '5']   \n",
       "52477        246                     ['106', '73', '42', '17', '8']   \n",
       "\n",
       "      likedPercent                                            setting  \\\n",
       "0             96.0  ['District 12, Panem', 'Capitol, Panem', 'Pane...   \n",
       "1             98.0  ['Hogwarts School of Witchcraft and Wizardry (...   \n",
       "2             95.0               ['Maycomb, Alabama (United States)']   \n",
       "3             94.0  ['United Kingdom', 'Derbyshire, England (Unite...   \n",
       "4             78.0  ['Forks, Washington (United States)', 'Phoenix...   \n",
       "...            ...                                                ...   \n",
       "52473         94.0                                                 []   \n",
       "52474         95.0                                                 []   \n",
       "52475         84.0                                                 []   \n",
       "52476         90.0                                                 []   \n",
       "52477         90.0                                                 []   \n",
       "\n",
       "                                                coverImg  bbeScore bbeVotes  \\\n",
       "0      https://i.gr-assets.com/images/S/compressed.ph...   2993816    30516   \n",
       "1      https://i.gr-assets.com/images/S/compressed.ph...   2632233    26923   \n",
       "2      https://i.gr-assets.com/images/S/compressed.ph...   2269402    23328   \n",
       "3      https://i.gr-assets.com/images/S/compressed.ph...   1983116    20452   \n",
       "4      https://i.gr-assets.com/images/S/compressed.ph...   1459448    14874   \n",
       "...                                                  ...       ...      ...   \n",
       "52473  https://i.gr-assets.com/images/S/compressed.ph...         0        1   \n",
       "52474  https://i.gr-assets.com/images/S/compressed.ph...         0        1   \n",
       "52475  https://i.gr-assets.com/images/S/compressed.ph...         0        1   \n",
       "52476  https://i.gr-assets.com/images/S/compressed.ph...         0        1   \n",
       "52477  https://i.gr-assets.com/images/S/compressed.ph...         0        1   \n",
       "\n",
       "       price  \n",
       "0       5.09  \n",
       "1       7.38  \n",
       "2        NaN  \n",
       "3        NaN  \n",
       "4        2.1  \n",
       "...      ...  \n",
       "52473    NaN  \n",
       "52474    NaN  \n",
       "52475   7.37  \n",
       "52476   2.86  \n",
       "52477   5.20  \n",
       "\n",
       "[52478 rows x 25 columns]"
      ]
     },
     "execution_count": 264,
     "metadata": {},
     "output_type": "execute_result"
    }
   ],
   "source": [
    "df_raw2 = pd.read_csv ('./data/books_1.Best_Books_Ever.csv', encoding='unicode_escape')\n",
    "df_raw2"
   ]
  },
  {
   "cell_type": "code",
   "execution_count": 265,
   "metadata": {},
   "outputs": [
    {
     "name": "stdout",
     "output_type": "stream",
     "text": [
      "52478\n",
      "48124\n"
     ]
    }
   ],
   "source": [
    "# I remove the unknown ISBN! ->turn into function\n",
    "df_raw2.columns\n",
    "print(len(df_raw2))\n",
    "df_raw2 = df_raw2[df_raw2[\"isbn\"]!= '9999999999999']\n",
    "print(len(df_raw2))"
   ]
  },
  {
   "cell_type": "code",
   "execution_count": 266,
   "metadata": {},
   "outputs": [
    {
     "name": "stdout",
     "output_type": "stream",
     "text": [
      "48071\n",
      "48018\n"
     ]
    }
   ],
   "source": [
    "print(len(df_raw2[\"isbn\"].unique()))\n",
    "# I will remove duplicated ISBNs!!\n",
    "df_raw2 = df_raw2.drop_duplicates(subset=[\"isbn\"], keep=False)\n",
    "print(len(df_raw2[\"isbn\"].unique()))"
   ]
  },
  {
   "cell_type": "code",
   "execution_count": 199,
   "metadata": {},
   "outputs": [
    {
     "data": {
      "text/plain": [
       "'def clean_isbn(column):\\n    column = column.str.extract(\"(\\\\d{1,2})\")\\n    return column\\ndf_raw2[\"isbn\"].sample()'"
      ]
     },
     "execution_count": 199,
     "metadata": {},
     "output_type": "execute_result"
    }
   ],
   "source": [
    "'''def clean_isbn(column):\n",
    "    column = column.str.extract(\"(\\d{1,2})\")\n",
    "    return column\n",
    "df_raw2[\"isbn\"].sample()'''"
   ]
  },
  {
   "cell_type": "code",
   "execution_count": 267,
   "metadata": {},
   "outputs": [],
   "source": [
    "# I clean author -> turn into function\n",
    "def clean_author(column):\n",
    "    auth=[]\n",
    "    for names in column:\n",
    "        names = names.split(\",\")\n",
    "        newname = names[0].split(\"(\")\n",
    "        auth.append(newname[0])\n",
    "    return auth\n",
    "\n",
    "df_raw2[\"author\"] = clean_author(df_raw2[\"author\"])"
   ]
  },
  {
   "cell_type": "code",
   "execution_count": 269,
   "metadata": {},
   "outputs": [],
   "source": [
    "# I clean genre, I will just keep the first genre for each title...\n",
    "new_genre = []\n",
    "for row in df_raw2[\"genres\"]:\n",
    "    row = row [1:-1]\n",
    "    row=row.split(\", \")\n",
    "    #row=row.split(\",\")\n",
    "    new_row = []\n",
    "    for i in row:\n",
    "        c= i[1:-1]\n",
    "        new_row.append(c)\n",
    "    new_genre.append(new_row[0])\n",
    "df_raw2[\"genres\"]=new_genre\n",
    "\n"
   ]
  },
  {
   "cell_type": "code",
   "execution_count": 270,
   "metadata": {},
   "outputs": [
    {
     "data": {
      "text/plain": [
       "Index(['bookId', 'title', 'series', 'author', 'rating', 'description',\n",
       "       'language', 'isbn', 'genres', 'characters', 'bookFormat', 'edition',\n",
       "       'pages', 'publisher', 'publishDate', 'firstPublishDate', 'awards',\n",
       "       'numRatings', 'ratingsByStars', 'likedPercent', 'setting', 'coverImg',\n",
       "       'bbeScore', 'bbeVotes', 'price'],\n",
       "      dtype='object')"
      ]
     },
     "execution_count": 270,
     "metadata": {},
     "output_type": "execute_result"
    }
   ],
   "source": [
    "df_raw2.columns"
   ]
  },
  {
   "cell_type": "code",
   "execution_count": 271,
   "metadata": {},
   "outputs": [],
   "source": [
    "df_raw2 = df_raw2.drop(columns = [\"description\",\"characters\",\"ratingsByStars\",\"setting\"])"
   ]
  },
  {
   "cell_type": "code",
   "execution_count": null,
   "metadata": {},
   "outputs": [],
   "source": []
  },
  {
   "cell_type": "code",
   "execution_count": 272,
   "metadata": {
    "scrolled": false
   },
   "outputs": [
    {
     "data": {
      "text/html": [
       "<div>\n",
       "<style scoped>\n",
       "    .dataframe tbody tr th:only-of-type {\n",
       "        vertical-align: middle;\n",
       "    }\n",
       "\n",
       "    .dataframe tbody tr th {\n",
       "        vertical-align: top;\n",
       "    }\n",
       "\n",
       "    .dataframe thead th {\n",
       "        text-align: right;\n",
       "    }\n",
       "</style>\n",
       "<table border=\"1\" class=\"dataframe\">\n",
       "  <thead>\n",
       "    <tr style=\"text-align: right;\">\n",
       "      <th></th>\n",
       "      <th>rating</th>\n",
       "      <th>numRatings</th>\n",
       "      <th>all_rate</th>\n",
       "    </tr>\n",
       "    <tr>\n",
       "      <th>author</th>\n",
       "      <th></th>\n",
       "      <th></th>\n",
       "      <th></th>\n",
       "    </tr>\n",
       "  </thead>\n",
       "  <tbody>\n",
       "    <tr>\n",
       "      <th>Arthur Golden</th>\n",
       "      <td>4.120000</td>\n",
       "      <td>1.717312e+06</td>\n",
       "      <td>7.075325e+06</td>\n",
       "    </tr>\n",
       "    <tr>\n",
       "      <th>Emily BrontÃ«</th>\n",
       "      <td>3.860000</td>\n",
       "      <td>1.342664e+06</td>\n",
       "      <td>5.182683e+06</td>\n",
       "    </tr>\n",
       "    <tr>\n",
       "      <th>Paula Hawkins</th>\n",
       "      <td>3.755000</td>\n",
       "      <td>1.196602e+06</td>\n",
       "      <td>4.493241e+06</td>\n",
       "    </tr>\n",
       "    <tr>\n",
       "      <th>Delia Owens</th>\n",
       "      <td>4.470000</td>\n",
       "      <td>9.752840e+05</td>\n",
       "      <td>4.359519e+06</td>\n",
       "    </tr>\n",
       "    <tr>\n",
       "      <th>Suzanne Collins</th>\n",
       "      <td>4.231667</td>\n",
       "      <td>9.868737e+05</td>\n",
       "      <td>4.176120e+06</td>\n",
       "    </tr>\n",
       "    <tr>\n",
       "      <th>Bram Stoker</th>\n",
       "      <td>4.000000</td>\n",
       "      <td>9.383250e+05</td>\n",
       "      <td>3.753300e+06</td>\n",
       "    </tr>\n",
       "    <tr>\n",
       "      <th>Tara Westover</th>\n",
       "      <td>4.470000</td>\n",
       "      <td>7.960190e+05</td>\n",
       "      <td>3.558205e+06</td>\n",
       "    </tr>\n",
       "    <tr>\n",
       "      <th>Stephenie Meyer</th>\n",
       "      <td>3.830909</td>\n",
       "      <td>8.343485e+05</td>\n",
       "      <td>3.196313e+06</td>\n",
       "    </tr>\n",
       "    <tr>\n",
       "      <th>J.D. Salinger</th>\n",
       "      <td>4.020000</td>\n",
       "      <td>7.756072e+05</td>\n",
       "      <td>3.117941e+06</td>\n",
       "    </tr>\n",
       "    <tr>\n",
       "      <th>Gail Honeyman</th>\n",
       "      <td>4.280000</td>\n",
       "      <td>7.084000e+05</td>\n",
       "      <td>3.031952e+06</td>\n",
       "    </tr>\n",
       "  </tbody>\n",
       "</table>\n",
       "</div>"
      ],
      "text/plain": [
       "                   rating    numRatings      all_rate\n",
       "author                                               \n",
       "Arthur Golden    4.120000  1.717312e+06  7.075325e+06\n",
       "Emily BrontÃ«    3.860000  1.342664e+06  5.182683e+06\n",
       "Paula Hawkins    3.755000  1.196602e+06  4.493241e+06\n",
       "Delia Owens      4.470000  9.752840e+05  4.359519e+06\n",
       "Suzanne Collins  4.231667  9.868737e+05  4.176120e+06\n",
       "Bram Stoker      4.000000  9.383250e+05  3.753300e+06\n",
       "Tara Westover    4.470000  7.960190e+05  3.558205e+06\n",
       "Stephenie Meyer  3.830909  8.343485e+05  3.196313e+06\n",
       "J.D. Salinger    4.020000  7.756072e+05  3.117941e+06\n",
       "Gail Honeyman    4.280000  7.084000e+05  3.031952e+06"
      ]
     },
     "execution_count": 272,
     "metadata": {},
     "output_type": "execute_result"
    }
   ],
   "source": [
    "## top 10 more valued authors! (considering rating * numRatings)\n",
    "\n",
    "df_author =  df_raw2[[\"author\", \"rating\", \"numRatings\"]]\n",
    "\n",
    "## turn into a function\n",
    "\n",
    "\n",
    "df_author_grouped = df_author.groupby(\"author\").mean()\n",
    "\n",
    "df_author_grouped = df_author_grouped.drop(df_author_grouped[df_author_grouped.rating == 0].index)\n",
    "\n",
    "df_author_grouped[\"all_rate\"] = df_author_grouped[\"rating\"]*df_author_grouped[\"numRatings\"]\n",
    "\n",
    "df_author_grouped.sort_values(\"all_rate\", ascending=False, inplace=True)\n",
    "df_author_grouped.head(10)"
   ]
  },
  {
   "cell_type": "code",
   "execution_count": 273,
   "metadata": {},
   "outputs": [
    {
     "name": "stderr",
     "output_type": "stream",
     "text": [
      "/var/folders/7s/v9wty4qj3t1cw493y3p29dbc0000gn/T/ipykernel_1469/3068915836.py:6: SettingWithCopyWarning:\n",
      "\n",
      "\n",
      "A value is trying to be set on a copy of a slice from a DataFrame.\n",
      "Try using .loc[row_indexer,col_indexer] = value instead\n",
      "\n",
      "See the caveats in the documentation: https://pandas.pydata.org/pandas-docs/stable/user_guide/indexing.html#returning-a-view-versus-a-copy\n",
      "\n",
      "/var/folders/7s/v9wty4qj3t1cw493y3p29dbc0000gn/T/ipykernel_1469/3068915836.py:7: SettingWithCopyWarning:\n",
      "\n",
      "\n",
      "A value is trying to be set on a copy of a slice from a DataFrame\n",
      "\n",
      "See the caveats in the documentation: https://pandas.pydata.org/pandas-docs/stable/user_guide/indexing.html#returning-a-view-versus-a-copy\n",
      "\n"
     ]
    },
    {
     "data": {
      "text/html": [
       "<div>\n",
       "<style scoped>\n",
       "    .dataframe tbody tr th:only-of-type {\n",
       "        vertical-align: middle;\n",
       "    }\n",
       "\n",
       "    .dataframe tbody tr th {\n",
       "        vertical-align: top;\n",
       "    }\n",
       "\n",
       "    .dataframe thead th {\n",
       "        text-align: right;\n",
       "    }\n",
       "</style>\n",
       "<table border=\"1\" class=\"dataframe\">\n",
       "  <thead>\n",
       "    <tr style=\"text-align: right;\">\n",
       "      <th></th>\n",
       "      <th>title</th>\n",
       "      <th>author</th>\n",
       "      <th>rating</th>\n",
       "      <th>numRatings</th>\n",
       "      <th>all_rate</th>\n",
       "    </tr>\n",
       "  </thead>\n",
       "  <tbody>\n",
       "    <tr>\n",
       "      <th>0</th>\n",
       "      <td>The Hunger Games</td>\n",
       "      <td>Suzanne Collins</td>\n",
       "      <td>4.33</td>\n",
       "      <td>6376780</td>\n",
       "      <td>27611457.40</td>\n",
       "    </tr>\n",
       "    <tr>\n",
       "      <th>4</th>\n",
       "      <td>Twilight</td>\n",
       "      <td>Stephenie Meyer</td>\n",
       "      <td>3.60</td>\n",
       "      <td>4964519</td>\n",
       "      <td>17872268.40</td>\n",
       "    </tr>\n",
       "    <tr>\n",
       "      <th>80</th>\n",
       "      <td>1984</td>\n",
       "      <td>George Orwell</td>\n",
       "      <td>4.19</td>\n",
       "      <td>3140442</td>\n",
       "      <td>13158451.98</td>\n",
       "    </tr>\n",
       "    <tr>\n",
       "      <th>71</th>\n",
       "      <td>Harry Potter and the Deathly Hallows</td>\n",
       "      <td>J.K. Rowling</td>\n",
       "      <td>4.62</td>\n",
       "      <td>2811637</td>\n",
       "      <td>12989762.94</td>\n",
       "    </tr>\n",
       "    <tr>\n",
       "      <th>93</th>\n",
       "      <td>Harry Potter and the Prisoner of Azkaban</td>\n",
       "      <td>J.K. Rowling</td>\n",
       "      <td>4.57</td>\n",
       "      <td>2806471</td>\n",
       "      <td>12825572.47</td>\n",
       "    </tr>\n",
       "    <tr>\n",
       "      <th>147</th>\n",
       "      <td>The Hobbit, or There and Back Again</td>\n",
       "      <td>J.R.R. Tolkien</td>\n",
       "      <td>4.27</td>\n",
       "      <td>2896265</td>\n",
       "      <td>12367051.55</td>\n",
       "    </tr>\n",
       "    <tr>\n",
       "      <th>21</th>\n",
       "      <td>Divergent</td>\n",
       "      <td>Veronica Roth</td>\n",
       "      <td>4.19</td>\n",
       "      <td>2906258</td>\n",
       "      <td>12177221.02</td>\n",
       "    </tr>\n",
       "    <tr>\n",
       "      <th>126</th>\n",
       "      <td>Harry Potter and the Chamber of Secrets</td>\n",
       "      <td>J.K. Rowling</td>\n",
       "      <td>4.43</td>\n",
       "      <td>2725847</td>\n",
       "      <td>12075502.21</td>\n",
       "    </tr>\n",
       "    <tr>\n",
       "      <th>1</th>\n",
       "      <td>Harry Potter and the Order of the Phoenix</td>\n",
       "      <td>J.K. Rowling</td>\n",
       "      <td>4.50</td>\n",
       "      <td>2507623</td>\n",
       "      <td>11284303.50</td>\n",
       "    </tr>\n",
       "    <tr>\n",
       "      <th>6</th>\n",
       "      <td>Animal Farm</td>\n",
       "      <td>George Orwell</td>\n",
       "      <td>3.95</td>\n",
       "      <td>2740713</td>\n",
       "      <td>10825816.35</td>\n",
       "    </tr>\n",
       "  </tbody>\n",
       "</table>\n",
       "</div>"
      ],
      "text/plain": [
       "                                         title           author  rating  \\\n",
       "0                             The Hunger Games  Suzanne Collins    4.33   \n",
       "4                                     Twilight  Stephenie Meyer    3.60   \n",
       "80                                        1984    George Orwell    4.19   \n",
       "71        Harry Potter and the Deathly Hallows     J.K. Rowling    4.62   \n",
       "93    Harry Potter and the Prisoner of Azkaban     J.K. Rowling    4.57   \n",
       "147        The Hobbit, or There and Back Again   J.R.R. Tolkien    4.27   \n",
       "21                                   Divergent   Veronica Roth     4.19   \n",
       "126    Harry Potter and the Chamber of Secrets     J.K. Rowling    4.43   \n",
       "1    Harry Potter and the Order of the Phoenix     J.K. Rowling    4.50   \n",
       "6                                  Animal Farm    George Orwell    3.95   \n",
       "\n",
       "     numRatings     all_rate  \n",
       "0       6376780  27611457.40  \n",
       "4       4964519  17872268.40  \n",
       "80      3140442  13158451.98  \n",
       "71      2811637  12989762.94  \n",
       "93      2806471  12825572.47  \n",
       "147     2896265  12367051.55  \n",
       "21      2906258  12177221.02  \n",
       "126     2725847  12075502.21  \n",
       "1       2507623  11284303.50  \n",
       "6       2740713  10825816.35  "
      ]
     },
     "execution_count": 273,
     "metadata": {},
     "output_type": "execute_result"
    }
   ],
   "source": [
    "## top 10 more valued titles! (considering rating * numRatings)\n",
    "df_titles =  df_raw2[[\"title\",\"author\",\"rating\", \"numRatings\"]]\n",
    "\n",
    "\n",
    "\n",
    "df_titles[\"all_rate\"]= df_titles[\"rating\"]*df_titles[\"numRatings\"]\n",
    "df_titles.sort_values(\"all_rate\", ascending=False, inplace=True)\n",
    "df_titles.head(10)\n",
    "\n"
   ]
  },
  {
   "cell_type": "code",
   "execution_count": 274,
   "metadata": {},
   "outputs": [
    {
     "data": {
      "text/html": [
       "<div>\n",
       "<style scoped>\n",
       "    .dataframe tbody tr th:only-of-type {\n",
       "        vertical-align: middle;\n",
       "    }\n",
       "\n",
       "    .dataframe tbody tr th {\n",
       "        vertical-align: top;\n",
       "    }\n",
       "\n",
       "    .dataframe thead th {\n",
       "        text-align: right;\n",
       "    }\n",
       "</style>\n",
       "<table border=\"1\" class=\"dataframe\">\n",
       "  <thead>\n",
       "    <tr style=\"text-align: right;\">\n",
       "      <th></th>\n",
       "      <th>title</th>\n",
       "      <th>author</th>\n",
       "    </tr>\n",
       "  </thead>\n",
       "  <tbody>\n",
       "    <tr>\n",
       "      <th>0</th>\n",
       "      <td>The Hunger Games</td>\n",
       "      <td>Suzanne Collins</td>\n",
       "    </tr>\n",
       "    <tr>\n",
       "      <th>4</th>\n",
       "      <td>Twilight</td>\n",
       "      <td>Stephenie Meyer</td>\n",
       "    </tr>\n",
       "    <tr>\n",
       "      <th>80</th>\n",
       "      <td>1984</td>\n",
       "      <td>George Orwell</td>\n",
       "    </tr>\n",
       "    <tr>\n",
       "      <th>71</th>\n",
       "      <td>Harry Potter and the Deathly Hallows</td>\n",
       "      <td>J.K. Rowling</td>\n",
       "    </tr>\n",
       "    <tr>\n",
       "      <th>93</th>\n",
       "      <td>Harry Potter and the Prisoner of Azkaban</td>\n",
       "      <td>J.K. Rowling</td>\n",
       "    </tr>\n",
       "    <tr>\n",
       "      <th>147</th>\n",
       "      <td>The Hobbit, or There and Back Again</td>\n",
       "      <td>J.R.R. Tolkien</td>\n",
       "    </tr>\n",
       "    <tr>\n",
       "      <th>21</th>\n",
       "      <td>Divergent</td>\n",
       "      <td>Veronica Roth</td>\n",
       "    </tr>\n",
       "    <tr>\n",
       "      <th>126</th>\n",
       "      <td>Harry Potter and the Chamber of Secrets</td>\n",
       "      <td>J.K. Rowling</td>\n",
       "    </tr>\n",
       "    <tr>\n",
       "      <th>1</th>\n",
       "      <td>Harry Potter and the Order of the Phoenix</td>\n",
       "      <td>J.K. Rowling</td>\n",
       "    </tr>\n",
       "    <tr>\n",
       "      <th>6</th>\n",
       "      <td>Animal Farm</td>\n",
       "      <td>George Orwell</td>\n",
       "    </tr>\n",
       "  </tbody>\n",
       "</table>\n",
       "</div>"
      ],
      "text/plain": [
       "                                         title           author\n",
       "0                             The Hunger Games  Suzanne Collins\n",
       "4                                     Twilight  Stephenie Meyer\n",
       "80                                        1984    George Orwell\n",
       "71        Harry Potter and the Deathly Hallows     J.K. Rowling\n",
       "93    Harry Potter and the Prisoner of Azkaban     J.K. Rowling\n",
       "147        The Hobbit, or There and Back Again   J.R.R. Tolkien\n",
       "21                                   Divergent   Veronica Roth \n",
       "126    Harry Potter and the Chamber of Secrets     J.K. Rowling\n",
       "1    Harry Potter and the Order of the Phoenix     J.K. Rowling\n",
       "6                                  Animal Farm    George Orwell"
      ]
     },
     "execution_count": 274,
     "metadata": {},
     "output_type": "execute_result"
    }
   ],
   "source": [
    "df_titles2 = df_titles[[\"title\",\"author\"]]\n",
    "df_titles2.head(10)"
   ]
  },
  {
   "cell_type": "code",
   "execution_count": 275,
   "metadata": {},
   "outputs": [
    {
     "data": {
      "text/html": [
       "<div>\n",
       "<style scoped>\n",
       "    .dataframe tbody tr th:only-of-type {\n",
       "        vertical-align: middle;\n",
       "    }\n",
       "\n",
       "    .dataframe tbody tr th {\n",
       "        vertical-align: top;\n",
       "    }\n",
       "\n",
       "    .dataframe thead th {\n",
       "        text-align: right;\n",
       "    }\n",
       "</style>\n",
       "<table border=\"1\" class=\"dataframe\">\n",
       "  <thead>\n",
       "    <tr style=\"text-align: right;\">\n",
       "      <th></th>\n",
       "      <th>rating</th>\n",
       "      <th>numRatings</th>\n",
       "      <th>all_rate</th>\n",
       "    </tr>\n",
       "    <tr>\n",
       "      <th>publisher</th>\n",
       "      <th></th>\n",
       "      <th></th>\n",
       "      <th></th>\n",
       "    </tr>\n",
       "  </thead>\n",
       "  <tbody>\n",
       "    <tr>\n",
       "      <th>Arthur A. Levine Books / Scholastic Inc.</th>\n",
       "      <td>4.525</td>\n",
       "      <td>2768742.0</td>\n",
       "      <td>1.252856e+07</td>\n",
       "    </tr>\n",
       "    <tr>\n",
       "      <th>Zola Books</th>\n",
       "      <td>3.970</td>\n",
       "      <td>1573857.0</td>\n",
       "      <td>6.248212e+06</td>\n",
       "    </tr>\n",
       "    <tr>\n",
       "      <th>HarperPerennial / Perennial Classics</th>\n",
       "      <td>3.990</td>\n",
       "      <td>1441287.0</td>\n",
       "      <td>5.750735e+06</td>\n",
       "    </tr>\n",
       "    <tr>\n",
       "      <th>New English Library (Hodder &amp; Stoughton)</th>\n",
       "      <td>4.230</td>\n",
       "      <td>1126760.0</td>\n",
       "      <td>4.766195e+06</td>\n",
       "    </tr>\n",
       "    <tr>\n",
       "      <th>Disney Hyperion Books</th>\n",
       "      <td>4.065</td>\n",
       "      <td>997324.5</td>\n",
       "      <td>4.054124e+06</td>\n",
       "    </tr>\n",
       "  </tbody>\n",
       "</table>\n",
       "</div>"
      ],
      "text/plain": [
       "                                          rating  numRatings      all_rate\n",
       "publisher                                                                 \n",
       "Arthur A. Levine Books / Scholastic Inc.   4.525   2768742.0  1.252856e+07\n",
       "Zola Books                                 3.970   1573857.0  6.248212e+06\n",
       "HarperPerennial / Perennial Classics       3.990   1441287.0  5.750735e+06\n",
       "New English Library (Hodder & Stoughton)   4.230   1126760.0  4.766195e+06\n",
       "Disney Hyperion Books                      4.065    997324.5  4.054124e+06"
      ]
     },
     "execution_count": 275,
     "metadata": {},
     "output_type": "execute_result"
    }
   ],
   "source": [
    "#which publishing house has the best value (ratings)\n",
    "df_publisher =  df_raw2[[\"publisher\",\"rating\", \"numRatings\"]]\n",
    "\n",
    "df_publisher = df_publisher.groupby(\"publisher\").mean()\n",
    "\n",
    "df_publisher[\"all_rate\"]= df_publisher[\"rating\"]*df_publisher[\"numRatings\"]\n",
    "df_publisher.sort_values(\"all_rate\", ascending=False, inplace=True)\n",
    "df_publisher.head(5)"
   ]
  },
  {
   "cell_type": "code",
   "execution_count": 276,
   "metadata": {},
   "outputs": [
    {
     "data": {
      "text/plain": [
       "<AxesSubplot:xlabel='numRatings', ylabel='rating'>"
      ]
     },
     "execution_count": 276,
     "metadata": {},
     "output_type": "execute_result"
    },
    {
     "data": {
      "image/png": "[encoded data removed]",
      "text/plain": [
       "<Figure size 640x480 with 1 Axes>"
      ]
     },
     "metadata": {},
     "output_type": "display_data"
    }
   ],
   "source": [
    "#is there a relation between the number of reviews and the rating -> do books with the higher number of ratings get a better review?\n",
    "df_ratings = df_raw2[df_raw2[\"numRatings\"]>1000]\n",
    "sns.scatterplot(data=df_ratings, x=df_ratings[\"numRatings\"], y=df_ratings[\"rating\"])\n",
    "\n"
   ]
  },
  {
   "cell_type": "code",
   "execution_count": 277,
   "metadata": {},
   "outputs": [
    {
     "data": {
      "text/plain": [
       "[Text(0.5, 1.0, 'Correlation between Rating and Number of Reviews')]"
      ]
     },
     "execution_count": 277,
     "metadata": {},
     "output_type": "execute_result"
    },
    {
     "data": {
      "image/png": "[encoded data removed]",
      "text/plain": [
       "<Figure size 640x480 with 1 Axes>"
      ]
     },
     "metadata": {},
     "output_type": "display_data"
    }
   ],
   "source": [
    "sns.regplot(data=df_ratings,  x=df_ratings[\"numRatings\"], y=df_ratings[\"rating\"],scatter=True).set(title='Correlation between Rating and Number of Reviews')\n",
    "\n",
    "### WE CAN SAY THE MORE REVIEWS A BOOK HAS, THE MORE LIKELY THE RATING GETS GOOD VALORATION"
   ]
  },
  {
   "cell_type": "code",
   "execution_count": 279,
   "metadata": {},
   "outputs": [
    {
     "data": {
      "text/html": [
       "<div>\n",
       "<style scoped>\n",
       "    .dataframe tbody tr th:only-of-type {\n",
       "        vertical-align: middle;\n",
       "    }\n",
       "\n",
       "    .dataframe tbody tr th {\n",
       "        vertical-align: top;\n",
       "    }\n",
       "\n",
       "    .dataframe thead th {\n",
       "        text-align: right;\n",
       "    }\n",
       "</style>\n",
       "<table border=\"1\" class=\"dataframe\">\n",
       "  <thead>\n",
       "    <tr style=\"text-align: right;\">\n",
       "      <th></th>\n",
       "      <th>title</th>\n",
       "    </tr>\n",
       "    <tr>\n",
       "      <th>publisher</th>\n",
       "      <th></th>\n",
       "    </tr>\n",
       "  </thead>\n",
       "  <tbody>\n",
       "    <tr>\n",
       "      <th>Scholastic</th>\n",
       "      <td>14</td>\n",
       "    </tr>\n",
       "    <tr>\n",
       "      <th>Atria</th>\n",
       "      <td>8</td>\n",
       "    </tr>\n",
       "    <tr>\n",
       "      <th>Little, Brown</th>\n",
       "      <td>8</td>\n",
       "    </tr>\n",
       "    <tr>\n",
       "      <th>Simon &amp; Schuster</th>\n",
       "      <td>7</td>\n",
       "    </tr>\n",
       "    <tr>\n",
       "      <th>Grand Central</th>\n",
       "      <td>6</td>\n",
       "    </tr>\n",
       "  </tbody>\n",
       "</table>\n",
       "</div>"
      ],
      "text/plain": [
       "                  title\n",
       "publisher              \n",
       "Scholastic           14\n",
       "Atria                 8\n",
       "Little, Brown         8\n",
       "Simon & Schuster      7\n",
       "Grand Central         6"
      ]
     },
     "execution_count": 279,
     "metadata": {},
     "output_type": "execute_result"
    }
   ],
   "source": [
    "# in the actual bestseller list, which publishing house has more tittles??\n",
    "df_publishinbestseller = df_bestsellernyt[[\"publisher\",\"title\"]]\n",
    "df_publishinbestseller = df_publishinbestseller.groupby(\"publisher\").count()\n",
    "df_publishinbestseller.sort_values(\"title\", ascending=False, inplace=True)\n",
    "\n",
    "df_publishinbestseller.head(5)\n"
   ]
  },
  {
   "cell_type": "code",
   "execution_count": 280,
   "metadata": {},
   "outputs": [
    {
     "data": {
      "text/html": [
       "<div>\n",
       "<style scoped>\n",
       "    .dataframe tbody tr th:only-of-type {\n",
       "        vertical-align: middle;\n",
       "    }\n",
       "\n",
       "    .dataframe tbody tr th {\n",
       "        vertical-align: top;\n",
       "    }\n",
       "\n",
       "    .dataframe thead th {\n",
       "        text-align: right;\n",
       "    }\n",
       "</style>\n",
       "<table border=\"1\" class=\"dataframe\">\n",
       "  <thead>\n",
       "    <tr style=\"text-align: right;\">\n",
       "      <th></th>\n",
       "      <th>publisher</th>\n",
       "    </tr>\n",
       "  </thead>\n",
       "  <tbody>\n",
       "    <tr>\n",
       "      <th>HarperCollins</th>\n",
       "      <td>552</td>\n",
       "    </tr>\n",
       "    <tr>\n",
       "      <th>Vintage</th>\n",
       "      <td>542</td>\n",
       "    </tr>\n",
       "    <tr>\n",
       "      <th>Penguin Books</th>\n",
       "      <td>413</td>\n",
       "    </tr>\n",
       "    <tr>\n",
       "      <th>Ballantine Books</th>\n",
       "      <td>392</td>\n",
       "    </tr>\n",
       "    <tr>\n",
       "      <th>Bantam</th>\n",
       "      <td>366</td>\n",
       "    </tr>\n",
       "  </tbody>\n",
       "</table>\n",
       "</div>"
      ],
      "text/plain": [
       "                  publisher\n",
       "HarperCollins           552\n",
       "Vintage                 542\n",
       "Penguin Books           413\n",
       "Ballantine Books        392\n",
       "Bantam                  366"
      ]
     },
     "execution_count": 280,
     "metadata": {},
     "output_type": "execute_result"
    }
   ],
   "source": [
    "# from our list of bestsellers, which is the publishing house that has more titles, whats the avg price of the books?\n",
    "\n",
    "df_countpublish = df_raw2[\"publisher\"].value_counts()\n",
    "df_countpublish = pd.DataFrame(df_countpublish)\n",
    "df_countpublish.head(5)\n",
    "#\n",
    "#sns.histplot(df_countpublish.head(5))"
   ]
  },
  {
   "cell_type": "code",
   "execution_count": 281,
   "metadata": {},
   "outputs": [
    {
     "data": {
      "text/plain": [
       "0"
      ]
     },
     "execution_count": 281,
     "metadata": {},
     "output_type": "execute_result"
    }
   ],
   "source": [
    "#amb df_raw2i df_bestsellernyt vull comprovar que tots els títols d'aquest setmana, estan al meu df\n",
    "\n",
    "#inner join - merge\n",
    "lista= []\n",
    "for ide in df_bestsellernyt[\"isbn\"]:\n",
    "    if ide in df_raw2[\"isbn\"]:\n",
    "        lista.append(ide)\n",
    "len(lista)\n",
    "        \n",
    "#sembla ser que la llista actual i la meva no tenen res en comú...\n",
    "#NO PUC COMPARAR-HO"
   ]
  },
  {
   "cell_type": "code",
   "execution_count": 282,
   "metadata": {},
   "outputs": [
    {
     "data": {
      "text/html": [
       "<div>\n",
       "<style scoped>\n",
       "    .dataframe tbody tr th:only-of-type {\n",
       "        vertical-align: middle;\n",
       "    }\n",
       "\n",
       "    .dataframe tbody tr th {\n",
       "        vertical-align: top;\n",
       "    }\n",
       "\n",
       "    .dataframe thead th {\n",
       "        text-align: right;\n",
       "    }\n",
       "</style>\n",
       "<table border=\"1\" class=\"dataframe\">\n",
       "  <thead>\n",
       "    <tr style=\"text-align: right;\">\n",
       "      <th></th>\n",
       "      <th>title</th>\n",
       "      <th>author</th>\n",
       "      <th>weeks_on_list</th>\n",
       "      <th>isbn</th>\n",
       "    </tr>\n",
       "  </thead>\n",
       "  <tbody>\n",
       "    <tr>\n",
       "      <th>121</th>\n",
       "      <td>DIARY OF A WIMPY KID</td>\n",
       "      <td>and   Jeff Kinney</td>\n",
       "      <td>709</td>\n",
       "      <td>9781419749155</td>\n",
       "    </tr>\n",
       "    <tr>\n",
       "      <th>120</th>\n",
       "      <td>HARRY POTTER</td>\n",
       "      <td>J.K. Rowling</td>\n",
       "      <td>708</td>\n",
       "      <td>9780545791434</td>\n",
       "    </tr>\n",
       "    <tr>\n",
       "      <th>127</th>\n",
       "      <td>PERCY JACKSON &amp; THE OLYMPIANS</td>\n",
       "      <td>Rick Riordan</td>\n",
       "      <td>644</td>\n",
       "      <td>9781484707234</td>\n",
       "    </tr>\n",
       "    <tr>\n",
       "      <th>103</th>\n",
       "      <td>WONDER</td>\n",
       "      <td>R.J. Palacio</td>\n",
       "      <td>366</td>\n",
       "      <td>9780375869020</td>\n",
       "    </tr>\n",
       "    <tr>\n",
       "      <th>82</th>\n",
       "      <td>THINKING, FAST AND SLOW</td>\n",
       "      <td>Daniel Kahneman</td>\n",
       "      <td>337</td>\n",
       "      <td>9780374533557</td>\n",
       "    </tr>\n",
       "    <tr>\n",
       "      <th>81</th>\n",
       "      <td>JUST MERCY</td>\n",
       "      <td>Bryan Stevenson</td>\n",
       "      <td>297</td>\n",
       "      <td>9780812984965</td>\n",
       "    </tr>\n",
       "    <tr>\n",
       "      <th>135</th>\n",
       "      <td>ONE OF US IS LYING</td>\n",
       "      <td>Karen M. McManus</td>\n",
       "      <td>246</td>\n",
       "      <td>9781524714680</td>\n",
       "    </tr>\n",
       "    <tr>\n",
       "      <th>105</th>\n",
       "      <td>REFUGEE</td>\n",
       "      <td>Alan Gratz</td>\n",
       "      <td>196</td>\n",
       "      <td>9780545880831</td>\n",
       "    </tr>\n",
       "    <tr>\n",
       "      <th>128</th>\n",
       "      <td>WINGS OF FIRE</td>\n",
       "      <td>Tui T. Sutherland</td>\n",
       "      <td>185</td>\n",
       "      <td>9780545349239</td>\n",
       "    </tr>\n",
       "    <tr>\n",
       "      <th>5</th>\n",
       "      <td>WHERE THE CRAWDADS SING</td>\n",
       "      <td>Delia Owens</td>\n",
       "      <td>182</td>\n",
       "      <td>9780735219106</td>\n",
       "    </tr>\n",
       "  </tbody>\n",
       "</table>\n",
       "</div>"
      ],
      "text/plain": [
       "                             title             author  weeks_on_list  \\\n",
       "121           DIARY OF A WIMPY KID  and   Jeff Kinney            709   \n",
       "120                   HARRY POTTER       J.K. Rowling            708   \n",
       "127  PERCY JACKSON & THE OLYMPIANS       Rick Riordan            644   \n",
       "103                         WONDER       R.J. Palacio            366   \n",
       "82         THINKING, FAST AND SLOW    Daniel Kahneman            337   \n",
       "81                      JUST MERCY    Bryan Stevenson            297   \n",
       "135             ONE OF US IS LYING   Karen M. McManus            246   \n",
       "105                        REFUGEE         Alan Gratz            196   \n",
       "128                  WINGS OF FIRE  Tui T. Sutherland            185   \n",
       "5          WHERE THE CRAWDADS SING        Delia Owens            182   \n",
       "\n",
       "              isbn  \n",
       "121  9781419749155  \n",
       "120  9780545791434  \n",
       "127  9781484707234  \n",
       "103  9780375869020  \n",
       "82   9780374533557  \n",
       "81   9780812984965  \n",
       "135  9781524714680  \n",
       "105  9780545880831  \n",
       "128  9780545349239  \n",
       "5    9780735219106  "
      ]
     },
     "execution_count": 282,
     "metadata": {},
     "output_type": "execute_result"
    }
   ],
   "source": [
    "#titles with highest appereance in nyt\n",
    "df_bestsellernyt.sort_values(\"weeks_on_list\", ascending=False, inplace=True)\n",
    "df_titlesweeksnyt = df_bestsellernyt[[\"title\",\"author\",\"weeks_on_list\",\"isbn\"]]\n",
    "df_titlesweeksnyt.head(10)\n"
   ]
  },
  {
   "cell_type": "code",
   "execution_count": 283,
   "metadata": {},
   "outputs": [
    {
     "data": {
      "text/plain": [
       "'\\nsns.set_theme(style=\"ticks\", palette=\"pastel\")\\n\\n# Load the example tips dataset\\ntips = sns.load_dataset(\"tips\")\\n\\n# Draw a nested boxplot to show bills by day and time\\nsns.boxplot(x=\"day\", y=\"total_bill\",\\n            hue=\"smoker\", palette=[\"m\", \"g\"],\\n            data=tips)\\nsns.despine(offset=10, trim=True)'"
      ]
     },
     "execution_count": 283,
     "metadata": {},
     "output_type": "execute_result"
    }
   ],
   "source": [
    "'''\n",
    "sns.set_theme(style=\"ticks\", palette=\"pastel\")\n",
    "\n",
    "# Load the example tips dataset\n",
    "tips = sns.load_dataset(\"tips\")\n",
    "\n",
    "# Draw a nested boxplot to show bills by day and time\n",
    "sns.boxplot(x=\"day\", y=\"total_bill\",\n",
    "            hue=\"smoker\", palette=[\"m\", \"g\"],\n",
    "            data=tips)\n",
    "sns.despine(offset=10, trim=True)'''"
   ]
  },
  {
   "cell_type": "code",
   "execution_count": 284,
   "metadata": {
    "scrolled": true
   },
   "outputs": [
    {
     "data": {
      "text/plain": [
       "'Young Adult'"
      ]
     },
     "execution_count": 284,
     "metadata": {},
     "output_type": "execute_result"
    }
   ],
   "source": [
    "df_raw2[\"genres\"][0]\n"
   ]
  },
  {
   "cell_type": "code",
   "execution_count": 285,
   "metadata": {},
   "outputs": [
    {
     "data": {
      "text/plain": [
       "str"
      ]
     },
     "execution_count": 285,
     "metadata": {},
     "output_type": "execute_result"
    }
   ],
   "source": [
    "type(df_raw2[\"genres\"][0])"
   ]
  },
  {
   "cell_type": "code",
   "execution_count": 286,
   "metadata": {},
   "outputs": [
    {
     "data": {
      "text/plain": [
       "390"
      ]
     },
     "execution_count": 286,
     "metadata": {},
     "output_type": "execute_result"
    }
   ],
   "source": [
    "posiblegenres = []\n",
    "for genre in df_raw2[\"genres\"]:\n",
    "    if genre not in posiblegenres:\n",
    "        posiblegenres.append(genre)\n",
    "len(posiblegenres)           "
   ]
  },
  {
   "cell_type": "code",
   "execution_count": 287,
   "metadata": {
    "scrolled": true
   },
   "outputs": [
    {
     "data": {
      "text/plain": [
       "Fiction           5849\n",
       "Fantasy           5182\n",
       "                  3883\n",
       "Young Adult       2992\n",
       "Romance           2776\n",
       "                  ... \n",
       "Magick               1\n",
       "Mental Illness       1\n",
       "Ecology              1\n",
       "Evolution            1\n",
       "Sex Work             1\n",
       "Name: genres, Length: 390, dtype: int64"
      ]
     },
     "execution_count": 287,
     "metadata": {},
     "output_type": "execute_result"
    }
   ],
   "source": [
    "df_raw2['genres'].value_counts()"
   ]
  },
  {
   "cell_type": "code",
   "execution_count": 342,
   "metadata": {},
   "outputs": [],
   "source": [
    "df_genre = df_raw2[df_raw2.groupby(\"genres\").genres.transform(\"count\")>1000].copy()\n",
    "df_genre2 = df_genre[df_genre[\"genres\"]!=\"\"].copy()"
   ]
  },
  {
   "cell_type": "code",
   "execution_count": 343,
   "metadata": {},
   "outputs": [
    {
     "data": {
      "text/html": [
       "<div>\n",
       "<style scoped>\n",
       "    .dataframe tbody tr th:only-of-type {\n",
       "        vertical-align: middle;\n",
       "    }\n",
       "\n",
       "    .dataframe tbody tr th {\n",
       "        vertical-align: top;\n",
       "    }\n",
       "\n",
       "    .dataframe thead th {\n",
       "        text-align: right;\n",
       "    }\n",
       "</style>\n",
       "<table border=\"1\" class=\"dataframe\">\n",
       "  <thead>\n",
       "    <tr style=\"text-align: right;\">\n",
       "      <th></th>\n",
       "      <th>bookId</th>\n",
       "      <th>title</th>\n",
       "      <th>series</th>\n",
       "      <th>author</th>\n",
       "      <th>rating</th>\n",
       "      <th>language</th>\n",
       "      <th>isbn</th>\n",
       "      <th>genres</th>\n",
       "      <th>bookFormat</th>\n",
       "      <th>edition</th>\n",
       "      <th>...</th>\n",
       "      <th>publisher</th>\n",
       "      <th>publishDate</th>\n",
       "      <th>firstPublishDate</th>\n",
       "      <th>awards</th>\n",
       "      <th>numRatings</th>\n",
       "      <th>likedPercent</th>\n",
       "      <th>coverImg</th>\n",
       "      <th>bbeScore</th>\n",
       "      <th>bbeVotes</th>\n",
       "      <th>price</th>\n",
       "    </tr>\n",
       "  </thead>\n",
       "  <tbody>\n",
       "    <tr>\n",
       "      <th>0</th>\n",
       "      <td>2767052-the-hunger-games</td>\n",
       "      <td>The Hunger Games</td>\n",
       "      <td>The Hunger Games #1</td>\n",
       "      <td>Suzanne Collins</td>\n",
       "      <td>4.33</td>\n",
       "      <td>English</td>\n",
       "      <td>9780439023481</td>\n",
       "      <td>Young Adult</td>\n",
       "      <td>Hardcover</td>\n",
       "      <td>First Edition</td>\n",
       "      <td>...</td>\n",
       "      <td>Scholastic Press</td>\n",
       "      <td>09/14/08</td>\n",
       "      <td>NaN</td>\n",
       "      <td>['Locus Award Nominee for Best Young Adult Boo...</td>\n",
       "      <td>6376780</td>\n",
       "      <td>96.0</td>\n",
       "      <td>https://i.gr-assets.com/images/S/compressed.ph...</td>\n",
       "      <td>2993816</td>\n",
       "      <td>30516</td>\n",
       "      <td>5.09</td>\n",
       "    </tr>\n",
       "    <tr>\n",
       "      <th>1</th>\n",
       "      <td>2.Harry_Potter_and_the_Order_of_the_Phoenix</td>\n",
       "      <td>Harry Potter and the Order of the Phoenix</td>\n",
       "      <td>Harry Potter #5</td>\n",
       "      <td>J.K. Rowling</td>\n",
       "      <td>4.50</td>\n",
       "      <td>English</td>\n",
       "      <td>9780439358071</td>\n",
       "      <td>Fantasy</td>\n",
       "      <td>Paperback</td>\n",
       "      <td>US Edition</td>\n",
       "      <td>...</td>\n",
       "      <td>Scholastic Inc.</td>\n",
       "      <td>09/28/04</td>\n",
       "      <td>06/21/03</td>\n",
       "      <td>['Bram Stoker Award for Works for Young Reader...</td>\n",
       "      <td>2507623</td>\n",
       "      <td>98.0</td>\n",
       "      <td>https://i.gr-assets.com/images/S/compressed.ph...</td>\n",
       "      <td>2632233</td>\n",
       "      <td>26923</td>\n",
       "      <td>7.38</td>\n",
       "    </tr>\n",
       "    <tr>\n",
       "      <th>4</th>\n",
       "      <td>41865.Twilight</td>\n",
       "      <td>Twilight</td>\n",
       "      <td>The Twilight Saga #1</td>\n",
       "      <td>Stephenie Meyer</td>\n",
       "      <td>3.60</td>\n",
       "      <td>English</td>\n",
       "      <td>9780316015844</td>\n",
       "      <td>Young Adult</td>\n",
       "      <td>Paperback</td>\n",
       "      <td>NaN</td>\n",
       "      <td>...</td>\n",
       "      <td>Little, Brown and Company</td>\n",
       "      <td>09/06/06</td>\n",
       "      <td>10/05/05</td>\n",
       "      <td>['Georgia Peach Book Award (2007)', 'Buxtehude...</td>\n",
       "      <td>4964519</td>\n",
       "      <td>78.0</td>\n",
       "      <td>https://i.gr-assets.com/images/S/compressed.ph...</td>\n",
       "      <td>1459448</td>\n",
       "      <td>14874</td>\n",
       "      <td>2.1</td>\n",
       "    </tr>\n",
       "    <tr>\n",
       "      <th>5</th>\n",
       "      <td>19063.The_Book_Thief</td>\n",
       "      <td>The Book Thief</td>\n",
       "      <td>NaN</td>\n",
       "      <td>Markus Zusak</td>\n",
       "      <td>4.37</td>\n",
       "      <td>English</td>\n",
       "      <td>9780375831003</td>\n",
       "      <td>Historical Fiction</td>\n",
       "      <td>Hardcover</td>\n",
       "      <td>First American Edition</td>\n",
       "      <td>...</td>\n",
       "      <td>Alfred A. Knopf</td>\n",
       "      <td>03/14/06</td>\n",
       "      <td>09/01/05</td>\n",
       "      <td>['National Jewish Book Award for Childrenâs ...</td>\n",
       "      <td>1834276</td>\n",
       "      <td>96.0</td>\n",
       "      <td>https://i.gr-assets.com/images/S/compressed.ph...</td>\n",
       "      <td>1372809</td>\n",
       "      <td>14168</td>\n",
       "      <td>3.8</td>\n",
       "    </tr>\n",
       "    <tr>\n",
       "      <th>6</th>\n",
       "      <td>170448.Animal_Farm</td>\n",
       "      <td>Animal Farm</td>\n",
       "      <td>NaN</td>\n",
       "      <td>George Orwell</td>\n",
       "      <td>3.95</td>\n",
       "      <td>English</td>\n",
       "      <td>9780451526342</td>\n",
       "      <td>Classics</td>\n",
       "      <td>Mass Market Paperback</td>\n",
       "      <td>NaN</td>\n",
       "      <td>...</td>\n",
       "      <td>Signet Classics</td>\n",
       "      <td>04/28/96</td>\n",
       "      <td>08/17/45</td>\n",
       "      <td>['Prometheus Hall of Fame Award (2011)', 'Retr...</td>\n",
       "      <td>2740713</td>\n",
       "      <td>91.0</td>\n",
       "      <td>https://i.gr-assets.com/images/S/compressed.ph...</td>\n",
       "      <td>1276599</td>\n",
       "      <td>13264</td>\n",
       "      <td>4.42</td>\n",
       "    </tr>\n",
       "    <tr>\n",
       "      <th>...</th>\n",
       "      <td>...</td>\n",
       "      <td>...</td>\n",
       "      <td>...</td>\n",
       "      <td>...</td>\n",
       "      <td>...</td>\n",
       "      <td>...</td>\n",
       "      <td>...</td>\n",
       "      <td>...</td>\n",
       "      <td>...</td>\n",
       "      <td>...</td>\n",
       "      <td>...</td>\n",
       "      <td>...</td>\n",
       "      <td>...</td>\n",
       "      <td>...</td>\n",
       "      <td>...</td>\n",
       "      <td>...</td>\n",
       "      <td>...</td>\n",
       "      <td>...</td>\n",
       "      <td>...</td>\n",
       "      <td>...</td>\n",
       "      <td>...</td>\n",
       "    </tr>\n",
       "    <tr>\n",
       "      <th>52467</th>\n",
       "      <td>40510415-undetected</td>\n",
       "      <td>Undetected</td>\n",
       "      <td>Treasure Hunter Security #8</td>\n",
       "      <td>Anna Hackett</td>\n",
       "      <td>4.56</td>\n",
       "      <td>English</td>\n",
       "      <td>B07DN75RP3</td>\n",
       "      <td>Romance</td>\n",
       "      <td>Kindle Edition</td>\n",
       "      <td>NaN</td>\n",
       "      <td>...</td>\n",
       "      <td>NaN</td>\n",
       "      <td>September 4th 2018</td>\n",
       "      <td>NaN</td>\n",
       "      <td>[]</td>\n",
       "      <td>651</td>\n",
       "      <td>100.0</td>\n",
       "      <td>https://i.gr-assets.com/images/S/compressed.ph...</td>\n",
       "      <td>1</td>\n",
       "      <td>1</td>\n",
       "      <td>NaN</td>\n",
       "    </tr>\n",
       "    <tr>\n",
       "      <th>52471</th>\n",
       "      <td>12464361-elemental</td>\n",
       "      <td>Elemental</td>\n",
       "      <td>Soul Guardians #2</td>\n",
       "      <td>Kim Richardson</td>\n",
       "      <td>4.07</td>\n",
       "      <td>English</td>\n",
       "      <td>B005IGOSCC</td>\n",
       "      <td>Fantasy</td>\n",
       "      <td>Kindle Edition</td>\n",
       "      <td>NaN</td>\n",
       "      <td>...</td>\n",
       "      <td>Kim Richardson</td>\n",
       "      <td>August 21st 2011</td>\n",
       "      <td>August 1st 2011</td>\n",
       "      <td>[]</td>\n",
       "      <td>1947</td>\n",
       "      <td>94.0</td>\n",
       "      <td>https://i.gr-assets.com/images/S/compressed.ph...</td>\n",
       "      <td>0</td>\n",
       "      <td>1</td>\n",
       "      <td>NaN</td>\n",
       "    </tr>\n",
       "    <tr>\n",
       "      <th>52472</th>\n",
       "      <td>12395883-unbelievable</td>\n",
       "      <td>Unbelievable</td>\n",
       "      <td>Port Fare #2</td>\n",
       "      <td>Sherry Gammon</td>\n",
       "      <td>4.16</td>\n",
       "      <td>English</td>\n",
       "      <td>9781477594247</td>\n",
       "      <td>Romance</td>\n",
       "      <td>Paperback</td>\n",
       "      <td>NaN</td>\n",
       "      <td>...</td>\n",
       "      <td>Wordpaintings Unlimited</td>\n",
       "      <td>April 11th 2013</td>\n",
       "      <td>March 30th 2013</td>\n",
       "      <td>[]</td>\n",
       "      <td>1028</td>\n",
       "      <td>94.0</td>\n",
       "      <td>https://i.gr-assets.com/images/S/compressed.ph...</td>\n",
       "      <td>0</td>\n",
       "      <td>1</td>\n",
       "      <td>19.18</td>\n",
       "    </tr>\n",
       "    <tr>\n",
       "      <th>52475</th>\n",
       "      <td>10815662-marked</td>\n",
       "      <td>Marked</td>\n",
       "      <td>Soul Guardians #1</td>\n",
       "      <td>Kim Richardson</td>\n",
       "      <td>3.70</td>\n",
       "      <td>English</td>\n",
       "      <td>9781461017097</td>\n",
       "      <td>Fantasy</td>\n",
       "      <td>Paperback</td>\n",
       "      <td>NaN</td>\n",
       "      <td>...</td>\n",
       "      <td>CreateSpace</td>\n",
       "      <td>March 18th 2011</td>\n",
       "      <td>March 15th 2011</td>\n",
       "      <td>[\"Readers' Favorite Book Award (2011)\"]</td>\n",
       "      <td>6674</td>\n",
       "      <td>84.0</td>\n",
       "      <td>https://i.gr-assets.com/images/S/compressed.ph...</td>\n",
       "      <td>0</td>\n",
       "      <td>1</td>\n",
       "      <td>7.37</td>\n",
       "    </tr>\n",
       "    <tr>\n",
       "      <th>52476</th>\n",
       "      <td>11330278-wayward-son</td>\n",
       "      <td>Wayward Son</td>\n",
       "      <td>NaN</td>\n",
       "      <td>Tom Pollack</td>\n",
       "      <td>3.85</td>\n",
       "      <td>English</td>\n",
       "      <td>9781450755634</td>\n",
       "      <td>Fiction</td>\n",
       "      <td>Paperback</td>\n",
       "      <td>1st edition</td>\n",
       "      <td>...</td>\n",
       "      <td>Cascada Productions</td>\n",
       "      <td>September 1st 2011</td>\n",
       "      <td>April 5th 2011</td>\n",
       "      <td>[]</td>\n",
       "      <td>238</td>\n",
       "      <td>90.0</td>\n",
       "      <td>https://i.gr-assets.com/images/S/compressed.ph...</td>\n",
       "      <td>0</td>\n",
       "      <td>1</td>\n",
       "      <td>2.86</td>\n",
       "    </tr>\n",
       "  </tbody>\n",
       "</table>\n",
       "<p>25629 rows × 21 columns</p>\n",
       "</div>"
      ],
      "text/plain": [
       "                                            bookId  \\\n",
       "0                         2767052-the-hunger-games   \n",
       "1      2.Harry_Potter_and_the_Order_of_the_Phoenix   \n",
       "4                                   41865.Twilight   \n",
       "5                             19063.The_Book_Thief   \n",
       "6                               170448.Animal_Farm   \n",
       "...                                            ...   \n",
       "52467                          40510415-undetected   \n",
       "52471                           12464361-elemental   \n",
       "52472                        12395883-unbelievable   \n",
       "52475                              10815662-marked   \n",
       "52476                         11330278-wayward-son   \n",
       "\n",
       "                                           title                       series  \\\n",
       "0                               The Hunger Games          The Hunger Games #1   \n",
       "1      Harry Potter and the Order of the Phoenix              Harry Potter #5   \n",
       "4                                       Twilight         The Twilight Saga #1   \n",
       "5                                 The Book Thief                          NaN   \n",
       "6                                    Animal Farm                          NaN   \n",
       "...                                          ...                          ...   \n",
       "52467                                 Undetected  Treasure Hunter Security #8   \n",
       "52471                                  Elemental            Soul Guardians #2   \n",
       "52472                               Unbelievable                 Port Fare #2   \n",
       "52475                                     Marked            Soul Guardians #1   \n",
       "52476                                Wayward Son                          NaN   \n",
       "\n",
       "                author  rating language           isbn              genres  \\\n",
       "0      Suzanne Collins    4.33  English  9780439023481         Young Adult   \n",
       "1         J.K. Rowling    4.50  English  9780439358071             Fantasy   \n",
       "4      Stephenie Meyer    3.60  English  9780316015844         Young Adult   \n",
       "5        Markus Zusak     4.37  English  9780375831003  Historical Fiction   \n",
       "6        George Orwell    3.95  English  9780451526342            Classics   \n",
       "...                ...     ...      ...            ...                 ...   \n",
       "52467    Anna Hackett     4.56  English     B07DN75RP3             Romance   \n",
       "52471  Kim Richardson     4.07  English     B005IGOSCC             Fantasy   \n",
       "52472   Sherry Gammon     4.16  English  9781477594247             Romance   \n",
       "52475  Kim Richardson     3.70  English  9781461017097             Fantasy   \n",
       "52476     Tom Pollack     3.85  English  9781450755634             Fiction   \n",
       "\n",
       "                  bookFormat                 edition  ...  \\\n",
       "0                  Hardcover           First Edition  ...   \n",
       "1                  Paperback              US Edition  ...   \n",
       "4                  Paperback                     NaN  ...   \n",
       "5                  Hardcover  First American Edition  ...   \n",
       "6      Mass Market Paperback                     NaN  ...   \n",
       "...                      ...                     ...  ...   \n",
       "52467         Kindle Edition                     NaN  ...   \n",
       "52471         Kindle Edition                     NaN  ...   \n",
       "52472              Paperback                     NaN  ...   \n",
       "52475              Paperback                     NaN  ...   \n",
       "52476              Paperback             1st edition  ...   \n",
       "\n",
       "                       publisher         publishDate firstPublishDate  \\\n",
       "0               Scholastic Press            09/14/08              NaN   \n",
       "1                Scholastic Inc.            09/28/04         06/21/03   \n",
       "4      Little, Brown and Company            09/06/06         10/05/05   \n",
       "5                Alfred A. Knopf            03/14/06         09/01/05   \n",
       "6                Signet Classics            04/28/96         08/17/45   \n",
       "...                          ...                 ...              ...   \n",
       "52467                        NaN  September 4th 2018              NaN   \n",
       "52471             Kim Richardson    August 21st 2011  August 1st 2011   \n",
       "52472    Wordpaintings Unlimited     April 11th 2013  March 30th 2013   \n",
       "52475                CreateSpace     March 18th 2011  March 15th 2011   \n",
       "52476        Cascada Productions  September 1st 2011   April 5th 2011   \n",
       "\n",
       "                                                  awards numRatings  \\\n",
       "0      ['Locus Award Nominee for Best Young Adult Boo...    6376780   \n",
       "1      ['Bram Stoker Award for Works for Young Reader...    2507623   \n",
       "4      ['Georgia Peach Book Award (2007)', 'Buxtehude...    4964519   \n",
       "5      ['National Jewish Book Award for Childrenâs ...    1834276   \n",
       "6      ['Prometheus Hall of Fame Award (2011)', 'Retr...    2740713   \n",
       "...                                                  ...        ...   \n",
       "52467                                                 []        651   \n",
       "52471                                                 []       1947   \n",
       "52472                                                 []       1028   \n",
       "52475            [\"Readers' Favorite Book Award (2011)\"]       6674   \n",
       "52476                                                 []        238   \n",
       "\n",
       "       likedPercent                                           coverImg  \\\n",
       "0              96.0  https://i.gr-assets.com/images/S/compressed.ph...   \n",
       "1              98.0  https://i.gr-assets.com/images/S/compressed.ph...   \n",
       "4              78.0  https://i.gr-assets.com/images/S/compressed.ph...   \n",
       "5              96.0  https://i.gr-assets.com/images/S/compressed.ph...   \n",
       "6              91.0  https://i.gr-assets.com/images/S/compressed.ph...   \n",
       "...             ...                                                ...   \n",
       "52467         100.0  https://i.gr-assets.com/images/S/compressed.ph...   \n",
       "52471          94.0  https://i.gr-assets.com/images/S/compressed.ph...   \n",
       "52472          94.0  https://i.gr-assets.com/images/S/compressed.ph...   \n",
       "52475          84.0  https://i.gr-assets.com/images/S/compressed.ph...   \n",
       "52476          90.0  https://i.gr-assets.com/images/S/compressed.ph...   \n",
       "\n",
       "      bbeScore  bbeVotes  price  \n",
       "0      2993816     30516   5.09  \n",
       "1      2632233     26923   7.38  \n",
       "4      1459448     14874    2.1  \n",
       "5      1372809     14168    3.8  \n",
       "6      1276599     13264   4.42  \n",
       "...        ...       ...    ...  \n",
       "52467        1         1    NaN  \n",
       "52471        0         1    NaN  \n",
       "52472        0         1  19.18  \n",
       "52475        0         1   7.37  \n",
       "52476        0         1   2.86  \n",
       "\n",
       "[25629 rows x 21 columns]"
      ]
     },
     "execution_count": 343,
     "metadata": {},
     "output_type": "execute_result"
    }
   ],
   "source": [
    "df_genre2"
   ]
  },
  {
   "cell_type": "code",
   "execution_count": 344,
   "metadata": {},
   "outputs": [
    {
     "data": {
      "application/vnd.plotly.v1+json": {
       "config": {
        "plotlyServerURL": "https://plot.ly"
       },
       "data": [
        {
         "alignmentgroup": "True",
         "hovertemplate": "Nº of titles=%{x}<br>Genre=%{y}<extra></extra>",
         "legendgroup": "",
         "marker": {
          "color": "#636efa",
          "pattern": {
           "shape": ""
          }
         },
         "name": "",
         "offsetgroup": "",
         "orientation": "h",
         "showlegend": false,
         "textposition": "auto",
         "type": "bar",
         "x": [
          5849,
          5182,
          2992,
          2776,
          2445,
          2149,
          1875,
          1324,
          1037
         ],
         "xaxis": "x",
         "y": [
          "Fiction",
          "Fantasy",
          "Young Adult",
          "Romance",
          "Nonfiction",
          "Historical Fiction",
          "Mystery",
          "Science Fiction",
          "Classics"
         ],
         "yaxis": "y"
        }
       ],
       "layout": {
        "barmode": "relative",
        "legend": {
         "tracegroupgap": 0
        },
        "template": {
         "data": {
          "bar": [
           {
            "error_x": {
             "color": "#2a3f5f"
            },
            "error_y": {
             "color": "#2a3f5f"
            },
            "marker": {
             "line": {
              "color": "#E5ECF6",
              "width": 0.5
             },
             "pattern": {
              "fillmode": "overlay",
              "size": 10,
              "solidity": 0.2
             }
            },
            "type": "bar"
           }
          ],
          "barpolar": [
           {
            "marker": {
             "line": {
              "color": "#E5ECF6",
              "width": 0.5
             },
             "pattern": {
              "fillmode": "overlay",
              "size": 10,
              "solidity": 0.2
             }
            },
            "type": "barpolar"
           }
          ],
          "carpet": [
           {
            "aaxis": {
             "endlinecolor": "#2a3f5f",
             "gridcolor": "white",
             "linecolor": "white",
             "minorgridcolor": "white",
             "startlinecolor": "#2a3f5f"
            },
            "baxis": {
             "endlinecolor": "#2a3f5f",
             "gridcolor": "white",
             "linecolor": "white",
             "minorgridcolor": "white",
             "startlinecolor": "#2a3f5f"
            },
            "type": "carpet"
           }
          ],
          "choropleth": [
           {
            "colorbar": {
             "outlinewidth": 0,
             "ticks": ""
            },
            "type": "choropleth"
           }
          ],
          "contour": [
           {
            "colorbar": {
             "outlinewidth": 0,
             "ticks": ""
            },
            "colorscale": [
             [
              0,
              "#0d0887"
             ],
             [
              0.1111111111111111,
              "#46039f"
             ],
             [
              0.2222222222222222,
              "#7201a8"
             ],
             [
              0.3333333333333333,
              "#9c179e"
             ],
             [
              0.4444444444444444,
              "#bd3786"
             ],
             [
              0.5555555555555556,
              "#d8576b"
             ],
             [
              0.6666666666666666,
              "#ed7953"
             ],
             [
              0.7777777777777778,
              "#fb9f3a"
             ],
             [
              0.8888888888888888,
              "#fdca26"
             ],
             [
              1,
              "#f0f921"
             ]
            ],
            "type": "contour"
           }
          ],
          "contourcarpet": [
           {
            "colorbar": {
             "outlinewidth": 0,
             "ticks": ""
            },
            "type": "contourcarpet"
           }
          ],
          "heatmap": [
           {
            "colorbar": {
             "outlinewidth": 0,
             "ticks": ""
            },
            "colorscale": [
             [
              0,
              "#0d0887"
             ],
             [
              0.1111111111111111,
              "#46039f"
             ],
             [
              0.2222222222222222,
              "#7201a8"
             ],
             [
              0.3333333333333333,
              "#9c179e"
             ],
             [
              0.4444444444444444,
              "#bd3786"
             ],
             [
              0.5555555555555556,
              "#d8576b"
             ],
             [
              0.6666666666666666,
              "#ed7953"
             ],
             [
              0.7777777777777778,
              "#fb9f3a"
             ],
             [
              0.8888888888888888,
              "#fdca26"
             ],
             [
              1,
              "#f0f921"
             ]
            ],
            "type": "heatmap"
           }
          ],
          "heatmapgl": [
           {
            "colorbar": {
             "outlinewidth": 0,
             "ticks": ""
            },
            "colorscale": [
             [
              0,
              "#0d0887"
             ],
             [
              0.1111111111111111,
              "#46039f"
             ],
             [
              0.2222222222222222,
              "#7201a8"
             ],
             [
              0.3333333333333333,
              "#9c179e"
             ],
             [
              0.4444444444444444,
              "#bd3786"
             ],
             [
              0.5555555555555556,
              "#d8576b"
             ],
             [
              0.6666666666666666,
              "#ed7953"
             ],
             [
              0.7777777777777778,
              "#fb9f3a"
             ],
             [
              0.8888888888888888,
              "#fdca26"
             ],
             [
              1,
              "#f0f921"
             ]
            ],
            "type": "heatmapgl"
           }
          ],
          "histogram": [
           {
            "marker": {
             "pattern": {
              "fillmode": "overlay",
              "size": 10,
              "solidity": 0.2
             }
            },
            "type": "histogram"
           }
          ],
          "histogram2d": [
           {
            "colorbar": {
             "outlinewidth": 0,
             "ticks": ""
            },
            "colorscale": [
             [
              0,
              "#0d0887"
             ],
             [
              0.1111111111111111,
              "#46039f"
             ],
             [
              0.2222222222222222,
              "#7201a8"
             ],
             [
              0.3333333333333333,
              "#9c179e"
             ],
             [
              0.4444444444444444,
              "#bd3786"
             ],
             [
              0.5555555555555556,
              "#d8576b"
             ],
             [
              0.6666666666666666,
              "#ed7953"
             ],
             [
              0.7777777777777778,
              "#fb9f3a"
             ],
             [
              0.8888888888888888,
              "#fdca26"
             ],
             [
              1,
              "#f0f921"
             ]
            ],
            "type": "histogram2d"
           }
          ],
          "histogram2dcontour": [
           {
            "colorbar": {
             "outlinewidth": 0,
             "ticks": ""
            },
            "colorscale": [
             [
              0,
              "#0d0887"
             ],
             [
              0.1111111111111111,
              "#46039f"
             ],
             [
              0.2222222222222222,
              "#7201a8"
             ],
             [
              0.3333333333333333,
              "#9c179e"
             ],
             [
              0.4444444444444444,
              "#bd3786"
             ],
             [
              0.5555555555555556,
              "#d8576b"
             ],
             [
              0.6666666666666666,
              "#ed7953"
             ],
             [
              0.7777777777777778,
              "#fb9f3a"
             ],
             [
              0.8888888888888888,
              "#fdca26"
             ],
             [
              1,
              "#f0f921"
             ]
            ],
            "type": "histogram2dcontour"
           }
          ],
          "mesh3d": [
           {
            "colorbar": {
             "outlinewidth": 0,
             "ticks": ""
            },
            "type": "mesh3d"
           }
          ],
          "parcoords": [
           {
            "line": {
             "colorbar": {
              "outlinewidth": 0,
              "ticks": ""
             }
            },
            "type": "parcoords"
           }
          ],
          "pie": [
           {
            "automargin": true,
            "type": "pie"
           }
          ],
          "scatter": [
           {
            "fillpattern": {
             "fillmode": "overlay",
             "size": 10,
             "solidity": 0.2
            },
            "type": "scatter"
           }
          ],
          "scatter3d": [
           {
            "line": {
             "colorbar": {
              "outlinewidth": 0,
              "ticks": ""
             }
            },
            "marker": {
             "colorbar": {
              "outlinewidth": 0,
              "ticks": ""
             }
            },
            "type": "scatter3d"
           }
          ],
          "scattercarpet": [
           {
            "marker": {
             "colorbar": {
              "outlinewidth": 0,
              "ticks": ""
             }
            },
            "type": "scattercarpet"
           }
          ],
          "scattergeo": [
           {
            "marker": {
             "colorbar": {
              "outlinewidth": 0,
              "ticks": ""
             }
            },
            "type": "scattergeo"
           }
          ],
          "scattergl": [
           {
            "marker": {
             "colorbar": {
              "outlinewidth": 0,
              "ticks": ""
             }
            },
            "type": "scattergl"
           }
          ],
          "scattermapbox": [
           {
            "marker": {
             "colorbar": {
              "outlinewidth": 0,
              "ticks": ""
             }
            },
            "type": "scattermapbox"
           }
          ],
          "scatterpolar": [
           {
            "marker": {
             "colorbar": {
              "outlinewidth": 0,
              "ticks": ""
             }
            },
            "type": "scatterpolar"
           }
          ],
          "scatterpolargl": [
           {
            "marker": {
             "colorbar": {
              "outlinewidth": 0,
              "ticks": ""
             }
            },
            "type": "scatterpolargl"
           }
          ],
          "scatterternary": [
           {
            "marker": {
             "colorbar": {
              "outlinewidth": 0,
              "ticks": ""
             }
            },
            "type": "scatterternary"
           }
          ],
          "surface": [
           {
            "colorbar": {
             "outlinewidth": 0,
             "ticks": ""
            },
            "colorscale": [
             [
              0,
              "#0d0887"
             ],
             [
              0.1111111111111111,
              "#46039f"
             ],
             [
              0.2222222222222222,
              "#7201a8"
             ],
             [
              0.3333333333333333,
              "#9c179e"
             ],
             [
              0.4444444444444444,
              "#bd3786"
             ],
             [
              0.5555555555555556,
              "#d8576b"
             ],
             [
              0.6666666666666666,
              "#ed7953"
             ],
             [
              0.7777777777777778,
              "#fb9f3a"
             ],
             [
              0.8888888888888888,
              "#fdca26"
             ],
             [
              1,
              "#f0f921"
             ]
            ],
            "type": "surface"
           }
          ],
          "table": [
           {
            "cells": {
             "fill": {
              "color": "#EBF0F8"
             },
             "line": {
              "color": "white"
             }
            },
            "header": {
             "fill": {
              "color": "#C8D4E3"
             },
             "line": {
              "color": "white"
             }
            },
            "type": "table"
           }
          ]
         },
         "layout": {
          "annotationdefaults": {
           "arrowcolor": "#2a3f5f",
           "arrowhead": 0,
           "arrowwidth": 1
          },
          "autotypenumbers": "strict",
          "coloraxis": {
           "colorbar": {
            "outlinewidth": 0,
            "ticks": ""
           }
          },
          "colorscale": {
           "diverging": [
            [
             0,
             "#8e0152"
            ],
            [
             0.1,
             "#c51b7d"
            ],
            [
             0.2,
             "#de77ae"
            ],
            [
             0.3,
             "#f1b6da"
            ],
            [
             0.4,
             "#fde0ef"
            ],
            [
             0.5,
             "#f7f7f7"
            ],
            [
             0.6,
             "#e6f5d0"
            ],
            [
             0.7,
             "#b8e186"
            ],
            [
             0.8,
             "#7fbc41"
            ],
            [
             0.9,
             "#4d9221"
            ],
            [
             1,
             "#276419"
            ]
           ],
           "sequential": [
            [
             0,
             "#0d0887"
            ],
            [
             0.1111111111111111,
             "#46039f"
            ],
            [
             0.2222222222222222,
             "#7201a8"
            ],
            [
             0.3333333333333333,
             "#9c179e"
            ],
            [
             0.4444444444444444,
             "#bd3786"
            ],
            [
             0.5555555555555556,
             "#d8576b"
            ],
            [
             0.6666666666666666,
             "#ed7953"
            ],
            [
             0.7777777777777778,
             "#fb9f3a"
            ],
            [
             0.8888888888888888,
             "#fdca26"
            ],
            [
             1,
             "#f0f921"
            ]
           ],
           "sequentialminus": [
            [
             0,
             "#0d0887"
            ],
            [
             0.1111111111111111,
             "#46039f"
            ],
            [
             0.2222222222222222,
             "#7201a8"
            ],
            [
             0.3333333333333333,
             "#9c179e"
            ],
            [
             0.4444444444444444,
             "#bd3786"
            ],
            [
             0.5555555555555556,
             "#d8576b"
            ],
            [
             0.6666666666666666,
             "#ed7953"
            ],
            [
             0.7777777777777778,
             "#fb9f3a"
            ],
            [
             0.8888888888888888,
             "#fdca26"
            ],
            [
             1,
             "#f0f921"
            ]
           ]
          },
          "colorway": [
           "#636efa",
           "#EF553B",
           "#00cc96",
           "#ab63fa",
           "#FFA15A",
           "#19d3f3",
           "#FF6692",
           "#B6E880",
           "#FF97FF",
           "#FECB52"
          ],
          "font": {
           "color": "#2a3f5f"
          },
          "geo": {
           "bgcolor": "white",
           "lakecolor": "white",
           "landcolor": "#E5ECF6",
           "showlakes": true,
           "showland": true,
           "subunitcolor": "white"
          },
          "hoverlabel": {
           "align": "left"
          },
          "hovermode": "closest",
          "mapbox": {
           "style": "light"
          },
          "paper_bgcolor": "white",
          "plot_bgcolor": "#E5ECF6",
          "polar": {
           "angularaxis": {
            "gridcolor": "white",
            "linecolor": "white",
            "ticks": ""
           },
           "bgcolor": "#E5ECF6",
           "radialaxis": {
            "gridcolor": "white",
            "linecolor": "white",
            "ticks": ""
           }
          },
          "scene": {
           "xaxis": {
            "backgroundcolor": "#E5ECF6",
            "gridcolor": "white",
            "gridwidth": 2,
            "linecolor": "white",
            "showbackground": true,
            "ticks": "",
            "zerolinecolor": "white"
           },
           "yaxis": {
            "backgroundcolor": "#E5ECF6",
            "gridcolor": "white",
            "gridwidth": 2,
            "linecolor": "white",
            "showbackground": true,
            "ticks": "",
            "zerolinecolor": "white"
           },
           "zaxis": {
            "backgroundcolor": "#E5ECF6",
            "gridcolor": "white",
            "gridwidth": 2,
            "linecolor": "white",
            "showbackground": true,
            "ticks": "",
            "zerolinecolor": "white"
           }
          },
          "shapedefaults": {
           "line": {
            "color": "#2a3f5f"
           }
          },
          "ternary": {
           "aaxis": {
            "gridcolor": "white",
            "linecolor": "white",
            "ticks": ""
           },
           "baxis": {
            "gridcolor": "white",
            "linecolor": "white",
            "ticks": ""
           },
           "bgcolor": "#E5ECF6",
           "caxis": {
            "gridcolor": "white",
            "linecolor": "white",
            "ticks": ""
           }
          },
          "title": {
           "x": 0.05
          },
          "xaxis": {
           "automargin": true,
           "gridcolor": "white",
           "linecolor": "white",
           "ticks": "",
           "title": {
            "standoff": 15
           },
           "zerolinecolor": "white",
           "zerolinewidth": 2
          },
          "yaxis": {
           "automargin": true,
           "gridcolor": "white",
           "linecolor": "white",
           "ticks": "",
           "title": {
            "standoff": 15
           },
           "zerolinecolor": "white",
           "zerolinewidth": 2
          }
         }
        },
        "title": {
         "text": "Nº of books per genre"
        },
        "xaxis": {
         "anchor": "y",
         "domain": [
          0,
          1
         ],
         "title": {
          "text": "Nº of titles"
         }
        },
        "yaxis": {
         "anchor": "x",
         "categoryorder": "total ascending",
         "domain": [
          0,
          1
         ],
         "title": {
          "text": "Genre"
         }
        }
       }
      },
      "text/html": [
       "<div>                            <div id=\"685f3d7e-f46a-4086-867c-9a72a8205945\" class=\"plotly-graph-div\" style=\"height:525px; width:100%;\"></div>            <script type=\"text/javascript\">                require([\"plotly\"], function(Plotly) {                    window.PLOTLYENV=window.PLOTLYENV || {};                                    if (document.getElementById(\"685f3d7e-f46a-4086-867c-9a72a8205945\")) {                    Plotly.newPlot(                        \"685f3d7e-f46a-4086-867c-9a72a8205945\",                        [{\"alignmentgroup\":\"True\",\"hovertemplate\":\"N\\u00ba of titles=%{x}<br>Genre=%{y}<extra></extra>\",\"legendgroup\":\"\",\"marker\":{\"color\":\"#636efa\",\"pattern\":{\"shape\":\"\"}},\"name\":\"\",\"offsetgroup\":\"\",\"orientation\":\"h\",\"showlegend\":false,\"textposition\":\"auto\",\"x\":[5849,5182,2992,2776,2445,2149,1875,1324,1037],\"xaxis\":\"x\",\"y\":[\"Fiction\",\"Fantasy\",\"Young Adult\",\"Romance\",\"Nonfiction\",\"Historical Fiction\",\"Mystery\",\"Science Fiction\",\"Classics\"],\"yaxis\":\"y\",\"type\":\"bar\"}],                        {\"template\":{\"data\":{\"histogram2dcontour\":[{\"type\":\"histogram2dcontour\",\"colorbar\":{\"outlinewidth\":0,\"ticks\":\"\"},\"colorscale\":[[0.0,\"#0d0887\"],[0.1111111111111111,\"#46039f\"],[0.2222222222222222,\"#7201a8\"],[0.3333333333333333,\"#9c179e\"],[0.4444444444444444,\"#bd3786\"],[0.5555555555555556,\"#d8576b\"],[0.6666666666666666,\"#ed7953\"],[0.7777777777777778,\"#fb9f3a\"],[0.8888888888888888,\"#fdca26\"],[1.0,\"#f0f921\"]]}],\"choropleth\":[{\"type\":\"choropleth\",\"colorbar\":{\"outlinewidth\":0,\"ticks\":\"\"}}],\"histogram2d\":[{\"type\":\"histogram2d\",\"colorbar\":{\"outlinewidth\":0,\"ticks\":\"\"},\"colorscale\":[[0.0,\"#0d0887\"],[0.1111111111111111,\"#46039f\"],[0.2222222222222222,\"#7201a8\"],[0.3333333333333333,\"#9c179e\"],[0.4444444444444444,\"#bd3786\"],[0.5555555555555556,\"#d8576b\"],[0.6666666666666666,\"#ed7953\"],[0.7777777777777778,\"#fb9f3a\"],[0.8888888888888888,\"#fdca26\"],[1.0,\"#f0f921\"]]}],\"heatmap\":[{\"type\":\"heatmap\",\"colorbar\":{\"outlinewidth\":0,\"ticks\":\"\"},\"colorscale\":[[0.0,\"#0d0887\"],[0.1111111111111111,\"#46039f\"],[0.2222222222222222,\"#7201a8\"],[0.3333333333333333,\"#9c179e\"],[0.4444444444444444,\"#bd3786\"],[0.5555555555555556,\"#d8576b\"],[0.6666666666666666,\"#ed7953\"],[0.7777777777777778,\"#fb9f3a\"],[0.8888888888888888,\"#fdca26\"],[1.0,\"#f0f921\"]]}],\"heatmapgl\":[{\"type\":\"heatmapgl\",\"colorbar\":{\"outlinewidth\":0,\"ticks\":\"\"},\"colorscale\":[[0.0,\"#0d0887\"],[0.1111111111111111,\"#46039f\"],[0.2222222222222222,\"#7201a8\"],[0.3333333333333333,\"#9c179e\"],[0.4444444444444444,\"#bd3786\"],[0.5555555555555556,\"#d8576b\"],[0.6666666666666666,\"#ed7953\"],[0.7777777777777778,\"#fb9f3a\"],[0.8888888888888888,\"#fdca26\"],[1.0,\"#f0f921\"]]}],\"contourcarpet\":[{\"type\":\"contourcarpet\",\"colorbar\":{\"outlinewidth\":0,\"ticks\":\"\"}}],\"contour\":[{\"type\":\"contour\",\"colorbar\":{\"outlinewidth\":0,\"ticks\":\"\"},\"colorscale\":[[0.0,\"#0d0887\"],[0.1111111111111111,\"#46039f\"],[0.2222222222222222,\"#7201a8\"],[0.3333333333333333,\"#9c179e\"],[0.4444444444444444,\"#bd3786\"],[0.5555555555555556,\"#d8576b\"],[0.6666666666666666,\"#ed7953\"],[0.7777777777777778,\"#fb9f3a\"],[0.8888888888888888,\"#fdca26\"],[1.0,\"#f0f921\"]]}],\"surface\":[{\"type\":\"surface\",\"colorbar\":{\"outlinewidth\":0,\"ticks\":\"\"},\"colorscale\":[[0.0,\"#0d0887\"],[0.1111111111111111,\"#46039f\"],[0.2222222222222222,\"#7201a8\"],[0.3333333333333333,\"#9c179e\"],[0.4444444444444444,\"#bd3786\"],[0.5555555555555556,\"#d8576b\"],[0.6666666666666666,\"#ed7953\"],[0.7777777777777778,\"#fb9f3a\"],[0.8888888888888888,\"#fdca26\"],[1.0,\"#f0f921\"]]}],\"mesh3d\":[{\"type\":\"mesh3d\",\"colorbar\":{\"outlinewidth\":0,\"ticks\":\"\"}}],\"scatter\":[{\"fillpattern\":{\"fillmode\":\"overlay\",\"size\":10,\"solidity\":0.2},\"type\":\"scatter\"}],\"parcoords\":[{\"type\":\"parcoords\",\"line\":{\"colorbar\":{\"outlinewidth\":0,\"ticks\":\"\"}}}],\"scatterpolargl\":[{\"type\":\"scatterpolargl\",\"marker\":{\"colorbar\":{\"outlinewidth\":0,\"ticks\":\"\"}}}],\"bar\":[{\"error_x\":{\"color\":\"#2a3f5f\"},\"error_y\":{\"color\":\"#2a3f5f\"},\"marker\":{\"line\":{\"color\":\"#E5ECF6\",\"width\":0.5},\"pattern\":{\"fillmode\":\"overlay\",\"size\":10,\"solidity\":0.2}},\"type\":\"bar\"}],\"scattergeo\":[{\"type\":\"scattergeo\",\"marker\":{\"colorbar\":{\"outlinewidth\":0,\"ticks\":\"\"}}}],\"scatterpolar\":[{\"type\":\"scatterpolar\",\"marker\":{\"colorbar\":{\"outlinewidth\":0,\"ticks\":\"\"}}}],\"histogram\":[{\"marker\":{\"pattern\":{\"fillmode\":\"overlay\",\"size\":10,\"solidity\":0.2}},\"type\":\"histogram\"}],\"scattergl\":[{\"type\":\"scattergl\",\"marker\":{\"colorbar\":{\"outlinewidth\":0,\"ticks\":\"\"}}}],\"scatter3d\":[{\"type\":\"scatter3d\",\"line\":{\"colorbar\":{\"outlinewidth\":0,\"ticks\":\"\"}},\"marker\":{\"colorbar\":{\"outlinewidth\":0,\"ticks\":\"\"}}}],\"scattermapbox\":[{\"type\":\"scattermapbox\",\"marker\":{\"colorbar\":{\"outlinewidth\":0,\"ticks\":\"\"}}}],\"scatterternary\":[{\"type\":\"scatterternary\",\"marker\":{\"colorbar\":{\"outlinewidth\":0,\"ticks\":\"\"}}}],\"scattercarpet\":[{\"type\":\"scattercarpet\",\"marker\":{\"colorbar\":{\"outlinewidth\":0,\"ticks\":\"\"}}}],\"carpet\":[{\"aaxis\":{\"endlinecolor\":\"#2a3f5f\",\"gridcolor\":\"white\",\"linecolor\":\"white\",\"minorgridcolor\":\"white\",\"startlinecolor\":\"#2a3f5f\"},\"baxis\":{\"endlinecolor\":\"#2a3f5f\",\"gridcolor\":\"white\",\"linecolor\":\"white\",\"minorgridcolor\":\"white\",\"startlinecolor\":\"#2a3f5f\"},\"type\":\"carpet\"}],\"table\":[{\"cells\":{\"fill\":{\"color\":\"#EBF0F8\"},\"line\":{\"color\":\"white\"}},\"header\":{\"fill\":{\"color\":\"#C8D4E3\"},\"line\":{\"color\":\"white\"}},\"type\":\"table\"}],\"barpolar\":[{\"marker\":{\"line\":{\"color\":\"#E5ECF6\",\"width\":0.5},\"pattern\":{\"fillmode\":\"overlay\",\"size\":10,\"solidity\":0.2}},\"type\":\"barpolar\"}],\"pie\":[{\"automargin\":true,\"type\":\"pie\"}]},\"layout\":{\"autotypenumbers\":\"strict\",\"colorway\":[\"#636efa\",\"#EF553B\",\"#00cc96\",\"#ab63fa\",\"#FFA15A\",\"#19d3f3\",\"#FF6692\",\"#B6E880\",\"#FF97FF\",\"#FECB52\"],\"font\":{\"color\":\"#2a3f5f\"},\"hovermode\":\"closest\",\"hoverlabel\":{\"align\":\"left\"},\"paper_bgcolor\":\"white\",\"plot_bgcolor\":\"#E5ECF6\",\"polar\":{\"bgcolor\":\"#E5ECF6\",\"angularaxis\":{\"gridcolor\":\"white\",\"linecolor\":\"white\",\"ticks\":\"\"},\"radialaxis\":{\"gridcolor\":\"white\",\"linecolor\":\"white\",\"ticks\":\"\"}},\"ternary\":{\"bgcolor\":\"#E5ECF6\",\"aaxis\":{\"gridcolor\":\"white\",\"linecolor\":\"white\",\"ticks\":\"\"},\"baxis\":{\"gridcolor\":\"white\",\"linecolor\":\"white\",\"ticks\":\"\"},\"caxis\":{\"gridcolor\":\"white\",\"linecolor\":\"white\",\"ticks\":\"\"}},\"coloraxis\":{\"colorbar\":{\"outlinewidth\":0,\"ticks\":\"\"}},\"colorscale\":{\"sequential\":[[0.0,\"#0d0887\"],[0.1111111111111111,\"#46039f\"],[0.2222222222222222,\"#7201a8\"],[0.3333333333333333,\"#9c179e\"],[0.4444444444444444,\"#bd3786\"],[0.5555555555555556,\"#d8576b\"],[0.6666666666666666,\"#ed7953\"],[0.7777777777777778,\"#fb9f3a\"],[0.8888888888888888,\"#fdca26\"],[1.0,\"#f0f921\"]],\"sequentialminus\":[[0.0,\"#0d0887\"],[0.1111111111111111,\"#46039f\"],[0.2222222222222222,\"#7201a8\"],[0.3333333333333333,\"#9c179e\"],[0.4444444444444444,\"#bd3786\"],[0.5555555555555556,\"#d8576b\"],[0.6666666666666666,\"#ed7953\"],[0.7777777777777778,\"#fb9f3a\"],[0.8888888888888888,\"#fdca26\"],[1.0,\"#f0f921\"]],\"diverging\":[[0,\"#8e0152\"],[0.1,\"#c51b7d\"],[0.2,\"#de77ae\"],[0.3,\"#f1b6da\"],[0.4,\"#fde0ef\"],[0.5,\"#f7f7f7\"],[0.6,\"#e6f5d0\"],[0.7,\"#b8e186\"],[0.8,\"#7fbc41\"],[0.9,\"#4d9221\"],[1,\"#276419\"]]},\"xaxis\":{\"gridcolor\":\"white\",\"linecolor\":\"white\",\"ticks\":\"\",\"title\":{\"standoff\":15},\"zerolinecolor\":\"white\",\"automargin\":true,\"zerolinewidth\":2},\"yaxis\":{\"gridcolor\":\"white\",\"linecolor\":\"white\",\"ticks\":\"\",\"title\":{\"standoff\":15},\"zerolinecolor\":\"white\",\"automargin\":true,\"zerolinewidth\":2},\"scene\":{\"xaxis\":{\"backgroundcolor\":\"#E5ECF6\",\"gridcolor\":\"white\",\"linecolor\":\"white\",\"showbackground\":true,\"ticks\":\"\",\"zerolinecolor\":\"white\",\"gridwidth\":2},\"yaxis\":{\"backgroundcolor\":\"#E5ECF6\",\"gridcolor\":\"white\",\"linecolor\":\"white\",\"showbackground\":true,\"ticks\":\"\",\"zerolinecolor\":\"white\",\"gridwidth\":2},\"zaxis\":{\"backgroundcolor\":\"#E5ECF6\",\"gridcolor\":\"white\",\"linecolor\":\"white\",\"showbackground\":true,\"ticks\":\"\",\"zerolinecolor\":\"white\",\"gridwidth\":2}},\"shapedefaults\":{\"line\":{\"color\":\"#2a3f5f\"}},\"annotationdefaults\":{\"arrowcolor\":\"#2a3f5f\",\"arrowhead\":0,\"arrowwidth\":1},\"geo\":{\"bgcolor\":\"white\",\"landcolor\":\"#E5ECF6\",\"subunitcolor\":\"white\",\"showland\":true,\"showlakes\":true,\"lakecolor\":\"white\"},\"title\":{\"x\":0.05},\"mapbox\":{\"style\":\"light\"}}},\"xaxis\":{\"anchor\":\"y\",\"domain\":[0.0,1.0],\"title\":{\"text\":\"N\\u00ba of titles\"}},\"yaxis\":{\"anchor\":\"x\",\"domain\":[0.0,1.0],\"title\":{\"text\":\"Genre\"},\"categoryorder\":\"total ascending\"},\"legend\":{\"tracegroupgap\":0},\"title\":{\"text\":\"N\\u00ba of books per genre\"},\"barmode\":\"relative\"},                        {\"responsive\": true}                    ).then(function(){\n",
       "                            \n",
       "var gd = document.getElementById('685f3d7e-f46a-4086-867c-9a72a8205945');\n",
       "var x = new MutationObserver(function (mutations, observer) {{\n",
       "        var display = window.getComputedStyle(gd).display;\n",
       "        if (!display || display === 'none') {{\n",
       "            console.log([gd, 'removed!']);\n",
       "            Plotly.purge(gd);\n",
       "            observer.disconnect();\n",
       "        }}\n",
       "}});\n",
       "\n",
       "// Listen for the removal of the full notebook cells\n",
       "var notebookContainer = gd.closest('#notebook-container');\n",
       "if (notebookContainer) {{\n",
       "    x.observe(notebookContainer, {childList: true});\n",
       "}}\n",
       "\n",
       "// Listen for the clearing of the current output cell\n",
       "var outputEl = gd.closest('.output');\n",
       "if (outputEl) {{\n",
       "    x.observe(outputEl, {childList: true});\n",
       "}}\n",
       "\n",
       "                        })                };                });            </script>        </div>"
      ]
     },
     "metadata": {},
     "output_type": "display_data"
    }
   ],
   "source": [
    "#sns.displot(df_genre, y= df_genre['genres']).set(title='Number of titles for each genre')\n",
    "\n",
    "fig = px.bar(df_genre2, x=df_genre2.genres.value_counts().values, y = df_genre2.genres.value_counts().index, labels={\"x\": \"Nº of titles\",\"y\": \"Genre\"},title=\"Nº of books per genre\")\n",
    "fig.update_yaxes(categoryorder = \"total ascending\")"
   ]
  },
  {
   "cell_type": "code",
   "execution_count": 345,
   "metadata": {
    "scrolled": true
   },
   "outputs": [
    {
     "data": {
      "text/html": [
       "<div>\n",
       "<style scoped>\n",
       "    .dataframe tbody tr th:only-of-type {\n",
       "        vertical-align: middle;\n",
       "    }\n",
       "\n",
       "    .dataframe tbody tr th {\n",
       "        vertical-align: top;\n",
       "    }\n",
       "\n",
       "    .dataframe thead th {\n",
       "        text-align: right;\n",
       "    }\n",
       "</style>\n",
       "<table border=\"1\" class=\"dataframe\">\n",
       "  <thead>\n",
       "    <tr style=\"text-align: right;\">\n",
       "      <th></th>\n",
       "      <th>rating</th>\n",
       "    </tr>\n",
       "    <tr>\n",
       "      <th>genres</th>\n",
       "      <th></th>\n",
       "    </tr>\n",
       "  </thead>\n",
       "  <tbody>\n",
       "    <tr>\n",
       "      <th>Fantasy</th>\n",
       "      <td>4.034298</td>\n",
       "    </tr>\n",
       "    <tr>\n",
       "      <th>Nonfiction</th>\n",
       "      <td>4.023828</td>\n",
       "    </tr>\n",
       "    <tr>\n",
       "      <th>Historical Fiction</th>\n",
       "      <td>4.015426</td>\n",
       "    </tr>\n",
       "    <tr>\n",
       "      <th>Romance</th>\n",
       "      <td>4.009204</td>\n",
       "    </tr>\n",
       "    <tr>\n",
       "      <th>Science Fiction</th>\n",
       "      <td>3.972424</td>\n",
       "    </tr>\n",
       "    <tr>\n",
       "      <th>Mystery</th>\n",
       "      <td>3.960171</td>\n",
       "    </tr>\n",
       "    <tr>\n",
       "      <th>Classics</th>\n",
       "      <td>3.933346</td>\n",
       "    </tr>\n",
       "    <tr>\n",
       "      <th>Young Adult</th>\n",
       "      <td>3.871818</td>\n",
       "    </tr>\n",
       "    <tr>\n",
       "      <th>Fiction</th>\n",
       "      <td>3.863787</td>\n",
       "    </tr>\n",
       "  </tbody>\n",
       "</table>\n",
       "</div>"
      ],
      "text/plain": [
       "                      rating\n",
       "genres                      \n",
       "Fantasy             4.034298\n",
       "Nonfiction          4.023828\n",
       "Historical Fiction  4.015426\n",
       "Romance             4.009204\n",
       "Science Fiction     3.972424\n",
       "Mystery             3.960171\n",
       "Classics            3.933346\n",
       "Young Adult         3.871818\n",
       "Fiction             3.863787"
      ]
     },
     "execution_count": 345,
     "metadata": {},
     "output_type": "execute_result"
    }
   ],
   "source": [
    "df_genre3 = df_genre2[[\"genres\",\"rating\"]]\n",
    "\n",
    "df_genre3 = df_genre3.groupby(\"genres\").mean()\n",
    "df_genre3.sort_values(\"rating\", ascending=False, inplace=True)\n",
    "df_genre3"
   ]
  },
  {
   "cell_type": "code",
   "execution_count": 346,
   "metadata": {},
   "outputs": [
    {
     "data": {
      "image/png": "[encoded data removed]",
      "text/plain": [
       "<Figure size 640x480 with 1 Axes>"
      ]
     },
     "metadata": {},
     "output_type": "display_data"
    }
   ],
   "source": [
    "graph = sns.barplot(data=df_genre2, y=\"genres\", x=\"rating\", palette=\"rocket\").set(title = \"Average rating per Category\")\n",
    "\n",
    "\n",
    "    "
   ]
  },
  {
   "cell_type": "code",
   "execution_count": 353,
   "metadata": {},
   "outputs": [
    {
     "data": {
      "text/plain": [
       "array(['Hardcover', 'Paperback', 'Mass Market Paperback',\n",
       "       'Kindle Edition', 'ebook'], dtype=object)"
      ]
     },
     "execution_count": 353,
     "metadata": {},
     "output_type": "execute_result"
    }
   ],
   "source": [
    "df_bookformat = df_raw2[df_raw2.groupby(\"bookFormat\").bookFormat.transform(\"count\")>500].copy()\n",
    "df_bookformat[\"bookFormat\"].unique()\n"
   ]
  },
  {
   "cell_type": "code",
   "execution_count": 355,
   "metadata": {},
   "outputs": [
    {
     "data": {
      "application/vnd.plotly.v1+json": {
       "config": {
        "plotlyServerURL": "https://plot.ly"
       },
       "data": [
        {
         "alignmentgroup": "True",
         "hovertemplate": "Nº of titles=%{x}<br>Book Format=%{y}<extra></extra>",
         "legendgroup": "",
         "marker": {
          "color": "#636efa",
          "pattern": {
           "shape": ""
          }
         },
         "name": "",
         "offsetgroup": "",
         "orientation": "h",
         "showlegend": false,
         "textposition": "auto",
         "type": "bar",
         "x": [
          25156,
          11669,
          5217,
          2440,
          1937
         ],
         "xaxis": "x",
         "y": [
          "Paperback",
          "Hardcover",
          "Kindle Edition",
          "Mass Market Paperback",
          "ebook"
         ],
         "yaxis": "y"
        }
       ],
       "layout": {
        "barmode": "relative",
        "legend": {
         "tracegroupgap": 0
        },
        "template": {
         "data": {
          "bar": [
           {
            "error_x": {
             "color": "#2a3f5f"
            },
            "error_y": {
             "color": "#2a3f5f"
            },
            "marker": {
             "line": {
              "color": "#E5ECF6",
              "width": 0.5
             },
             "pattern": {
              "fillmode": "overlay",
              "size": 10,
              "solidity": 0.2
             }
            },
            "type": "bar"
           }
          ],
          "barpolar": [
           {
            "marker": {
             "line": {
              "color": "#E5ECF6",
              "width": 0.5
             },
             "pattern": {
              "fillmode": "overlay",
              "size": 10,
              "solidity": 0.2
             }
            },
            "type": "barpolar"
           }
          ],
          "carpet": [
           {
            "aaxis": {
             "endlinecolor": "#2a3f5f",
             "gridcolor": "white",
             "linecolor": "white",
             "minorgridcolor": "white",
             "startlinecolor": "#2a3f5f"
            },
            "baxis": {
             "endlinecolor": "#2a3f5f",
             "gridcolor": "white",
             "linecolor": "white",
             "minorgridcolor": "white",
             "startlinecolor": "#2a3f5f"
            },
            "type": "carpet"
           }
          ],
          "choropleth": [
           {
            "colorbar": {
             "outlinewidth": 0,
             "ticks": ""
            },
            "type": "choropleth"
           }
          ],
          "contour": [
           {
            "colorbar": {
             "outlinewidth": 0,
             "ticks": ""
            },
            "colorscale": [
             [
              0,
              "#0d0887"
             ],
             [
              0.1111111111111111,
              "#46039f"
             ],
             [
              0.2222222222222222,
              "#7201a8"
             ],
             [
              0.3333333333333333,
              "#9c179e"
             ],
             [
              0.4444444444444444,
              "#bd3786"
             ],
             [
              0.5555555555555556,
              "#d8576b"
             ],
             [
              0.6666666666666666,
              "#ed7953"
             ],
             [
              0.7777777777777778,
              "#fb9f3a"
             ],
             [
              0.8888888888888888,
              "#fdca26"
             ],
             [
              1,
              "#f0f921"
             ]
            ],
            "type": "contour"
           }
          ],
          "contourcarpet": [
           {
            "colorbar": {
             "outlinewidth": 0,
             "ticks": ""
            },
            "type": "contourcarpet"
           }
          ],
          "heatmap": [
           {
            "colorbar": {
             "outlinewidth": 0,
             "ticks": ""
            },
            "colorscale": [
             [
              0,
              "#0d0887"
             ],
             [
              0.1111111111111111,
              "#46039f"
             ],
             [
              0.2222222222222222,
              "#7201a8"
             ],
             [
              0.3333333333333333,
              "#9c179e"
             ],
             [
              0.4444444444444444,
              "#bd3786"
             ],
             [
              0.5555555555555556,
              "#d8576b"
             ],
             [
              0.6666666666666666,
              "#ed7953"
             ],
             [
              0.7777777777777778,
              "#fb9f3a"
             ],
             [
              0.8888888888888888,
              "#fdca26"
             ],
             [
              1,
              "#f0f921"
             ]
            ],
            "type": "heatmap"
           }
          ],
          "heatmapgl": [
           {
            "colorbar": {
             "outlinewidth": 0,
             "ticks": ""
            },
            "colorscale": [
             [
              0,
              "#0d0887"
             ],
             [
              0.1111111111111111,
              "#46039f"
             ],
             [
              0.2222222222222222,
              "#7201a8"
             ],
             [
              0.3333333333333333,
              "#9c179e"
             ],
             [
              0.4444444444444444,
              "#bd3786"
             ],
             [
              0.5555555555555556,
              "#d8576b"
             ],
             [
              0.6666666666666666,
              "#ed7953"
             ],
             [
              0.7777777777777778,
              "#fb9f3a"
             ],
             [
              0.8888888888888888,
              "#fdca26"
             ],
             [
              1,
              "#f0f921"
             ]
            ],
            "type": "heatmapgl"
           }
          ],
          "histogram": [
           {
            "marker": {
             "pattern": {
              "fillmode": "overlay",
              "size": 10,
              "solidity": 0.2
             }
            },
            "type": "histogram"
           }
          ],
          "histogram2d": [
           {
            "colorbar": {
             "outlinewidth": 0,
             "ticks": ""
            },
            "colorscale": [
             [
              0,
              "#0d0887"
             ],
             [
              0.1111111111111111,
              "#46039f"
             ],
             [
              0.2222222222222222,
              "#7201a8"
             ],
             [
              0.3333333333333333,
              "#9c179e"
             ],
             [
              0.4444444444444444,
              "#bd3786"
             ],
             [
              0.5555555555555556,
              "#d8576b"
             ],
             [
              0.6666666666666666,
              "#ed7953"
             ],
             [
              0.7777777777777778,
              "#fb9f3a"
             ],
             [
              0.8888888888888888,
              "#fdca26"
             ],
             [
              1,
              "#f0f921"
             ]
            ],
            "type": "histogram2d"
           }
          ],
          "histogram2dcontour": [
           {
            "colorbar": {
             "outlinewidth": 0,
             "ticks": ""
            },
            "colorscale": [
             [
              0,
              "#0d0887"
             ],
             [
              0.1111111111111111,
              "#46039f"
             ],
             [
              0.2222222222222222,
              "#7201a8"
             ],
             [
              0.3333333333333333,
              "#9c179e"
             ],
             [
              0.4444444444444444,
              "#bd3786"
             ],
             [
              0.5555555555555556,
              "#d8576b"
             ],
             [
              0.6666666666666666,
              "#ed7953"
             ],
             [
              0.7777777777777778,
              "#fb9f3a"
             ],
             [
              0.8888888888888888,
              "#fdca26"
             ],
             [
              1,
              "#f0f921"
             ]
            ],
            "type": "histogram2dcontour"
           }
          ],
          "mesh3d": [
           {
            "colorbar": {
             "outlinewidth": 0,
             "ticks": ""
            },
            "type": "mesh3d"
           }
          ],
          "parcoords": [
           {
            "line": {
             "colorbar": {
              "outlinewidth": 0,
              "ticks": ""
             }
            },
            "type": "parcoords"
           }
          ],
          "pie": [
           {
            "automargin": true,
            "type": "pie"
           }
          ],
          "scatter": [
           {
            "fillpattern": {
             "fillmode": "overlay",
             "size": 10,
             "solidity": 0.2
            },
            "type": "scatter"
           }
          ],
          "scatter3d": [
           {
            "line": {
             "colorbar": {
              "outlinewidth": 0,
              "ticks": ""
             }
            },
            "marker": {
             "colorbar": {
              "outlinewidth": 0,
              "ticks": ""
             }
            },
            "type": "scatter3d"
           }
          ],
          "scattercarpet": [
           {
            "marker": {
             "colorbar": {
              "outlinewidth": 0,
              "ticks": ""
             }
            },
            "type": "scattercarpet"
           }
          ],
          "scattergeo": [
           {
            "marker": {
             "colorbar": {
              "outlinewidth": 0,
              "ticks": ""
             }
            },
            "type": "scattergeo"
           }
          ],
          "scattergl": [
           {
            "marker": {
             "colorbar": {
              "outlinewidth": 0,
              "ticks": ""
             }
            },
            "type": "scattergl"
           }
          ],
          "scattermapbox": [
           {
            "marker": {
             "colorbar": {
              "outlinewidth": 0,
              "ticks": ""
             }
            },
            "type": "scattermapbox"
           }
          ],
          "scatterpolar": [
           {
            "marker": {
             "colorbar": {
              "outlinewidth": 0,
              "ticks": ""
             }
            },
            "type": "scatterpolar"
           }
          ],
          "scatterpolargl": [
           {
            "marker": {
             "colorbar": {
              "outlinewidth": 0,
              "ticks": ""
             }
            },
            "type": "scatterpolargl"
           }
          ],
          "scatterternary": [
           {
            "marker": {
             "colorbar": {
              "outlinewidth": 0,
              "ticks": ""
             }
            },
            "type": "scatterternary"
           }
          ],
          "surface": [
           {
            "colorbar": {
             "outlinewidth": 0,
             "ticks": ""
            },
            "colorscale": [
             [
              0,
              "#0d0887"
             ],
             [
              0.1111111111111111,
              "#46039f"
             ],
             [
              0.2222222222222222,
              "#7201a8"
             ],
             [
              0.3333333333333333,
              "#9c179e"
             ],
             [
              0.4444444444444444,
              "#bd3786"
             ],
             [
              0.5555555555555556,
              "#d8576b"
             ],
             [
              0.6666666666666666,
              "#ed7953"
             ],
             [
              0.7777777777777778,
              "#fb9f3a"
             ],
             [
              0.8888888888888888,
              "#fdca26"
             ],
             [
              1,
              "#f0f921"
             ]
            ],
            "type": "surface"
           }
          ],
          "table": [
           {
            "cells": {
             "fill": {
              "color": "#EBF0F8"
             },
             "line": {
              "color": "white"
             }
            },
            "header": {
             "fill": {
              "color": "#C8D4E3"
             },
             "line": {
              "color": "white"
             }
            },
            "type": "table"
           }
          ]
         },
         "layout": {
          "annotationdefaults": {
           "arrowcolor": "#2a3f5f",
           "arrowhead": 0,
           "arrowwidth": 1
          },
          "autotypenumbers": "strict",
          "coloraxis": {
           "colorbar": {
            "outlinewidth": 0,
            "ticks": ""
           }
          },
          "colorscale": {
           "diverging": [
            [
             0,
             "#8e0152"
            ],
            [
             0.1,
             "#c51b7d"
            ],
            [
             0.2,
             "#de77ae"
            ],
            [
             0.3,
             "#f1b6da"
            ],
            [
             0.4,
             "#fde0ef"
            ],
            [
             0.5,
             "#f7f7f7"
            ],
            [
             0.6,
             "#e6f5d0"
            ],
            [
             0.7,
             "#b8e186"
            ],
            [
             0.8,
             "#7fbc41"
            ],
            [
             0.9,
             "#4d9221"
            ],
            [
             1,
             "#276419"
            ]
           ],
           "sequential": [
            [
             0,
             "#0d0887"
            ],
            [
             0.1111111111111111,
             "#46039f"
            ],
            [
             0.2222222222222222,
             "#7201a8"
            ],
            [
             0.3333333333333333,
             "#9c179e"
            ],
            [
             0.4444444444444444,
             "#bd3786"
            ],
            [
             0.5555555555555556,
             "#d8576b"
            ],
            [
             0.6666666666666666,
             "#ed7953"
            ],
            [
             0.7777777777777778,
             "#fb9f3a"
            ],
            [
             0.8888888888888888,
             "#fdca26"
            ],
            [
             1,
             "#f0f921"
            ]
           ],
           "sequentialminus": [
            [
             0,
             "#0d0887"
            ],
            [
             0.1111111111111111,
             "#46039f"
            ],
            [
             0.2222222222222222,
             "#7201a8"
            ],
            [
             0.3333333333333333,
             "#9c179e"
            ],
            [
             0.4444444444444444,
             "#bd3786"
            ],
            [
             0.5555555555555556,
             "#d8576b"
            ],
            [
             0.6666666666666666,
             "#ed7953"
            ],
            [
             0.7777777777777778,
             "#fb9f3a"
            ],
            [
             0.8888888888888888,
             "#fdca26"
            ],
            [
             1,
             "#f0f921"
            ]
           ]
          },
          "colorway": [
           "#636efa",
           "#EF553B",
           "#00cc96",
           "#ab63fa",
           "#FFA15A",
           "#19d3f3",
           "#FF6692",
           "#B6E880",
           "#FF97FF",
           "#FECB52"
          ],
          "font": {
           "color": "#2a3f5f"
          },
          "geo": {
           "bgcolor": "white",
           "lakecolor": "white",
           "landcolor": "#E5ECF6",
           "showlakes": true,
           "showland": true,
           "subunitcolor": "white"
          },
          "hoverlabel": {
           "align": "left"
          },
          "hovermode": "closest",
          "mapbox": {
           "style": "light"
          },
          "paper_bgcolor": "white",
          "plot_bgcolor": "#E5ECF6",
          "polar": {
           "angularaxis": {
            "gridcolor": "white",
            "linecolor": "white",
            "ticks": ""
           },
           "bgcolor": "#E5ECF6",
           "radialaxis": {
            "gridcolor": "white",
            "linecolor": "white",
            "ticks": ""
           }
          },
          "scene": {
           "xaxis": {
            "backgroundcolor": "#E5ECF6",
            "gridcolor": "white",
            "gridwidth": 2,
            "linecolor": "white",
            "showbackground": true,
            "ticks": "",
            "zerolinecolor": "white"
           },
           "yaxis": {
            "backgroundcolor": "#E5ECF6",
            "gridcolor": "white",
            "gridwidth": 2,
            "linecolor": "white",
            "showbackground": true,
            "ticks": "",
            "zerolinecolor": "white"
           },
           "zaxis": {
            "backgroundcolor": "#E5ECF6",
            "gridcolor": "white",
            "gridwidth": 2,
            "linecolor": "white",
            "showbackground": true,
            "ticks": "",
            "zerolinecolor": "white"
           }
          },
          "shapedefaults": {
           "line": {
            "color": "#2a3f5f"
           }
          },
          "ternary": {
           "aaxis": {
            "gridcolor": "white",
            "linecolor": "white",
            "ticks": ""
           },
           "baxis": {
            "gridcolor": "white",
            "linecolor": "white",
            "ticks": ""
           },
           "bgcolor": "#E5ECF6",
           "caxis": {
            "gridcolor": "white",
            "linecolor": "white",
            "ticks": ""
           }
          },
          "title": {
           "x": 0.05
          },
          "xaxis": {
           "automargin": true,
           "gridcolor": "white",
           "linecolor": "white",
           "ticks": "",
           "title": {
            "standoff": 15
           },
           "zerolinecolor": "white",
           "zerolinewidth": 2
          },
          "yaxis": {
           "automargin": true,
           "gridcolor": "white",
           "linecolor": "white",
           "ticks": "",
           "title": {
            "standoff": 15
           },
           "zerolinecolor": "white",
           "zerolinewidth": 2
          }
         }
        },
        "title": {
         "text": "Nº of books per genre"
        },
        "xaxis": {
         "anchor": "y",
         "domain": [
          0,
          1
         ],
         "title": {
          "text": "Nº of titles"
         }
        },
        "yaxis": {
         "anchor": "x",
         "categoryorder": "total ascending",
         "domain": [
          0,
          1
         ],
         "title": {
          "text": "Book Format"
         }
        }
       }
      },
      "text/html": [
       "<div>                            <div id=\"08bb0c7b-ef2a-48b0-990c-c20db5da7642\" class=\"plotly-graph-div\" style=\"height:525px; width:100%;\"></div>            <script type=\"text/javascript\">                require([\"plotly\"], function(Plotly) {                    window.PLOTLYENV=window.PLOTLYENV || {};                                    if (document.getElementById(\"08bb0c7b-ef2a-48b0-990c-c20db5da7642\")) {                    Plotly.newPlot(                        \"08bb0c7b-ef2a-48b0-990c-c20db5da7642\",                        [{\"alignmentgroup\":\"True\",\"hovertemplate\":\"N\\u00ba of titles=%{x}<br>Book Format=%{y}<extra></extra>\",\"legendgroup\":\"\",\"marker\":{\"color\":\"#636efa\",\"pattern\":{\"shape\":\"\"}},\"name\":\"\",\"offsetgroup\":\"\",\"orientation\":\"h\",\"showlegend\":false,\"textposition\":\"auto\",\"x\":[25156,11669,5217,2440,1937],\"xaxis\":\"x\",\"y\":[\"Paperback\",\"Hardcover\",\"Kindle Edition\",\"Mass Market Paperback\",\"ebook\"],\"yaxis\":\"y\",\"type\":\"bar\"}],                        {\"template\":{\"data\":{\"histogram2dcontour\":[{\"type\":\"histogram2dcontour\",\"colorbar\":{\"outlinewidth\":0,\"ticks\":\"\"},\"colorscale\":[[0.0,\"#0d0887\"],[0.1111111111111111,\"#46039f\"],[0.2222222222222222,\"#7201a8\"],[0.3333333333333333,\"#9c179e\"],[0.4444444444444444,\"#bd3786\"],[0.5555555555555556,\"#d8576b\"],[0.6666666666666666,\"#ed7953\"],[0.7777777777777778,\"#fb9f3a\"],[0.8888888888888888,\"#fdca26\"],[1.0,\"#f0f921\"]]}],\"choropleth\":[{\"type\":\"choropleth\",\"colorbar\":{\"outlinewidth\":0,\"ticks\":\"\"}}],\"histogram2d\":[{\"type\":\"histogram2d\",\"colorbar\":{\"outlinewidth\":0,\"ticks\":\"\"},\"colorscale\":[[0.0,\"#0d0887\"],[0.1111111111111111,\"#46039f\"],[0.2222222222222222,\"#7201a8\"],[0.3333333333333333,\"#9c179e\"],[0.4444444444444444,\"#bd3786\"],[0.5555555555555556,\"#d8576b\"],[0.6666666666666666,\"#ed7953\"],[0.7777777777777778,\"#fb9f3a\"],[0.8888888888888888,\"#fdca26\"],[1.0,\"#f0f921\"]]}],\"heatmap\":[{\"type\":\"heatmap\",\"colorbar\":{\"outlinewidth\":0,\"ticks\":\"\"},\"colorscale\":[[0.0,\"#0d0887\"],[0.1111111111111111,\"#46039f\"],[0.2222222222222222,\"#7201a8\"],[0.3333333333333333,\"#9c179e\"],[0.4444444444444444,\"#bd3786\"],[0.5555555555555556,\"#d8576b\"],[0.6666666666666666,\"#ed7953\"],[0.7777777777777778,\"#fb9f3a\"],[0.8888888888888888,\"#fdca26\"],[1.0,\"#f0f921\"]]}],\"heatmapgl\":[{\"type\":\"heatmapgl\",\"colorbar\":{\"outlinewidth\":0,\"ticks\":\"\"},\"colorscale\":[[0.0,\"#0d0887\"],[0.1111111111111111,\"#46039f\"],[0.2222222222222222,\"#7201a8\"],[0.3333333333333333,\"#9c179e\"],[0.4444444444444444,\"#bd3786\"],[0.5555555555555556,\"#d8576b\"],[0.6666666666666666,\"#ed7953\"],[0.7777777777777778,\"#fb9f3a\"],[0.8888888888888888,\"#fdca26\"],[1.0,\"#f0f921\"]]}],\"contourcarpet\":[{\"type\":\"contourcarpet\",\"colorbar\":{\"outlinewidth\":0,\"ticks\":\"\"}}],\"contour\":[{\"type\":\"contour\",\"colorbar\":{\"outlinewidth\":0,\"ticks\":\"\"},\"colorscale\":[[0.0,\"#0d0887\"],[0.1111111111111111,\"#46039f\"],[0.2222222222222222,\"#7201a8\"],[0.3333333333333333,\"#9c179e\"],[0.4444444444444444,\"#bd3786\"],[0.5555555555555556,\"#d8576b\"],[0.6666666666666666,\"#ed7953\"],[0.7777777777777778,\"#fb9f3a\"],[0.8888888888888888,\"#fdca26\"],[1.0,\"#f0f921\"]]}],\"surface\":[{\"type\":\"surface\",\"colorbar\":{\"outlinewidth\":0,\"ticks\":\"\"},\"colorscale\":[[0.0,\"#0d0887\"],[0.1111111111111111,\"#46039f\"],[0.2222222222222222,\"#7201a8\"],[0.3333333333333333,\"#9c179e\"],[0.4444444444444444,\"#bd3786\"],[0.5555555555555556,\"#d8576b\"],[0.6666666666666666,\"#ed7953\"],[0.7777777777777778,\"#fb9f3a\"],[0.8888888888888888,\"#fdca26\"],[1.0,\"#f0f921\"]]}],\"mesh3d\":[{\"type\":\"mesh3d\",\"colorbar\":{\"outlinewidth\":0,\"ticks\":\"\"}}],\"scatter\":[{\"fillpattern\":{\"fillmode\":\"overlay\",\"size\":10,\"solidity\":0.2},\"type\":\"scatter\"}],\"parcoords\":[{\"type\":\"parcoords\",\"line\":{\"colorbar\":{\"outlinewidth\":0,\"ticks\":\"\"}}}],\"scatterpolargl\":[{\"type\":\"scatterpolargl\",\"marker\":{\"colorbar\":{\"outlinewidth\":0,\"ticks\":\"\"}}}],\"bar\":[{\"error_x\":{\"color\":\"#2a3f5f\"},\"error_y\":{\"color\":\"#2a3f5f\"},\"marker\":{\"line\":{\"color\":\"#E5ECF6\",\"width\":0.5},\"pattern\":{\"fillmode\":\"overlay\",\"size\":10,\"solidity\":0.2}},\"type\":\"bar\"}],\"scattergeo\":[{\"type\":\"scattergeo\",\"marker\":{\"colorbar\":{\"outlinewidth\":0,\"ticks\":\"\"}}}],\"scatterpolar\":[{\"type\":\"scatterpolar\",\"marker\":{\"colorbar\":{\"outlinewidth\":0,\"ticks\":\"\"}}}],\"histogram\":[{\"marker\":{\"pattern\":{\"fillmode\":\"overlay\",\"size\":10,\"solidity\":0.2}},\"type\":\"histogram\"}],\"scattergl\":[{\"type\":\"scattergl\",\"marker\":{\"colorbar\":{\"outlinewidth\":0,\"ticks\":\"\"}}}],\"scatter3d\":[{\"type\":\"scatter3d\",\"line\":{\"colorbar\":{\"outlinewidth\":0,\"ticks\":\"\"}},\"marker\":{\"colorbar\":{\"outlinewidth\":0,\"ticks\":\"\"}}}],\"scattermapbox\":[{\"type\":\"scattermapbox\",\"marker\":{\"colorbar\":{\"outlinewidth\":0,\"ticks\":\"\"}}}],\"scatterternary\":[{\"type\":\"scatterternary\",\"marker\":{\"colorbar\":{\"outlinewidth\":0,\"ticks\":\"\"}}}],\"scattercarpet\":[{\"type\":\"scattercarpet\",\"marker\":{\"colorbar\":{\"outlinewidth\":0,\"ticks\":\"\"}}}],\"carpet\":[{\"aaxis\":{\"endlinecolor\":\"#2a3f5f\",\"gridcolor\":\"white\",\"linecolor\":\"white\",\"minorgridcolor\":\"white\",\"startlinecolor\":\"#2a3f5f\"},\"baxis\":{\"endlinecolor\":\"#2a3f5f\",\"gridcolor\":\"white\",\"linecolor\":\"white\",\"minorgridcolor\":\"white\",\"startlinecolor\":\"#2a3f5f\"},\"type\":\"carpet\"}],\"table\":[{\"cells\":{\"fill\":{\"color\":\"#EBF0F8\"},\"line\":{\"color\":\"white\"}},\"header\":{\"fill\":{\"color\":\"#C8D4E3\"},\"line\":{\"color\":\"white\"}},\"type\":\"table\"}],\"barpolar\":[{\"marker\":{\"line\":{\"color\":\"#E5ECF6\",\"width\":0.5},\"pattern\":{\"fillmode\":\"overlay\",\"size\":10,\"solidity\":0.2}},\"type\":\"barpolar\"}],\"pie\":[{\"automargin\":true,\"type\":\"pie\"}]},\"layout\":{\"autotypenumbers\":\"strict\",\"colorway\":[\"#636efa\",\"#EF553B\",\"#00cc96\",\"#ab63fa\",\"#FFA15A\",\"#19d3f3\",\"#FF6692\",\"#B6E880\",\"#FF97FF\",\"#FECB52\"],\"font\":{\"color\":\"#2a3f5f\"},\"hovermode\":\"closest\",\"hoverlabel\":{\"align\":\"left\"},\"paper_bgcolor\":\"white\",\"plot_bgcolor\":\"#E5ECF6\",\"polar\":{\"bgcolor\":\"#E5ECF6\",\"angularaxis\":{\"gridcolor\":\"white\",\"linecolor\":\"white\",\"ticks\":\"\"},\"radialaxis\":{\"gridcolor\":\"white\",\"linecolor\":\"white\",\"ticks\":\"\"}},\"ternary\":{\"bgcolor\":\"#E5ECF6\",\"aaxis\":{\"gridcolor\":\"white\",\"linecolor\":\"white\",\"ticks\":\"\"},\"baxis\":{\"gridcolor\":\"white\",\"linecolor\":\"white\",\"ticks\":\"\"},\"caxis\":{\"gridcolor\":\"white\",\"linecolor\":\"white\",\"ticks\":\"\"}},\"coloraxis\":{\"colorbar\":{\"outlinewidth\":0,\"ticks\":\"\"}},\"colorscale\":{\"sequential\":[[0.0,\"#0d0887\"],[0.1111111111111111,\"#46039f\"],[0.2222222222222222,\"#7201a8\"],[0.3333333333333333,\"#9c179e\"],[0.4444444444444444,\"#bd3786\"],[0.5555555555555556,\"#d8576b\"],[0.6666666666666666,\"#ed7953\"],[0.7777777777777778,\"#fb9f3a\"],[0.8888888888888888,\"#fdca26\"],[1.0,\"#f0f921\"]],\"sequentialminus\":[[0.0,\"#0d0887\"],[0.1111111111111111,\"#46039f\"],[0.2222222222222222,\"#7201a8\"],[0.3333333333333333,\"#9c179e\"],[0.4444444444444444,\"#bd3786\"],[0.5555555555555556,\"#d8576b\"],[0.6666666666666666,\"#ed7953\"],[0.7777777777777778,\"#fb9f3a\"],[0.8888888888888888,\"#fdca26\"],[1.0,\"#f0f921\"]],\"diverging\":[[0,\"#8e0152\"],[0.1,\"#c51b7d\"],[0.2,\"#de77ae\"],[0.3,\"#f1b6da\"],[0.4,\"#fde0ef\"],[0.5,\"#f7f7f7\"],[0.6,\"#e6f5d0\"],[0.7,\"#b8e186\"],[0.8,\"#7fbc41\"],[0.9,\"#4d9221\"],[1,\"#276419\"]]},\"xaxis\":{\"gridcolor\":\"white\",\"linecolor\":\"white\",\"ticks\":\"\",\"title\":{\"standoff\":15},\"zerolinecolor\":\"white\",\"automargin\":true,\"zerolinewidth\":2},\"yaxis\":{\"gridcolor\":\"white\",\"linecolor\":\"white\",\"ticks\":\"\",\"title\":{\"standoff\":15},\"zerolinecolor\":\"white\",\"automargin\":true,\"zerolinewidth\":2},\"scene\":{\"xaxis\":{\"backgroundcolor\":\"#E5ECF6\",\"gridcolor\":\"white\",\"linecolor\":\"white\",\"showbackground\":true,\"ticks\":\"\",\"zerolinecolor\":\"white\",\"gridwidth\":2},\"yaxis\":{\"backgroundcolor\":\"#E5ECF6\",\"gridcolor\":\"white\",\"linecolor\":\"white\",\"showbackground\":true,\"ticks\":\"\",\"zerolinecolor\":\"white\",\"gridwidth\":2},\"zaxis\":{\"backgroundcolor\":\"#E5ECF6\",\"gridcolor\":\"white\",\"linecolor\":\"white\",\"showbackground\":true,\"ticks\":\"\",\"zerolinecolor\":\"white\",\"gridwidth\":2}},\"shapedefaults\":{\"line\":{\"color\":\"#2a3f5f\"}},\"annotationdefaults\":{\"arrowcolor\":\"#2a3f5f\",\"arrowhead\":0,\"arrowwidth\":1},\"geo\":{\"bgcolor\":\"white\",\"landcolor\":\"#E5ECF6\",\"subunitcolor\":\"white\",\"showland\":true,\"showlakes\":true,\"lakecolor\":\"white\"},\"title\":{\"x\":0.05},\"mapbox\":{\"style\":\"light\"}}},\"xaxis\":{\"anchor\":\"y\",\"domain\":[0.0,1.0],\"title\":{\"text\":\"N\\u00ba of titles\"}},\"yaxis\":{\"anchor\":\"x\",\"domain\":[0.0,1.0],\"title\":{\"text\":\"Book Format\"},\"categoryorder\":\"total ascending\"},\"legend\":{\"tracegroupgap\":0},\"title\":{\"text\":\"N\\u00ba of books per genre\"},\"barmode\":\"relative\"},                        {\"responsive\": true}                    ).then(function(){\n",
       "                            \n",
       "var gd = document.getElementById('08bb0c7b-ef2a-48b0-990c-c20db5da7642');\n",
       "var x = new MutationObserver(function (mutations, observer) {{\n",
       "        var display = window.getComputedStyle(gd).display;\n",
       "        if (!display || display === 'none') {{\n",
       "            console.log([gd, 'removed!']);\n",
       "            Plotly.purge(gd);\n",
       "            observer.disconnect();\n",
       "        }}\n",
       "}});\n",
       "\n",
       "// Listen for the removal of the full notebook cells\n",
       "var notebookContainer = gd.closest('#notebook-container');\n",
       "if (notebookContainer) {{\n",
       "    x.observe(notebookContainer, {childList: true});\n",
       "}}\n",
       "\n",
       "// Listen for the clearing of the current output cell\n",
       "var outputEl = gd.closest('.output');\n",
       "if (outputEl) {{\n",
       "    x.observe(outputEl, {childList: true});\n",
       "}}\n",
       "\n",
       "                        })                };                });            </script>        </div>"
      ]
     },
     "metadata": {},
     "output_type": "display_data"
    }
   ],
   "source": [
    "#which bookformat is more sold?\n",
    "\n",
    "fig = px.bar(df_raw2, x=df_bookformat.bookFormat.value_counts().values, y = df_bookformat.bookFormat.value_counts().index, labels={\"x\": \"Nº of titles\",\"y\": \"Book Format\"},title=\"Nº of books per genre\")\n",
    "fig.update_yaxes(categoryorder = \"total ascending\")\n",
    "\n",
    "\n"
   ]
  },
  {
   "cell_type": "code",
   "execution_count": 358,
   "metadata": {},
   "outputs": [
    {
     "data": {
      "text/html": [
       "<div>\n",
       "<style scoped>\n",
       "    .dataframe tbody tr th:only-of-type {\n",
       "        vertical-align: middle;\n",
       "    }\n",
       "\n",
       "    .dataframe tbody tr th {\n",
       "        vertical-align: top;\n",
       "    }\n",
       "\n",
       "    .dataframe thead th {\n",
       "        text-align: right;\n",
       "    }\n",
       "</style>\n",
       "<table border=\"1\" class=\"dataframe\">\n",
       "  <thead>\n",
       "    <tr style=\"text-align: right;\">\n",
       "      <th></th>\n",
       "      <th>rating</th>\n",
       "    </tr>\n",
       "    <tr>\n",
       "      <th>bookFormat</th>\n",
       "      <th></th>\n",
       "    </tr>\n",
       "  </thead>\n",
       "  <tbody>\n",
       "    <tr>\n",
       "      <th>Kindle Edition</th>\n",
       "      <td>4.121704</td>\n",
       "    </tr>\n",
       "    <tr>\n",
       "      <th>ebook</th>\n",
       "      <td>4.073289</td>\n",
       "    </tr>\n",
       "    <tr>\n",
       "      <th>Paperback</th>\n",
       "      <td>4.005783</td>\n",
       "    </tr>\n",
       "    <tr>\n",
       "      <th>Mass Market Paperback</th>\n",
       "      <td>3.996430</td>\n",
       "    </tr>\n",
       "    <tr>\n",
       "      <th>Hardcover</th>\n",
       "      <td>3.990391</td>\n",
       "    </tr>\n",
       "  </tbody>\n",
       "</table>\n",
       "</div>"
      ],
      "text/plain": [
       "                         rating\n",
       "bookFormat                     \n",
       "Kindle Edition         4.121704\n",
       "ebook                  4.073289\n",
       "Paperback              4.005783\n",
       "Mass Market Paperback  3.996430\n",
       "Hardcover              3.990391"
      ]
     },
     "execution_count": 358,
     "metadata": {},
     "output_type": "execute_result"
    }
   ],
   "source": [
    "# do people preffer to read in hardbook? - no em diu res això!\n",
    "df_bookformat2 = df_bookformat[[\"bookFormat\",\"rating\"]]\n",
    "\n",
    "df_bookformat2 = df_bookformat2.groupby(\"bookFormat\").mean()\n",
    "df_bookformat2.sort_values(\"rating\", ascending=False, inplace=True)\n",
    "df_bookformat2"
   ]
  },
  {
   "cell_type": "code",
   "execution_count": 365,
   "metadata": {},
   "outputs": [
    {
     "data": {
      "text/html": [
       "<div>\n",
       "<style scoped>\n",
       "    .dataframe tbody tr th:only-of-type {\n",
       "        vertical-align: middle;\n",
       "    }\n",
       "\n",
       "    .dataframe tbody tr th {\n",
       "        vertical-align: top;\n",
       "    }\n",
       "\n",
       "    .dataframe thead th {\n",
       "        text-align: right;\n",
       "    }\n",
       "</style>\n",
       "<table border=\"1\" class=\"dataframe\">\n",
       "  <thead>\n",
       "    <tr style=\"text-align: right;\">\n",
       "      <th></th>\n",
       "      <th>author</th>\n",
       "      <th>book_image</th>\n",
       "      <th>book_review_link</th>\n",
       "      <th>contributor</th>\n",
       "      <th>contributor_note</th>\n",
       "      <th>created_date</th>\n",
       "      <th>description</th>\n",
       "      <th>price</th>\n",
       "      <th>primary_isbn10</th>\n",
       "      <th>isbn</th>\n",
       "      <th>publisher</th>\n",
       "      <th>rank</th>\n",
       "      <th>rank_last_week</th>\n",
       "      <th>sunday_review_link</th>\n",
       "      <th>title</th>\n",
       "      <th>updated_date</th>\n",
       "      <th>weeks_on_list</th>\n",
       "    </tr>\n",
       "  </thead>\n",
       "  <tbody>\n",
       "    <tr>\n",
       "      <th>121</th>\n",
       "      <td>and   Jeff Kinney</td>\n",
       "      <td>https://storage.googleapis.com/du-prd/books/im...</td>\n",
       "      <td></td>\n",
       "      <td>written and illustrated by Jeff Kinney</td>\n",
       "      <td>written and illustrated by Jeff Kinney</td>\n",
       "      <td>2022-10-19 22:22:21</td>\n",
       "      <td>The travails and challenges of adolescence.</td>\n",
       "      <td>0.00</td>\n",
       "      <td>1419749153</td>\n",
       "      <td>9781419749155</td>\n",
       "      <td>Amulet</td>\n",
       "      <td>2</td>\n",
       "      <td>1</td>\n",
       "      <td></td>\n",
       "      <td>DIARY OF A WIMPY KID</td>\n",
       "      <td>2022-10-19 22:26:43</td>\n",
       "      <td>709</td>\n",
       "    </tr>\n",
       "    <tr>\n",
       "      <th>120</th>\n",
       "      <td>J.K. Rowling</td>\n",
       "      <td>https://storage.googleapis.com/du-prd/books/im...</td>\n",
       "      <td></td>\n",
       "      <td>by J.K. Rowling</td>\n",
       "      <td></td>\n",
       "      <td>2022-10-19 22:22:21</td>\n",
       "      <td>A wizard hones his conjuring skills in the ser...</td>\n",
       "      <td>0.00</td>\n",
       "      <td>054579143X</td>\n",
       "      <td>9780545791434</td>\n",
       "      <td>Scholastic</td>\n",
       "      <td>1</td>\n",
       "      <td>2</td>\n",
       "      <td></td>\n",
       "      <td>HARRY POTTER</td>\n",
       "      <td>2022-10-19 22:26:43</td>\n",
       "      <td>708</td>\n",
       "    </tr>\n",
       "    <tr>\n",
       "      <th>127</th>\n",
       "      <td>Rick Riordan</td>\n",
       "      <td>https://storage.googleapis.com/du-prd/books/im...</td>\n",
       "      <td></td>\n",
       "      <td>by Rick Riordan</td>\n",
       "      <td></td>\n",
       "      <td>2022-10-19 22:22:22</td>\n",
       "      <td>A boy battles mythological monsters.</td>\n",
       "      <td>0.00</td>\n",
       "      <td>1484707230</td>\n",
       "      <td>9781484707234</td>\n",
       "      <td>Disney-Hyperion</td>\n",
       "      <td>8</td>\n",
       "      <td>8</td>\n",
       "      <td>https://www.nytimes.com/2009/05/31/books/revie...</td>\n",
       "      <td>PERCY JACKSON &amp; THE OLYMPIANS</td>\n",
       "      <td>2022-10-19 22:26:43</td>\n",
       "      <td>644</td>\n",
       "    </tr>\n",
       "    <tr>\n",
       "      <th>103</th>\n",
       "      <td>R.J. Palacio</td>\n",
       "      <td>https://storage.googleapis.com/du-prd/books/im...</td>\n",
       "      <td></td>\n",
       "      <td>by R.J. Palacio</td>\n",
       "      <td></td>\n",
       "      <td>2022-10-19 22:22:22</td>\n",
       "      <td>A boy with a facial deformity starts school.</td>\n",
       "      <td>0.00</td>\n",
       "      <td>0375869026</td>\n",
       "      <td>9780375869020</td>\n",
       "      <td>Knopf</td>\n",
       "      <td>4</td>\n",
       "      <td>4</td>\n",
       "      <td>https://www.nytimes.com/2012/04/08/books/revie...</td>\n",
       "      <td>WONDER</td>\n",
       "      <td>2022-10-19 22:26:44</td>\n",
       "      <td>366</td>\n",
       "    </tr>\n",
       "    <tr>\n",
       "      <th>82</th>\n",
       "      <td>Daniel Kahneman</td>\n",
       "      <td>https://storage.googleapis.com/du-prd/books/im...</td>\n",
       "      <td>https://www.nytimes.com/2011/11/27/books/revie...</td>\n",
       "      <td>by Daniel Kahneman</td>\n",
       "      <td></td>\n",
       "      <td>2022-10-19 22:22:26</td>\n",
       "      <td>When we can and cannot trust our intuitions in...</td>\n",
       "      <td>0.00</td>\n",
       "      <td>0374533555</td>\n",
       "      <td>9780374533557</td>\n",
       "      <td>Farrar, Straus &amp; Giroux</td>\n",
       "      <td>8</td>\n",
       "      <td>10</td>\n",
       "      <td>https://www.nytimes.com/2011/11/27/books/revie...</td>\n",
       "      <td>THINKING, FAST AND SLOW</td>\n",
       "      <td>2022-10-19 22:26:47</td>\n",
       "      <td>337</td>\n",
       "    </tr>\n",
       "    <tr>\n",
       "      <th>...</th>\n",
       "      <td>...</td>\n",
       "      <td>...</td>\n",
       "      <td>...</td>\n",
       "      <td>...</td>\n",
       "      <td>...</td>\n",
       "      <td>...</td>\n",
       "      <td>...</td>\n",
       "      <td>...</td>\n",
       "      <td>...</td>\n",
       "      <td>...</td>\n",
       "      <td>...</td>\n",
       "      <td>...</td>\n",
       "      <td>...</td>\n",
       "      <td>...</td>\n",
       "      <td>...</td>\n",
       "      <td>...</td>\n",
       "      <td>...</td>\n",
       "    </tr>\n",
       "    <tr>\n",
       "      <th>217</th>\n",
       "      <td>Lynda Mullaly Hunt</td>\n",
       "      <td>https://storage.googleapis.com/du-prd/books/im...</td>\n",
       "      <td></td>\n",
       "      <td>by Lynda Mullaly Hunt</td>\n",
       "      <td></td>\n",
       "      <td>2022-10-05 22:58:10</td>\n",
       "      <td></td>\n",
       "      <td>0.00</td>\n",
       "      <td>0142426423</td>\n",
       "      <td>9780142426425</td>\n",
       "      <td>Nancy Paulsen</td>\n",
       "      <td>8</td>\n",
       "      <td>0</td>\n",
       "      <td></td>\n",
       "      <td>FISH IN A TREE</td>\n",
       "      <td>2022-10-05 22:58:10</td>\n",
       "      <td>0</td>\n",
       "    </tr>\n",
       "    <tr>\n",
       "      <th>216</th>\n",
       "      <td>Rosanne Parry.</td>\n",
       "      <td>https://storage.googleapis.com/du-prd/books/im...</td>\n",
       "      <td></td>\n",
       "      <td>by Rosanne Parry. Illustrated by Mónica Armiño</td>\n",
       "      <td>Illustrated by Mónica Armiño</td>\n",
       "      <td>2022-10-05 22:58:10</td>\n",
       "      <td></td>\n",
       "      <td>0.00</td>\n",
       "      <td>006289594X</td>\n",
       "      <td>9780062895943</td>\n",
       "      <td>Greenwillow</td>\n",
       "      <td>7</td>\n",
       "      <td>0</td>\n",
       "      <td></td>\n",
       "      <td>A WOLF CALLED WANDER</td>\n",
       "      <td>2022-10-05 22:58:10</td>\n",
       "      <td>0</td>\n",
       "    </tr>\n",
       "    <tr>\n",
       "      <th>223</th>\n",
       "      <td>Kathleen Glasgow</td>\n",
       "      <td>https://storage.googleapis.com/du-prd/books/im...</td>\n",
       "      <td></td>\n",
       "      <td>by Kathleen Glasgow</td>\n",
       "      <td></td>\n",
       "      <td>2022-10-05 22:58:17</td>\n",
       "      <td></td>\n",
       "      <td>0.00</td>\n",
       "      <td>1101934743</td>\n",
       "      <td>9781101934746</td>\n",
       "      <td>Ember</td>\n",
       "      <td>4</td>\n",
       "      <td>0</td>\n",
       "      <td></td>\n",
       "      <td>GIRL IN PIECES</td>\n",
       "      <td>2022-10-05 22:58:17</td>\n",
       "      <td>0</td>\n",
       "    </tr>\n",
       "    <tr>\n",
       "      <th>215</th>\n",
       "      <td>Barbara O'Connor</td>\n",
       "      <td>https://storage.googleapis.com/du-prd/books/im...</td>\n",
       "      <td></td>\n",
       "      <td>by Barbara O'Connor</td>\n",
       "      <td></td>\n",
       "      <td>2022-10-05 22:58:10</td>\n",
       "      <td></td>\n",
       "      <td>0.00</td>\n",
       "      <td>1250144051</td>\n",
       "      <td>9781250144058</td>\n",
       "      <td>Square Fish</td>\n",
       "      <td>6</td>\n",
       "      <td>0</td>\n",
       "      <td></td>\n",
       "      <td>WISH</td>\n",
       "      <td>2022-10-05 22:58:10</td>\n",
       "      <td>0</td>\n",
       "    </tr>\n",
       "    <tr>\n",
       "      <th>229</th>\n",
       "      <td>Mary E. Pearson</td>\n",
       "      <td>https://storage.googleapis.com/du-prd/books/im...</td>\n",
       "      <td></td>\n",
       "      <td>by Mary E. Pearson</td>\n",
       "      <td></td>\n",
       "      <td>2022-10-05 22:58:17</td>\n",
       "      <td></td>\n",
       "      <td>0.00</td>\n",
       "      <td>1250308976</td>\n",
       "      <td>9781250308979</td>\n",
       "      <td>Square Fish</td>\n",
       "      <td>10</td>\n",
       "      <td>0</td>\n",
       "      <td></td>\n",
       "      <td>DANCE OF THIEVES</td>\n",
       "      <td>2022-10-05 22:58:17</td>\n",
       "      <td>0</td>\n",
       "    </tr>\n",
       "  </tbody>\n",
       "</table>\n",
       "<p>177 rows × 17 columns</p>\n",
       "</div>"
      ],
      "text/plain": [
       "                 author                                         book_image  \\\n",
       "121   and   Jeff Kinney  https://storage.googleapis.com/du-prd/books/im...   \n",
       "120        J.K. Rowling  https://storage.googleapis.com/du-prd/books/im...   \n",
       "127        Rick Riordan  https://storage.googleapis.com/du-prd/books/im...   \n",
       "103        R.J. Palacio  https://storage.googleapis.com/du-prd/books/im...   \n",
       "82      Daniel Kahneman  https://storage.googleapis.com/du-prd/books/im...   \n",
       "..                  ...                                                ...   \n",
       "217  Lynda Mullaly Hunt  https://storage.googleapis.com/du-prd/books/im...   \n",
       "216      Rosanne Parry.  https://storage.googleapis.com/du-prd/books/im...   \n",
       "223    Kathleen Glasgow  https://storage.googleapis.com/du-prd/books/im...   \n",
       "215    Barbara O'Connor  https://storage.googleapis.com/du-prd/books/im...   \n",
       "229     Mary E. Pearson  https://storage.googleapis.com/du-prd/books/im...   \n",
       "\n",
       "                                      book_review_link  \\\n",
       "121                                                      \n",
       "120                                                      \n",
       "127                                                      \n",
       "103                                                      \n",
       "82   https://www.nytimes.com/2011/11/27/books/revie...   \n",
       "..                                                 ...   \n",
       "217                                                      \n",
       "216                                                      \n",
       "223                                                      \n",
       "215                                                      \n",
       "229                                                      \n",
       "\n",
       "                                        contributor  \\\n",
       "121          written and illustrated by Jeff Kinney   \n",
       "120                                 by J.K. Rowling   \n",
       "127                                 by Rick Riordan   \n",
       "103                                 by R.J. Palacio   \n",
       "82                               by Daniel Kahneman   \n",
       "..                                              ...   \n",
       "217                           by Lynda Mullaly Hunt   \n",
       "216  by Rosanne Parry. Illustrated by Mónica Armiño   \n",
       "223                             by Kathleen Glasgow   \n",
       "215                             by Barbara O'Connor   \n",
       "229                              by Mary E. Pearson   \n",
       "\n",
       "                           contributor_note         created_date  \\\n",
       "121  written and illustrated by Jeff Kinney  2022-10-19 22:22:21   \n",
       "120                                          2022-10-19 22:22:21   \n",
       "127                                          2022-10-19 22:22:22   \n",
       "103                                          2022-10-19 22:22:22   \n",
       "82                                           2022-10-19 22:22:26   \n",
       "..                                      ...                  ...   \n",
       "217                                          2022-10-05 22:58:10   \n",
       "216            Illustrated by Mónica Armiño  2022-10-05 22:58:10   \n",
       "223                                          2022-10-05 22:58:17   \n",
       "215                                          2022-10-05 22:58:10   \n",
       "229                                          2022-10-05 22:58:17   \n",
       "\n",
       "                                           description price primary_isbn10  \\\n",
       "121        The travails and challenges of adolescence.  0.00     1419749153   \n",
       "120  A wizard hones his conjuring skills in the ser...  0.00     054579143X   \n",
       "127               A boy battles mythological monsters.  0.00     1484707230   \n",
       "103       A boy with a facial deformity starts school.  0.00     0375869026   \n",
       "82   When we can and cannot trust our intuitions in...  0.00     0374533555   \n",
       "..                                                 ...   ...            ...   \n",
       "217                                                     0.00     0142426423   \n",
       "216                                                     0.00     006289594X   \n",
       "223                                                     0.00     1101934743   \n",
       "215                                                     0.00     1250144051   \n",
       "229                                                     0.00     1250308976   \n",
       "\n",
       "              isbn                publisher  rank  rank_last_week  \\\n",
       "121  9781419749155                   Amulet     2               1   \n",
       "120  9780545791434               Scholastic     1               2   \n",
       "127  9781484707234          Disney-Hyperion     8               8   \n",
       "103  9780375869020                    Knopf     4               4   \n",
       "82   9780374533557  Farrar, Straus & Giroux     8              10   \n",
       "..             ...                      ...   ...             ...   \n",
       "217  9780142426425            Nancy Paulsen     8               0   \n",
       "216  9780062895943              Greenwillow     7               0   \n",
       "223  9781101934746                    Ember     4               0   \n",
       "215  9781250144058              Square Fish     6               0   \n",
       "229  9781250308979              Square Fish    10               0   \n",
       "\n",
       "                                    sunday_review_link  \\\n",
       "121                                                      \n",
       "120                                                      \n",
       "127  https://www.nytimes.com/2009/05/31/books/revie...   \n",
       "103  https://www.nytimes.com/2012/04/08/books/revie...   \n",
       "82   https://www.nytimes.com/2011/11/27/books/revie...   \n",
       "..                                                 ...   \n",
       "217                                                      \n",
       "216                                                      \n",
       "223                                                      \n",
       "215                                                      \n",
       "229                                                      \n",
       "\n",
       "                             title         updated_date  weeks_on_list  \n",
       "121           DIARY OF A WIMPY KID  2022-10-19 22:26:43            709  \n",
       "120                   HARRY POTTER  2022-10-19 22:26:43            708  \n",
       "127  PERCY JACKSON & THE OLYMPIANS  2022-10-19 22:26:43            644  \n",
       "103                         WONDER  2022-10-19 22:26:44            366  \n",
       "82         THINKING, FAST AND SLOW  2022-10-19 22:26:47            337  \n",
       "..                             ...                  ...            ...  \n",
       "217                 FISH IN A TREE  2022-10-05 22:58:10              0  \n",
       "216           A WOLF CALLED WANDER  2022-10-05 22:58:10              0  \n",
       "223                 GIRL IN PIECES  2022-10-05 22:58:17              0  \n",
       "215                           WISH  2022-10-05 22:58:10              0  \n",
       "229               DANCE OF THIEVES  2022-10-05 22:58:17              0  \n",
       "\n",
       "[177 rows x 17 columns]"
      ]
     },
     "execution_count": 365,
     "metadata": {},
     "output_type": "execute_result"
    }
   ],
   "source": [
    "df_bestsellernyt\n"
   ]
  },
  {
   "cell_type": "code",
   "execution_count": null,
   "metadata": {},
   "outputs": [],
   "source": []
  }
 ],
 "metadata": {
  "kernelspec": {
   "display_name": "Python 3 (ipykernel)",
   "language": "python",
   "name": "python3"
  },
  "language_info": {
   "codemirror_mode": {
    "name": "ipython",
    "version": 3
   },
   "file_extension": ".py",
   "mimetype": "text/x-python",
   "name": "python",
   "nbconvert_exporter": "python",
   "pygments_lexer": "ipython3",
   "version": "3.9.13"
  },
  "vscode": {
   "interpreter": {
    "hash": "f675732d597f42bb0438ce2c5e2877b55acd9e5ba267d3e24f04094c82602a22"
   }
  }
 },
 "nbformat": 4,
 "nbformat_minor": 2
}
